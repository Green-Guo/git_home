{
 "cells": [
  {
   "cell_type": "markdown",
   "metadata": {},
   "source": [
    "# Text Analytics HW1\n",
    "Billy Yuan, Nikita Lakhotia, Stuti Madaan, Tyler Nicholas, Wenduo Wang"
   ]
  },
  {
   "cell_type": "markdown",
   "metadata": {},
   "source": [
    "**I ONLY USED THE FIRST 2000 JOB DESCRIPTIONS FOR TESTING. IF THIS ALL LOOKS GOOD TO YOU, WE CAN RUN IT OVERNIGHT USING ALL OF THE WORDS. HOWEVER, THE ACCURACY DOESNT SEEM TO IMPROVE AFTER 2000 WORDS.**"
   ]
  },
  {
   "cell_type": "markdown",
   "metadata": {},
   "source": [
    "### Import packages and set up data"
   ]
  },
  {
   "cell_type": "code",
   "execution_count": 1,
   "metadata": {
    "collapsed": false
   },
   "outputs": [],
   "source": [
    "import pandas as pd\n",
    "import numpy as np\n",
    "%matplotlib inline\n",
    "import matplotlib.pyplot as plt\n",
    "import nltk as nltk\n",
    "\n",
    "from sklearn.cross_validation import train_test_split\n",
    "\n",
    "from collections import Counter\n",
    "\n",
    "from nltk import word_tokenize\n",
    "from nltk.corpus import stopwords\n",
    "from nltk.stem import WordNetLemmatizer\n",
    "from nltk.tokenize import RegexpTokenizer\n",
    "from nltk.metrics import ConfusionMatrix\n",
    "from nltk import bigrams\n",
    "from nltk import trigrams\n",
    "from nltk import ngrams\n",
    "\n",
    "WL = WordNetLemmatizer()"
   ]
  },
  {
   "cell_type": "code",
   "execution_count": 2,
   "metadata": {
    "collapsed": false
   },
   "outputs": [],
   "source": [
    "# Helper function to tokenize \n",
    "regex_tok = RegexpTokenizer(r\"[\\w]+\")"
   ]
  },
  {
   "cell_type": "code",
   "execution_count": 3,
   "metadata": {
    "collapsed": true
   },
   "outputs": [],
   "source": [
    "# Read data\n",
    "data = pd.read_csv(\"Train_rev1.csv\")"
   ]
  },
  {
   "cell_type": "code",
   "execution_count": 4,
   "metadata": {
    "collapsed": true
   },
   "outputs": [],
   "source": [
    "# Create series of only the job descriptions\n",
    "job_description = data[\"FullDescription\"]"
   ]
  },
  {
   "cell_type": "code",
   "execution_count": 5,
   "metadata": {
    "collapsed": false
   },
   "outputs": [
    {
     "name": "stdout",
     "output_type": "stream",
     "text": [
      "42500.0\n"
     ]
    }
   ],
   "source": [
    "# Calculate 75th percentile salary and store this value\n",
    "salary_75_percentile = np.percentile(data['SalaryNormalized'].tolist(),75)\n",
    "print salary_75_percentile"
   ]
  },
  {
   "cell_type": "code",
   "execution_count": 6,
   "metadata": {
    "collapsed": true
   },
   "outputs": [],
   "source": [
    "# Create target column\n",
    "def over_75(salary):\n",
    "    if salary >= salary_75_percentile:\n",
    "        return \"high\"\n",
    "    else:\n",
    "        return \"low\"\n",
    "\n",
    "data['target'] = data['SalaryNormalized'].map(over_75)"
   ]
  },
  {
   "cell_type": "code",
   "execution_count": 7,
   "metadata": {
    "collapsed": false
   },
   "outputs": [],
   "source": [
    "# Create list of tokenized words\n",
    "tokenized = [regex_tok.tokenize(job_description[i].decode('utf-8')) for i in range(0,len(job_description))]"
   ]
  },
  {
   "cell_type": "code",
   "execution_count": 8,
   "metadata": {
    "collapsed": false
   },
   "outputs": [
    {
     "data": {
      "text/plain": [
       "[u'Stress',\n",
       " u'Engineer',\n",
       " u'Glasgow',\n",
       " u'Salary',\n",
       " u'to',\n",
       " u'We',\n",
       " u're',\n",
       " u'currently',\n",
       " u'looking',\n",
       " u'for']"
      ]
     },
     "execution_count": 8,
     "metadata": {},
     "output_type": "execute_result"
    }
   ],
   "source": [
    "# Sample of how 'tokenized' looks\n",
    "tokenized[1][:10]"
   ]
  },
  {
   "cell_type": "code",
   "execution_count": 9,
   "metadata": {
    "collapsed": true
   },
   "outputs": [],
   "source": [
    "def bigram_features(job_desc):\n",
    "    text = nltk.word_tokenize(job_desc)\n",
    "    bi_text = bigrams(text)\n",
    "    pos_text = nltk.pos_tag(text)\n",
    "    new_list = []\n",
    "    for item in pos_text:\n",
    "        item = item[1]\n",
    "        new_list.append(item)\n",
    "    bi_text = bigrams(new_list)\n",
    "    bigram_counter = Counter(bi_text)\n",
    "    token_counter = Counter(text)\n",
    "    for item in bigram_counter:\n",
    "        token_counter[item] = bigram_counter[item]\n",
    "    return dict(token_counter)"
   ]
  },
  {
   "cell_type": "code",
   "execution_count": 10,
   "metadata": {
    "collapsed": true
   },
   "outputs": [],
   "source": [
    "def data_refine(job_desc, process_type):\n",
    "    \n",
    "    # Remove stop words\n",
    "    if process_type == \"remove_stop\":\n",
    "        no_stop_words_list = []\n",
    "        for item in tokenized[:len(job_desc)]:\n",
    "            stopwords = nltk.corpus.stopwords.words('english')\n",
    "            content = [w for w in item if w.lower() not in stopwords]\n",
    "            no_stop_words_list.append(Counter(content)) # word count dict of every job desc. without stopwords\n",
    "        # Create feature list (list of tuples)\n",
    "        no_stop_features = [(dict(no_stop_words_list[i]),data['target'][i]) for i in range(0,len(job_desc))]\n",
    "        \n",
    "        return no_stop_features\n",
    "    \n",
    "    elif process_type == \"lem\":\n",
    "        # tokenized list after lemmatization. The freq. counts of this will be our features\n",
    "        lem_list= []\n",
    "        \n",
    "        for item in tokenized[:len(job_desc)]: # debug\n",
    "            lemmatized_words = []\n",
    "            for word in item:\n",
    "                lemmatized_words.append((WL.lemmatize(word)))\n",
    "            lem_list.append(lemmatized_words)\n",
    "        \n",
    "        lem_features = [(dict(Counter(lem_list[i])),data['target'][i]) for i in range(0,len(job_desc))]\n",
    "        \n",
    "        return lem_features\n",
    "\n",
    "    elif process_type == \"bigram\":\n",
    "        bigram_list = []\n",
    "        for i in range(0,len(job_desc)):\n",
    "            bigram_list.append((bigram_features(\" \".join(tokenized[i])),data['target'][i]))\n",
    "        return bigram_list\n",
    "    else:\n",
    "        return [(dict(Counter(tokenized[i])),data['target'][i]) for i in range(0,len(tokenized))]\n",
    "        "
   ]
  },
  {
   "cell_type": "markdown",
   "metadata": {},
   "source": [
    "## Part A"
   ]
  },
  {
   "cell_type": "markdown",
   "metadata": {},
   "source": [
    "### A1\n",
    "What are the top 5 parts of speech in this corpus of job descriptions? How frequently do they\n",
    "appear?\n",
    "\n",
    "PUTTING A POS TO EVERY WORD IN THE CORPUS TAKES A VERY LONG TIME"
   ]
  },
  {
   "cell_type": "code",
   "execution_count": 11,
   "metadata": {
    "collapsed": false
   },
   "outputs": [
    {
     "data": {
      "text/plain": [
       "[('NN', 35127), ('NNP', 31586), ('IN', 22680), ('JJ', 17515), ('DT', 16934)]"
      ]
     },
     "execution_count": 11,
     "metadata": {},
     "output_type": "execute_result"
    }
   ],
   "source": [
    "pos_token = [nltk.pos_tag(tokenized[i]) for i in range(0,len(tokenized[:1000]))]\n",
    "a1_list = []\n",
    "for item in pos_token:\n",
    "    help_list = []\n",
    "    for tup_1 in item:\n",
    "        help_list.append(tup_1[1])\n",
    "    a1_list.append(Counter(help_list))\n",
    "\n",
    "most_common_pos = a1_list[0]\n",
    "\n",
    "for i in range(1,len(a1_list)):\n",
    "    most_common_pos += a1_list[i]\n",
    "\n",
    "most_common_pos.most_common()[:5]"
   ]
  },
  {
   "cell_type": "markdown",
   "metadata": {},
   "source": [
    "### A2\n",
    "Does this corpus support Zipf’s law? Plot the most common 100 words in the corpus against the\n",
    "theoretical prediction of the law. For this question, do not remove stopwords. Also do not perform\n",
    "stemming or lemmatization."
   ]
  },
  {
   "cell_type": "code",
   "execution_count": 13,
   "metadata": {
    "collapsed": true
   },
   "outputs": [],
   "source": [
    "tokenized_all = []\n",
    "# take out the [:10] once we submit the final hw. I put it here cuz it took too long to run\n",
    "for item in tokenized[:2000]: \n",
    "    tokenized_all += item"
   ]
  },
  {
   "cell_type": "code",
   "execution_count": 15,
   "metadata": {
    "collapsed": false
   },
   "outputs": [
    {
     "name": "stdout",
     "output_type": "stream",
     "text": [
      "and: 16166\n",
      "to: 12624\n",
      "the: 11223\n",
      "a: 11193\n",
      "of: 8753\n",
      "in: 7618\n",
      "for: 6993\n",
      "with: 5055\n",
      "is: 5005\n",
      "be: 4164\n",
      "will: 4122\n",
      "care: 3999\n",
      "are: 3706\n",
      "you: 3198\n",
      "an: 2874\n",
      "The: 2804\n",
      "or: 2778\n",
      "on: 2717\n",
      "as: 2520\n",
      "have: 2496\n",
      "experience: 2441\n",
      "home: 2200\n",
      "work: 2187\n",
      "your: 2105\n",
      "Manager: 2086\n",
      "this: 2077\n",
      "within: 1937\n",
      "Nurse: 1872\n",
      "Care: 1822\n",
      "Home: 1788\n",
      "working: 1716\n",
      "role: 1691\n",
      "nursing: 1680\n",
      "looking: 1507\n",
      "their: 1493\n",
      "team: 1464\n",
      "RGN: 1383\n",
      "at: 1320\n",
      "You: 1305\n",
      "who: 1240\n",
      "We: 1226\n",
      "service: 1190\n",
      "please: 1146\n",
      "Nursing: 1124\n",
      "all: 1113\n",
      "apply: 1095\n",
      "support: 1084\n",
      "required: 1080\n",
      "Registered: 1060\n",
      "per: 1060\n",
      "client: 1037\n",
      "that: 1036\n",
      "To: 1035\n",
      "skills: 939\n",
      "This: 938\n",
      "If: 913\n",
      "we: 910\n",
      "s: 887\n",
      "CV: 861\n",
      "staff: 854\n",
      "from: 848\n",
      "must: 810\n",
      "experienced: 808\n",
      "RMN: 800\n",
      "excellent: 791\n",
      "our: 790\n",
      "opportunity: 785\n",
      "training: 777\n",
      "hours: 768\n",
      "elderly: 749\n",
      "Recruitment: 747\n",
      "people: 724\n",
      "needs: 676\n",
      "Job: 673\n",
      "successful: 666\n",
      "candidate: 647\n",
      "qualified: 647\n",
      "time: 643\n",
      "part: 643\n",
      "by: 635\n",
      "A: 632\n",
      "provide: 632\n",
      "has: 622\n",
      "full: 616\n",
      "management: 616\n",
      "high: 614\n",
      "UK: 613\n",
      "hour: 590\n",
      "In: 586\n",
      "quality: 572\n",
      "more: 566\n",
      "also: 563\n",
      "Support: 563\n",
      "including: 560\n",
      "residents: 557\n",
      "position: 557\n",
      "would: 557\n",
      "environment: 556\n",
      "today: 556\n",
      "own: 553\n"
     ]
    }
   ],
   "source": [
    "top_100_words = Counter(tokenized_all).most_common()[:100]\n",
    "word_list = [word[0] for word in top_100_words]\n",
    "freq_list = [word[1] for word in top_100_words]\n",
    "rank_list = [i for i in range(1,len(top_100_words)+1)]\n",
    "\n",
    "for i in range(0,len(top_100_words)):\n",
    "    print \"{}: {}\".format(word_list[i],freq_list[i])"
   ]
  },
  {
   "cell_type": "code",
   "execution_count": 16,
   "metadata": {
    "collapsed": false
   },
   "outputs": [
    {
     "data": {
      "image/png": "[encoded data removed]",
      "text/plain": [
       "<matplotlib.figure.Figure at 0x241cce1d0>"
      ]
     },
     "metadata": {},
     "output_type": "display_data"
    }
   ],
   "source": [
    "plt.plot(rank_list, freq_list)\n",
    "plt.title(\"Zipf's Law\")\n",
    "plt.xlabel('Word Rank')\n",
    "plt.ylabel('Frequency')\n",
    "plt.show()"
   ]
  },
  {
   "cell_type": "markdown",
   "metadata": {},
   "source": [
    "### A3\n",
    "If we remove stopwords and lemmatize the corpus, what are the 10 most common words? What is\n",
    "their frequency?"
   ]
  },
  {
   "cell_type": "code",
   "execution_count": 18,
   "metadata": {
    "collapsed": false
   },
   "outputs": [
    {
     "data": {
      "text/plain": [
       "[(u'and', 84),\n",
       " (u'to', 60),\n",
       " (u'a', 54),\n",
       " (u'the', 38),\n",
       " (u'in', 28),\n",
       " (u'for', 24),\n",
       " (u'of', 24),\n",
       " (u'be', 22),\n",
       " (u'will', 20),\n",
       " (u'Engineering', 20)]"
      ]
     },
     "execution_count": 18,
     "metadata": {},
     "output_type": "execute_result"
    }
   ],
   "source": [
    "lem_words = [WL.lemmatize(word) for word in tokenized_all[:2000]]\n",
    "Counter(lem_words).most_common()[:10]"
   ]
  },
  {
   "cell_type": "markdown",
   "metadata": {},
   "source": [
    "## Part B"
   ]
  },
  {
   "cell_type": "markdown",
   "metadata": {},
   "source": [
    "We built a function that formats our feature set. The 4 choices are:\n",
    "\n",
    "```python\n",
    "process_type = \"remove stop\" # remove stop words\n",
    "process_type = \"lem\" # lemmatize\n",
    "process_type = \"bigram\" # convert to POS bigram\n",
    "process_type = \"none\" # no additional processing\n",
    "```"
   ]
  },
  {
   "cell_type": "markdown",
   "metadata": {},
   "source": [
    "### B1\n",
    "Create a classification model with all words and the bag-of-words approach. How accurate is the\n",
    "model (show the confusion matrix)?"
   ]
  },
  {
   "cell_type": "code",
   "execution_count": 19,
   "metadata": {
    "collapsed": true
   },
   "outputs": [],
   "source": [
    "b1_features = data_refine(job_description[:2000],\"none\") # create features\n",
    "train_set_b1, test_set_b1 = train_test_split(b1_features, test_size = 0.3, random_state=128) # create test/train\n",
    "classifier_b1 = nltk.NaiveBayesClassifier.train(train_set_b1)"
   ]
  },
  {
   "cell_type": "code",
   "execution_count": 20,
   "metadata": {
    "collapsed": false
   },
   "outputs": [
    {
     "name": "stdout",
     "output_type": "stream",
     "text": [
      "Accuracy with Bag of Words: 0.752447876238\n"
     ]
    }
   ],
   "source": [
    "print(\"Accuracy with Bag of Words: {}\".format(nltk.classify.accuracy(classifier_b1, test_set_b1)))"
   ]
  },
  {
   "cell_type": "code",
   "execution_count": 21,
   "metadata": {
    "collapsed": false
   },
   "outputs": [],
   "source": [
    "# Build lists for predictions and actuals for confusion matrix\n",
    "predict_b1 = [classifier_b1.classify(test_set_b1[i][0]) for i in range(0,len(test_set_b1))]\n",
    "actual_b1 = [test_set_b1[i][1] for i in range(0,len(test_set_b1))] "
   ]
  },
  {
   "cell_type": "code",
   "execution_count": 22,
   "metadata": {
    "collapsed": false
   },
   "outputs": [
    {
     "name": "stdout",
     "output_type": "stream",
     "text": [
      "     |     h       |\n",
      "     |     i     l |\n",
      "     |     g     o |\n",
      "     |     h     w |\n",
      "-----+-------------+\n",
      "high |<16574>16156 |\n",
      " low |  2022<38679>|\n",
      "-----+-------------+\n",
      "(row = reference; col = test)\n",
      "\n"
     ]
    }
   ],
   "source": [
    "print ConfusionMatrix(predict_b1,actual_b1)"
   ]
  },
  {
   "cell_type": "markdown",
   "metadata": {},
   "source": [
    "### B2\n",
    "Speculate before running the following analysis whether lemmatization would help improve the\n",
    "accuracy of classification. Now create a classification model after lemmatization. Did the classification\n",
    "accuracy increase relative to B1? Comment on your speculation versus the actual results you obtained."
   ]
  },
  {
   "cell_type": "code",
   "execution_count": 23,
   "metadata": {
    "collapsed": false
   },
   "outputs": [],
   "source": [
    "b2_features = data_refine(job_description[:2000],\"lem\")\n",
    "train_set_b2, test_set_b2 = train_test_split(b2_features, test_size = 0.3, random_state=128)\n",
    "classifier_b2 = nltk.NaiveBayesClassifier.train(train_set_b2)"
   ]
  },
  {
   "cell_type": "code",
   "execution_count": 24,
   "metadata": {
    "collapsed": false
   },
   "outputs": [
    {
     "name": "stdout",
     "output_type": "stream",
     "text": [
      "Accuracy with lemmatization: 0.833333333333\n"
     ]
    }
   ],
   "source": [
    "print(\"Accuracy with lemmatization: {}\".format(nltk.classify.accuracy(classifier_b2, test_set_b2)))"
   ]
  },
  {
   "cell_type": "markdown",
   "metadata": {},
   "source": [
    "### B3\n",
    "Now speculate whether stopwords removal from the original data would help increase the accuracy\n",
    "of the model. Take out the stopwords (but do not lemmatize), build a classification model and check the\n",
    "accuracy, and compare with that in B1 & B2.\n",
    "\n",
    "Also show the top 10 words (excluding stopwords) that are most indicative of (i) high salary, and (ii) low\n",
    "salary."
   ]
  },
  {
   "cell_type": "code",
   "execution_count": 25,
   "metadata": {
    "collapsed": false
   },
   "outputs": [],
   "source": [
    "b3_features = data_refine(job_description[:2000], \"remove_stop\")\n",
    "train_set_b3, test_set_b3 = train_test_split(b3_features, test_size = 0.3, random_state=128)\n",
    "classifier_b3 = nltk.NaiveBayesClassifier.train(train_set_b3)"
   ]
  },
  {
   "cell_type": "code",
   "execution_count": 26,
   "metadata": {
    "collapsed": false
   },
   "outputs": [
    {
     "name": "stdout",
     "output_type": "stream",
     "text": [
      "Accuracy with stopwords removal: 0.806666666667\n"
     ]
    }
   ],
   "source": [
    "print(\"Accuracy with stopwords removal: {}\".format(nltk.classify.accuracy(classifier_b3, test_set_b3)))"
   ]
  },
  {
   "cell_type": "code",
   "execution_count": 28,
   "metadata": {
    "collapsed": false
   },
   "outputs": [
    {
     "name": "stdout",
     "output_type": "stream",
     "text": [
      "Most Informative Features\n",
      "                   adhoc = 1                high : low    =     31.2 : 1.0\n",
      "                   Refer = 1                high : low    =     24.9 : 1.0\n",
      "                  RELIEF = 1                high : low    =     24.9 : 1.0\n",
      "                   diary = 1                high : low    =     24.9 : 1.0\n",
      "             leadingedge = 1                high : low    =     24.9 : 1.0\n",
      "              maximising = 1                high : low    =     24.9 : 1.0\n",
      "           Practitioners = 3                high : low    =     24.7 : 1.0\n",
      "           Practitioners = 2                high : low    =     24.7 : 1.0\n",
      "                 Michael = 1                high : low    =     22.3 : 1.0\n",
      "           organisations = 1                high : low    =     20.4 : 1.0\n",
      "               overnight = 1                high : low    =     20.4 : 1.0\n",
      "                    Dave = 1                high : low    =     20.4 : 1.0\n",
      "                Langford = 1                high : low    =     20.4 : 1.0\n",
      "                 Reviews = 1                high : low    =     20.4 : 1.0\n",
      "             OPPORTUNITY = 1                high : low    =     20.4 : 1.0\n",
      "     dlangfordcompassltd = 1                high : low    =     20.4 : 1.0\n",
      "               challenge = 2                high : low    =     20.3 : 1.0\n",
      "               evolution = 1                high : low    =     20.3 : 1.0\n",
      "                 Council = 2                high : low    =     20.3 : 1.0\n",
      "               allocated = 2                high : low    =     20.3 : 1.0\n",
      "              Operations = 2                high : low    =     20.2 : 1.0\n",
      "              generation = 1                high : low    =     18.4 : 1.0\n",
      "              protection = 1                high : low    =     18.4 : 1.0\n",
      "             conferences = 1                high : low    =     17.6 : 1.0\n",
      "                  design = 2                high : low    =     17.4 : 1.0\n",
      "               interpret = 1                high : low    =     15.8 : 1.0\n",
      "                rotation = 1                high : low    =     15.8 : 1.0\n",
      "                    Walk = 1                high : low    =     15.8 : 1.0\n",
      "                      80 = 1                high : low    =     15.8 : 1.0\n",
      "              practising = 1                high : low    =     15.8 : 1.0\n",
      "None\n"
     ]
    }
   ],
   "source": [
    "most_important_features_b3 = classifier_b3.show_most_informative_features(30)\n",
    "\n",
    "# I don't know how to show top 10 for high and low\n",
    "print most_important_features_b3"
   ]
  },
  {
   "cell_type": "markdown",
   "metadata": {},
   "source": [
    "### B4\n",
    "Use the job descriptions without lemmatiztion and stopword removal. Add parts-of-speech bigrams\n",
    "to the bag-of-words, and run a new classification model. Does the accuracy increase over the results in\n",
    "B1?"
   ]
  },
  {
   "cell_type": "code",
   "execution_count": 29,
   "metadata": {
    "collapsed": true
   },
   "outputs": [],
   "source": [
    "b4_features = data_refine(job_description[:2000], \"bigram\")\n",
    "train_set_b4, test_set_b4 = train_test_split(b4_features, test_size = 0.3, random_state=128)\n",
    "classifier_b4 = nltk.NaiveBayesClassifier.train(train_set_b4)"
   ]
  },
  {
   "cell_type": "code",
   "execution_count": 30,
   "metadata": {
    "collapsed": false
   },
   "outputs": [
    {
     "name": "stdout",
     "output_type": "stream",
     "text": [
      "Accuracy with adding POS bigrams: 0.86\n"
     ]
    }
   ],
   "source": [
    "print(\"Accuracy with adding POS bigrams: {}\".format(nltk.classify.accuracy(classifier_b4, test_set_b4)))"
   ]
  }
 ],
 "metadata": {
  "kernelspec": {
   "display_name": "Python 2",
   "language": "python",
   "name": "python2"
  },
  "language_info": {
   "codemirror_mode": {
    "name": "ipython",
    "version": 2
   },
   "file_extension": ".py",
   "mimetype": "text/x-python",
   "name": "python",
   "nbconvert_exporter": "python",
   "pygments_lexer": "ipython2",
   "version": "2.7.11"
  }
 },
 "nbformat": 4,
 "nbformat_minor": 0
}
