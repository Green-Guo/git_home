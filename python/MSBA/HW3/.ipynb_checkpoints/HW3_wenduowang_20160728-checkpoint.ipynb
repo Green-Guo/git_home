{
 "cells": [
  {
   "cell_type": "code",
   "execution_count": 1,
   "metadata": {
    "collapsed": false
   },
   "outputs": [
    {
     "name": "stdout",
     "output_type": "stream",
     "text": [
      "Populating the interactive namespace from numpy and matplotlib\n"
     ]
    }
   ],
   "source": [
    "from pandas import Series, DataFrame\n",
    "import pandas as pd\n",
    "import warnings\n",
    "warnings.filterwarnings('ignore')\n",
    "%pylab inline"
   ]
  },
  {
   "cell_type": "markdown",
   "metadata": {},
   "source": [
    "## Question 1: Read in data"
   ]
  },
  {
   "cell_type": "markdown",
   "metadata": {},
   "source": [
    "Read in the data from \"gold.txt\" and \"labels.txt\".  \n",
    "Since there are no headers in the files, `names` parameter should be set explicitly."
   ]
  },
  {
   "cell_type": "code",
   "execution_count": 2,
   "metadata": {
    "collapsed": false
   },
   "outputs": [],
   "source": [
    "gold = pd.read_table(\"gold.txt\", names=[\"url\", \"category\"]).dropna().drop_duplicates()\n",
    "labels = pd.read_table(\"labels.txt\", names=[\"turk\", \"url\", \"category\"]).dropna().drop_duplicates()"
   ]
  },
  {
   "cell_type": "markdown",
   "metadata": {},
   "source": [
    "## Question 2: Split into two DataFrames"
   ]
  },
  {
   "cell_type": "markdown",
   "metadata": {},
   "source": [
    "To determine if a `url` in _labels_ is in _gold_, make a list of unique `url` in gold, and `map` the lambda expression on the `url` series in _labels_."
   ]
  },
  {
   "cell_type": "code",
   "execution_count": 3,
   "metadata": {
    "collapsed": false
   },
   "outputs": [],
   "source": [
    "url_list = gold[\"url\"].unique()\n",
    "labels_on_gold = labels[labels[\"url\"].map(lambda s: s in url_list)]\n",
    "labels_unknown = labels[labels[\"url\"].map(lambda s: s not in url_list)]"
   ]
  },
  {
   "cell_type": "markdown",
   "metadata": {},
   "source": [
    "## Question 3: Compute accuracies of turks"
   ]
  },
  {
   "cell_type": "markdown",
   "metadata": {},
   "source": [
    "1. Since the computation is all on \"gold\" set `url`, \"labels_on_gold\" dataframe is used instead of \"labels\"\n",
    "2. Merge \"labels_on_gold\" with \"gold\" on `url`.\n",
    "3. Create a new column `correct` in the new dataframe, and assign `True` where the \"turk\" rating is the same with the true rating.\n",
    "4. _Optional: drop the rating columns to reduce the size of the dataframe_\n",
    "5. `groupby` on `turk`, and sum up the `True` records on `correct` for each `turk`, the returned value is a series\n",
    "6. `value_counts` on `turk`, a series of total rating numbers is returned.\n",
    "7. Divide the previous two series to get the rating accuracy of each `turk`\n",
    "8. Create a new dataframe \"rater_goodness\" with the total rating number series and rating accuracy series, index by default set as `turk`"
   ]
  },
  {
   "cell_type": "code",
   "execution_count": 4,
   "metadata": {
    "collapsed": false
   },
   "outputs": [
    {
     "data": {
      "text/html": [
       "<div>\n",
       "<table border=\"1\" class=\"dataframe\">\n",
       "  <thead>\n",
       "    <tr style=\"text-align: right;\">\n",
       "      <th></th>\n",
       "      <th>average_correctness</th>\n",
       "      <th>number_of_ratings</th>\n",
       "    </tr>\n",
       "  </thead>\n",
       "  <tbody>\n",
       "    <tr>\n",
       "      <th>A112DVP1KG4QZU</th>\n",
       "      <td>1.000000</td>\n",
       "      <td>1</td>\n",
       "    </tr>\n",
       "    <tr>\n",
       "      <th>A1253FXHCZ9CWM</th>\n",
       "      <td>0.517241</td>\n",
       "      <td>29</td>\n",
       "    </tr>\n",
       "    <tr>\n",
       "      <th>A12CY1Q7XKJJDE</th>\n",
       "      <td>1.000000</td>\n",
       "      <td>1</td>\n",
       "    </tr>\n",
       "    <tr>\n",
       "      <th>A12RE8G66WTO8B</th>\n",
       "      <td>0.750000</td>\n",
       "      <td>20</td>\n",
       "    </tr>\n",
       "    <tr>\n",
       "      <th>A12Y1GTGIQDGRA</th>\n",
       "      <td>0.333333</td>\n",
       "      <td>3</td>\n",
       "    </tr>\n",
       "    <tr>\n",
       "      <th>A13CEW9JGDWGX1</th>\n",
       "      <td>1.000000</td>\n",
       "      <td>1</td>\n",
       "    </tr>\n",
       "    <tr>\n",
       "      <th>A13OE9GBRJ0S2U</th>\n",
       "      <td>0.750000</td>\n",
       "      <td>4</td>\n",
       "    </tr>\n",
       "    <tr>\n",
       "      <th>A14IQ4GLNWNPOJ</th>\n",
       "      <td>1.000000</td>\n",
       "      <td>1</td>\n",
       "    </tr>\n",
       "    <tr>\n",
       "      <th>A153PKAL7OAY36</th>\n",
       "      <td>0.722973</td>\n",
       "      <td>148</td>\n",
       "    </tr>\n",
       "    <tr>\n",
       "      <th>A1554ZM0CLKSG5</th>\n",
       "      <td>1.000000</td>\n",
       "      <td>1</td>\n",
       "    </tr>\n",
       "  </tbody>\n",
       "</table>\n",
       "</div>"
      ],
      "text/plain": [
       "                average_correctness  number_of_ratings\n",
       "A112DVP1KG4QZU             1.000000                  1\n",
       "A1253FXHCZ9CWM             0.517241                 29\n",
       "A12CY1Q7XKJJDE             1.000000                  1\n",
       "A12RE8G66WTO8B             0.750000                 20\n",
       "A12Y1GTGIQDGRA             0.333333                  3\n",
       "A13CEW9JGDWGX1             1.000000                  1\n",
       "A13OE9GBRJ0S2U             0.750000                  4\n",
       "A14IQ4GLNWNPOJ             1.000000                  1\n",
       "A153PKAL7OAY36             0.722973                148\n",
       "A1554ZM0CLKSG5             1.000000                  1"
      ]
     },
     "execution_count": 4,
     "metadata": {},
     "output_type": "execute_result"
    }
   ],
   "source": [
    "rater_merged = pd.merge(\n",
    "                    labels_on_gold,\n",
    "                    gold,\n",
    "                    left_on=\"url\",\n",
    "                    right_on=\"url\",\n",
    "                    suffixes=[\"_1\", \"_2\"]\n",
    "                )\n",
    "\n",
    "rater_merged[\"correct\"] = rater_merged[\"category_1\"] == rater_merged[\"category_2\"]\n",
    "rater_merged = rater_merged[[\"turk\", \"correct\"]]\n",
    "correct_counts = rater_merged.groupby(\"turk\")[\"correct\"].sum()\n",
    "total_counts = rater_merged[\"turk\"].value_counts()\n",
    "avg_correctness = correct_counts/total_counts\n",
    "rater_goodness = pd.DataFrame({\"number_of_ratings\": total_counts, \"average_correctness\": avg_correctness})\n",
    "rater_goodness[:10]"
   ]
  },
  {
   "cell_type": "markdown",
   "metadata": {},
   "source": [
    "## Question 4: Odds ratios"
   ]
  },
  {
   "cell_type": "markdown",
   "metadata": {},
   "source": [
    "1. Use \"map\" function on `average_correctness` to get $\\frac{average\\ correctness}{1 - average\\ correctness}$\n",
    "2. By definition, when `average_correctness` = 1, the ratio should be assigned `float(\"inf\")`"
   ]
  },
  {
   "cell_type": "code",
   "execution_count": 5,
   "metadata": {
    "collapsed": false
   },
   "outputs": [],
   "source": [
    "rater_goodness[\"odds\"] = rater_goodness[\"average_correctness\"].map(lambda x: x/(1-x) if x < 1 else float(\"inf\"))"
   ]
  },
  {
   "cell_type": "markdown",
   "metadata": {},
   "source": [
    "## Question 5: Most accurate turks"
   ]
  },
  {
   "cell_type": "markdown",
   "metadata": {},
   "source": [
    "1. Use `rater_goodness[\"number of ratings\"]>=20` to select turks who rated at least 20 times.\n",
    "2. Sort the list by `average_correctness` in descending order.\n",
    "3. `.index.values` is optional to return only turks, but for aesthetic reasons it is not applied."
   ]
  },
  {
   "cell_type": "code",
   "execution_count": 6,
   "metadata": {
    "collapsed": false
   },
   "outputs": [
    {
     "data": {
      "text/html": [
       "<div>\n",
       "<table border=\"1\" class=\"dataframe\">\n",
       "  <thead>\n",
       "    <tr style=\"text-align: right;\">\n",
       "      <th></th>\n",
       "      <th>average_correctness</th>\n",
       "      <th>number_of_ratings</th>\n",
       "      <th>odds</th>\n",
       "    </tr>\n",
       "  </thead>\n",
       "  <tbody>\n",
       "    <tr>\n",
       "      <th>A2U0R4X38GUKZE</th>\n",
       "      <td>0.950000</td>\n",
       "      <td>20</td>\n",
       "      <td>19.000000</td>\n",
       "    </tr>\n",
       "    <tr>\n",
       "      <th>A22C0PJUBFJTI0</th>\n",
       "      <td>0.916667</td>\n",
       "      <td>36</td>\n",
       "      <td>11.000000</td>\n",
       "    </tr>\n",
       "    <tr>\n",
       "      <th>A23YQUBXZPKILZ</th>\n",
       "      <td>0.875000</td>\n",
       "      <td>24</td>\n",
       "      <td>7.000000</td>\n",
       "    </tr>\n",
       "    <tr>\n",
       "      <th>ATVALOQVDCMZW</th>\n",
       "      <td>0.854369</td>\n",
       "      <td>103</td>\n",
       "      <td>5.866667</td>\n",
       "    </tr>\n",
       "    <tr>\n",
       "      <th>A1HIXWH4OXT8S4</th>\n",
       "      <td>0.825000</td>\n",
       "      <td>40</td>\n",
       "      <td>4.714286</td>\n",
       "    </tr>\n",
       "    <tr>\n",
       "      <th>A3220HG1O83HQ4</th>\n",
       "      <td>0.818182</td>\n",
       "      <td>22</td>\n",
       "      <td>4.500000</td>\n",
       "    </tr>\n",
       "    <tr>\n",
       "      <th>A32W20KGQXS0LL</th>\n",
       "      <td>0.800000</td>\n",
       "      <td>25</td>\n",
       "      <td>4.000000</td>\n",
       "    </tr>\n",
       "    <tr>\n",
       "      <th>A20PWAB7G3HDHU</th>\n",
       "      <td>0.800000</td>\n",
       "      <td>20</td>\n",
       "      <td>4.000000</td>\n",
       "    </tr>\n",
       "    <tr>\n",
       "      <th>AJSJVK40F5HM6</th>\n",
       "      <td>0.785714</td>\n",
       "      <td>28</td>\n",
       "      <td>3.666667</td>\n",
       "    </tr>\n",
       "    <tr>\n",
       "      <th>A31OCN4MNHUQ6W</th>\n",
       "      <td>0.777174</td>\n",
       "      <td>184</td>\n",
       "      <td>3.487805</td>\n",
       "    </tr>\n",
       "  </tbody>\n",
       "</table>\n",
       "</div>"
      ],
      "text/plain": [
       "                average_correctness  number_of_ratings       odds\n",
       "A2U0R4X38GUKZE             0.950000                 20  19.000000\n",
       "A22C0PJUBFJTI0             0.916667                 36  11.000000\n",
       "A23YQUBXZPKILZ             0.875000                 24   7.000000\n",
       "ATVALOQVDCMZW              0.854369                103   5.866667\n",
       "A1HIXWH4OXT8S4             0.825000                 40   4.714286\n",
       "A3220HG1O83HQ4             0.818182                 22   4.500000\n",
       "A32W20KGQXS0LL             0.800000                 25   4.000000\n",
       "A20PWAB7G3HDHU             0.800000                 20   4.000000\n",
       "AJSJVK40F5HM6              0.785714                 28   3.666667\n",
       "A31OCN4MNHUQ6W             0.777174                184   3.487805"
      ]
     },
     "execution_count": 6,
     "metadata": {},
     "output_type": "execute_result"
    }
   ],
   "source": [
    "rater_goodness[rater_goodness[\"number_of_ratings\"]>=20].sort_values(by=\"average_correctness\", ascending=False)[:10]"
   ]
  },
  {
   "cell_type": "markdown",
   "metadata": {},
   "source": [
    "## Question 6: Rating counts versus accuracy"
   ]
  },
  {
   "cell_type": "markdown",
   "metadata": {},
   "source": [
    "Plotting `average_correctness` against `number of ratings` makes it easier to have an general idea between the two variables. However, from the plot, it is difficult to identify a clear pattern."
   ]
  },
  {
   "cell_type": "code",
   "execution_count": 7,
   "metadata": {
    "collapsed": false
   },
   "outputs": [
    {
     "data": {
      "text/plain": [
       "<matplotlib.text.Text at 0x7fbf17e5d110>"
      ]
     },
     "execution_count": 7,
     "metadata": {},
     "output_type": "execute_result"
    },
    {
     "data": {
      "image/png": "[encoded data removed]",
      "text/plain": [
       "<matplotlib.figure.Figure at 0x7fbf17eeefd0>"
      ]
     },
     "metadata": {},
     "output_type": "display_data"
    }
   ],
   "source": [
    "plot(rater_goodness['number_of_ratings'],\n",
    "     rater_goodness['average_correctness'],\n",
    "     marker='o',\n",
    "     color='blue',\n",
    "     linestyle='None')\n",
    "xlabel('number of ratings')\n",
    "ylabel('average correctness')"
   ]
  },
  {
   "cell_type": "markdown",
   "metadata": {},
   "source": [
    "To quantitatively measure the linear correlation between number of ratings and average correctness, linear regression is used to draw insights.  \n",
    "From the model summary, it is still difficult to establish reliable linear correlation between the two variables, since the coefficient of number of ratings is not significantly different from zero.\n",
    "> _statsmodels_ and _patsy_ modules are imported for linear regression"
   ]
  },
  {
   "cell_type": "code",
   "execution_count": 8,
   "metadata": {
    "collapsed": false
   },
   "outputs": [
    {
     "name": "stdout",
     "output_type": "stream",
     "text": [
      "                             OLS Regression Results                            \n",
      "===============================================================================\n",
      "Dep. Variable:     average_correctness   R-squared:                       0.002\n",
      "Model:                             OLS   Adj. R-squared:                 -0.002\n",
      "Method:                  Least Squares   F-statistic:                    0.5414\n",
      "Date:                 Thu, 28 Jul 2016   Prob (F-statistic):              0.463\n",
      "Time:                         00:25:47   Log-Likelihood:                -94.561\n",
      "No. Observations:                  269   AIC:                             193.1\n",
      "Df Residuals:                      267   BIC:                             200.3\n",
      "Df Model:                            1                                         \n",
      "Covariance Type:             nonrobust                                         \n",
      "=====================================================================================\n",
      "                        coef    std err          t      P>|t|      [95.0% Conf. Int.]\n",
      "-------------------------------------------------------------------------------------\n",
      "Intercept             0.6438      0.024     27.115      0.000         0.597     0.691\n",
      "number_of_ratings     0.0007      0.001      0.736      0.463        -0.001     0.002\n",
      "==============================================================================\n",
      "Omnibus:                       29.163   Durbin-Watson:                   2.068\n",
      "Prob(Omnibus):                  0.000   Jarque-Bera (JB):               28.684\n",
      "Skew:                          -0.738   Prob(JB):                     5.91e-07\n",
      "Kurtosis:                       2.382   Cond. No.                         30.1\n",
      "==============================================================================\n",
      "\n",
      "Warnings:\n",
      "[1] Standard Errors assume that the covariance matrix of the errors is correctly specified.\n"
     ]
    }
   ],
   "source": [
    "import statsmodels.api as sm\n",
    "from patsy import dmatrices\n",
    "\n",
    "y, X = dmatrices('average_correctness ~ number_of_ratings', data=rater_goodness, return_type='dataframe')\n",
    "model = sm.OLS(y, X)\n",
    "result = model.fit()\n",
    "print result.summary()"
   ]
  },
  {
   "cell_type": "markdown",
   "metadata": {},
   "source": [
    "## Question 7: Overall predicted odds"
   ]
  },
  {
   "cell_type": "markdown",
   "metadata": {},
   "source": [
    "1. Define the cutpoint of top 25% turks in term of number of ratings using `quantile(q=.75)`.\n",
    "2. Make a list of \"turk: number of ratings\"\n",
    "3. Make a mask to select records rated by top 25% turks using `map` function.\n",
    "4. Select from the total \"labels\" data set the records rated by top 25% turks.\n",
    "5. Merge this dataframe with \"labels_unknown\" dataframe on `url` and `category`, duplicates dropped.\n",
    "6. Next merge the resulting dataframe with \"rater_goodness\" dataframe.\n",
    "    + First create a new `turk` column in \"rater_goodness\" dataframe from the index\n",
    "    + Only select the records rated by top 25% turks from \"rater_goodness\" dataframe\n",
    "    + Merge the two dataframe on `turk`\n",
    "    + Drop duplicates and missing values\n",
    "7. `groupby` the resulting dataframe on `url` and `category`.\n",
    "8. Apply `prod()` on `odds` to calculate overall odds by `url` and `category`.\n",
    "> here `odds` is the \"overall odds\" as defined in the assignment description"
   ]
  },
  {
   "cell_type": "code",
   "execution_count": 9,
   "metadata": {
    "collapsed": false
   },
   "outputs": [
    {
     "data": {
      "text/html": [
       "<div>\n",
       "<table border=\"1\" class=\"dataframe\">\n",
       "  <thead>\n",
       "    <tr style=\"text-align: right;\">\n",
       "      <th></th>\n",
       "      <th></th>\n",
       "      <th>odds</th>\n",
       "    </tr>\n",
       "    <tr>\n",
       "      <th>url</th>\n",
       "      <th>category</th>\n",
       "      <th></th>\n",
       "    </tr>\n",
       "  </thead>\n",
       "  <tbody>\n",
       "    <tr>\n",
       "      <th>http://000webhost.com</th>\n",
       "      <th>G</th>\n",
       "      <td>3.487805</td>\n",
       "    </tr>\n",
       "    <tr>\n",
       "      <th rowspan=\"2\" valign=\"top\">http://007absolutehardcore.com/early_cumshots/index.html</th>\n",
       "      <th>R</th>\n",
       "      <td>1.931034</td>\n",
       "    </tr>\n",
       "    <tr>\n",
       "      <th>X</th>\n",
       "      <td>9.102320</td>\n",
       "    </tr>\n",
       "    <tr>\n",
       "      <th>http://10000birds.com</th>\n",
       "      <th>G</th>\n",
       "      <td>17.576894</td>\n",
       "    </tr>\n",
       "    <tr>\n",
       "      <th rowspan=\"2\" valign=\"top\">http://100bestdatingsites.com</th>\n",
       "      <th>P</th>\n",
       "      <td>2.609756</td>\n",
       "    </tr>\n",
       "    <tr>\n",
       "      <th>R</th>\n",
       "      <td>6.735071</td>\n",
       "    </tr>\n",
       "    <tr>\n",
       "      <th>http://101fetishes.com/femdomtorture/portal.htm</th>\n",
       "      <th>X</th>\n",
       "      <td>17.576894</td>\n",
       "    </tr>\n",
       "    <tr>\n",
       "      <th>http://101greatgoals.com</th>\n",
       "      <th>G</th>\n",
       "      <td>17.576894</td>\n",
       "    </tr>\n",
       "    <tr>\n",
       "      <th>http://123movers.com</th>\n",
       "      <th>G</th>\n",
       "      <td>17.576894</td>\n",
       "    </tr>\n",
       "    <tr>\n",
       "      <th>http://123printcards.com</th>\n",
       "      <th>G</th>\n",
       "      <td>17.576894</td>\n",
       "    </tr>\n",
       "  </tbody>\n",
       "</table>\n",
       "</div>"
      ],
      "text/plain": [
       "                                                                  odds\n",
       "url                                                category           \n",
       "http://000webhost.com                              G          3.487805\n",
       "http://007absolutehardcore.com/early_cumshots/i... R          1.931034\n",
       "                                                   X          9.102320\n",
       "http://10000birds.com                              G         17.576894\n",
       "http://100bestdatingsites.com                      P          2.609756\n",
       "                                                   R          6.735071\n",
       "http://101fetishes.com/femdomtorture/portal.htm    X         17.576894\n",
       "http://101greatgoals.com                           G         17.576894\n",
       "http://123movers.com                               G         17.576894\n",
       "http://123printcards.com                           G         17.576894"
      ]
     },
     "execution_count": 9,
     "metadata": {},
     "output_type": "execute_result"
    }
   ],
   "source": [
    "top_25_cutpoint = labels[\"turk\"].value_counts().quantile(q=.75)\n",
    "turk_list = labels[\"turk\"].value_counts()\n",
    "mask_1 = labels[\"turk\"].map(lambda s: turk_list[s]>=top_25_cutpoint)\n",
    "labels_bytop25 = labels[mask_1]\n",
    "\n",
    "overall_odds = pd.merge(labels_bytop25,\n",
    "                       labels_unknown[[\"url\", \"category\"]],\n",
    "                       left_on=[\"url\", \"category\"],\n",
    "                       right_on=[\"url\", \"category\"]).drop_duplicates()\n",
    "\n",
    "rater_goodness[\"turk\"] = rater_goodness.index\n",
    "odds_top25 = rater_goodness[rater_goodness[\"number_of_ratings\"]>=top_25_cutpoint]\n",
    "\n",
    "overall_odds = pd.merge(overall_odds,\n",
    "                       odds_top25,\n",
    "                       left_on=\"turk\",\n",
    "                       right_on=\"turk\",\n",
    "                       how=\"left\").drop_duplicates().dropna()\n",
    "\n",
    "overall_odds.groupby([\"url\", \"category\"])[[\"odds\"]].prod()[:10]"
   ]
  },
  {
   "cell_type": "markdown",
   "metadata": {},
   "source": [
    "## Question 8: Predicted categories"
   ]
  },
  {
   "cell_type": "markdown",
   "metadata": {},
   "source": [
    "1. Create a dataframe from the `groupby` object in the last question, containing `url`, `category` and `overall odds`.\n",
    "2. Apply `unstack` to breakdown `category` from index to columns.\n",
    "3. Transpose the dataframe and get `idxmax()` on all columns, i.e. `url`, returned value is a series with `url` as index and _np.array_ (\"odds\", `category`) as values.\n",
    "4. Create a dataframe using the returned series, and convert the _np.array_ into a string column \"top category\" by selecting the second element.\n",
    "5. Create a new \"top odds\" column for the dataframe by `max()` on the transposed dataframe in _step 2_."
   ]
  },
  {
   "cell_type": "code",
   "execution_count": 10,
   "metadata": {
    "collapsed": false
   },
   "outputs": [
    {
     "data": {
      "text/html": [
       "<div>\n",
       "<table border=\"1\" class=\"dataframe\">\n",
       "  <thead>\n",
       "    <tr style=\"text-align: right;\">\n",
       "      <th></th>\n",
       "      <th>top category</th>\n",
       "      <th>top odds</th>\n",
       "    </tr>\n",
       "  </thead>\n",
       "  <tbody>\n",
       "    <tr>\n",
       "      <th>http://000webhost.com</th>\n",
       "      <td>G</td>\n",
       "      <td>3.487805</td>\n",
       "    </tr>\n",
       "    <tr>\n",
       "      <th>http://007absolutehardcore.com/early_cumshots/index.html</th>\n",
       "      <td>X</td>\n",
       "      <td>9.102320</td>\n",
       "    </tr>\n",
       "    <tr>\n",
       "      <th>http://10000birds.com</th>\n",
       "      <td>G</td>\n",
       "      <td>17.576894</td>\n",
       "    </tr>\n",
       "    <tr>\n",
       "      <th>http://100bestdatingsites.com</th>\n",
       "      <td>R</td>\n",
       "      <td>6.735071</td>\n",
       "    </tr>\n",
       "    <tr>\n",
       "      <th>http://101fetishes.com/femdomtorture/portal.htm</th>\n",
       "      <td>X</td>\n",
       "      <td>17.576894</td>\n",
       "    </tr>\n",
       "    <tr>\n",
       "      <th>http://101greatgoals.com</th>\n",
       "      <td>G</td>\n",
       "      <td>17.576894</td>\n",
       "    </tr>\n",
       "    <tr>\n",
       "      <th>http://123movers.com</th>\n",
       "      <td>G</td>\n",
       "      <td>17.576894</td>\n",
       "    </tr>\n",
       "    <tr>\n",
       "      <th>http://123printcards.com</th>\n",
       "      <td>G</td>\n",
       "      <td>17.576894</td>\n",
       "    </tr>\n",
       "    <tr>\n",
       "      <th>http://150m.com</th>\n",
       "      <td>G</td>\n",
       "      <td>17.576894</td>\n",
       "    </tr>\n",
       "    <tr>\n",
       "      <th>http://17bb.com</th>\n",
       "      <td>X</td>\n",
       "      <td>18.904819</td>\n",
       "    </tr>\n",
       "  </tbody>\n",
       "</table>\n",
       "</div>"
      ],
      "text/plain": [
       "                                                   top category   top odds\n",
       "http://000webhost.com                                         G   3.487805\n",
       "http://007absolutehardcore.com/early_cumshots/i...            X   9.102320\n",
       "http://10000birds.com                                         G  17.576894\n",
       "http://100bestdatingsites.com                                 R   6.735071\n",
       "http://101fetishes.com/femdomtorture/portal.htm               X  17.576894\n",
       "http://101greatgoals.com                                      G  17.576894\n",
       "http://123movers.com                                          G  17.576894\n",
       "http://123printcards.com                                      G  17.576894\n",
       "http://150m.com                                               G  17.576894\n",
       "http://17bb.com                                               X  18.904819"
      ]
     },
     "execution_count": 10,
     "metadata": {},
     "output_type": "execute_result"
    }
   ],
   "source": [
    "overall_odds_df = overall_odds.groupby([\"url\", \"category\"])[[\"odds\"]].prod().unstack(\"category\").T.fillna(0)\n",
    "# overall_odds_df\n",
    "url_rating = pd.DataFrame(overall_odds_df.idxmax())\n",
    "url_rating[\"top category\"] = url_rating[0].map(lambda s: s[1])\n",
    "url_rating = url_rating.set_index(url_rating.index.values)\n",
    "url_rating[\"top odds\"] = overall_odds_df.max()\n",
    "url_rating = url_rating[[\"top category\", \"top odds\"]]\n",
    "url_rating[:10]"
   ]
  },
  {
   "cell_type": "markdown",
   "metadata": {},
   "source": [
    "## Question 9: Predicted categories using more turks"
   ]
  },
  {
   "cell_type": "markdown",
   "metadata": {},
   "source": [
    "1. Repeat _Question\\ 7_ and _Question\\ 8_ to create a dataframe where `url` are rated by top 75% turks.\n",
    "    > Here only the \"top category\" column is kept and named `result_75`\n",
    "2. Take out `top category` column from the dataframe from _Question\\ 8_ and rename it `result_25`, and make it a dataframe.\n",
    "3. Merge the two dataframes on index.\n",
    "4. Create a `crosstab` with the two columns as index and columns respectively.\n",
    "5. From the crosstab it can be seen that, the most errors are where the top 25% turks rated \"P\" but the top 75% turks rated \"R\" (21 occurences), \"X\" versus \"R\" (14 occurences) and \"R\" versus \"P\" (11 occurences)."
   ]
  },
  {
   "cell_type": "code",
   "execution_count": 19,
   "metadata": {
    "collapsed": false
   },
   "outputs": [
    {
     "data": {
      "text/html": [
       "<div>\n",
       "<table border=\"1\" class=\"dataframe\">\n",
       "  <thead>\n",
       "    <tr style=\"text-align: right;\">\n",
       "      <th>result_75</th>\n",
       "      <th>G</th>\n",
       "      <th>P</th>\n",
       "      <th>R</th>\n",
       "      <th>X</th>\n",
       "    </tr>\n",
       "    <tr>\n",
       "      <th>result_25</th>\n",
       "      <th></th>\n",
       "      <th></th>\n",
       "      <th></th>\n",
       "      <th></th>\n",
       "    </tr>\n",
       "  </thead>\n",
       "  <tbody>\n",
       "    <tr>\n",
       "      <th>G</th>\n",
       "      <td>418</td>\n",
       "      <td>8</td>\n",
       "      <td>6</td>\n",
       "      <td>3</td>\n",
       "    </tr>\n",
       "    <tr>\n",
       "      <th>P</th>\n",
       "      <td>21</td>\n",
       "      <td>30</td>\n",
       "      <td>4</td>\n",
       "      <td>1</td>\n",
       "    </tr>\n",
       "    <tr>\n",
       "      <th>R</th>\n",
       "      <td>4</td>\n",
       "      <td>11</td>\n",
       "      <td>26</td>\n",
       "      <td>8</td>\n",
       "    </tr>\n",
       "    <tr>\n",
       "      <th>X</th>\n",
       "      <td>9</td>\n",
       "      <td>2</td>\n",
       "      <td>14</td>\n",
       "      <td>290</td>\n",
       "    </tr>\n",
       "  </tbody>\n",
       "</table>\n",
       "</div>"
      ],
      "text/plain": [
       "result_75    G   P   R    X\n",
       "result_25                  \n",
       "G          418   8   6    3\n",
       "P           21  30   4    1\n",
       "R            4  11  26    8\n",
       "X            9   2  14  290"
      ]
     },
     "execution_count": 19,
     "metadata": {},
     "output_type": "execute_result"
    }
   ],
   "source": [
    "top_75_cutpoint = labels[\"turk\"].value_counts().quantile(q=.25)\n",
    "turk_list = labels[\"turk\"].value_counts()\n",
    "mask_2 = labels[\"turk\"].map(lambda s: turk_list[s]>=top_75_cutpoint)\n",
    "labels_bytop75 = labels[mask_1]\n",
    "\n",
    "overall_odds_75 = pd.merge(labels_bytop75,\n",
    "                       labels_unknown[[\"url\", \"category\"]],\n",
    "                       left_on=[\"url\", \"category\"],\n",
    "                       right_on=[\"url\", \"category\"]).drop_duplicates()\n",
    "\n",
    "odds_top75 = rater_goodness[rater_goodness[\"number_of_ratings\"]>=top_75_cutpoint]\n",
    "\n",
    "overall_odds_75 = pd.merge(overall_odds_75,\n",
    "                       odds_top75,\n",
    "                       left_on=\"turk\",\n",
    "                       right_on=\"turk\",\n",
    "                       how=\"left\").drop_duplicates().dropna()\n",
    "\n",
    "overall_odds_df_75 = overall_odds_75.groupby([\"url\", \"category\"])[[\"odds\"]].prod().unstack(\"category\").T.fillna(0)\n",
    "\n",
    "url_rating_75 = pd.DataFrame(overall_odds_df_75.idxmax())\n",
    "url_rating_75[\"result_75\"] = url_rating_75[0].map(lambda s: s[1])\n",
    "url_rating_75 = pd.DataFrame(url_rating_75[\"result_75\"])\n",
    "\n",
    "url_rating_25 = pd.DataFrame({\"result_25\": url_rating[\"top category\"]})\n",
    "\n",
    "url_rating_merged = pd.merge(url_rating_25,\n",
    "                            url_rating_75,\n",
    "                            left_index=True,\n",
    "                            right_index=True,\n",
    "                            ).dropna()\n",
    "\n",
    "url_rating_crosstab = pd.crosstab(index=url_rating_merged[\"result_25\"],\n",
    "                                 columns=url_rating_merged[\"result_75\"],\n",
    "                                 )\n",
    "\n",
    "url_rating_crosstab\n"
   ]
  }
 ],
 "metadata": {
  "kernelspec": {
   "display_name": "Python 2",
   "language": "python",
   "name": "python2"
  },
  "language_info": {
   "codemirror_mode": {
    "name": "ipython",
    "version": 2
   },
   "file_extension": ".py",
   "mimetype": "text/x-python",
   "name": "python",
   "nbconvert_exporter": "python",
   "pygments_lexer": "ipython2",
   "version": "2.7.6"
  }
 },
 "nbformat": 4,
 "nbformat_minor": 0
}
