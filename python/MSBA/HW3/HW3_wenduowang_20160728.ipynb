{
 "cells": [
  {
   "cell_type": "code",
   "execution_count": 1,
   "metadata": {
    "collapsed": false
   },
   "outputs": [
    {
     "name": "stdout",
     "output_type": "stream",
     "text": [
      "Populating the interactive namespace from numpy and matplotlib\n"
     ]
    }
   ],
   "source": [
    "from pandas import Series, DataFrame\n",
    "import pandas as pd\n",
    "import warnings\n",
    "warnings.filterwarnings('ignore')\n",
    "%pylab inline"
   ]
  },
  {
   "cell_type": "markdown",
   "metadata": {},
   "source": [
    "## Question 1: Read in data"
   ]
  },
  {
   "cell_type": "markdown",
   "metadata": {},
   "source": [
    "Read in the data from \"gold.txt\" and \"labels.txt\".  \n",
    "Since there are no headers in the files, `names` parameter should be set explicitly.\n",
    "> Duplicate records in both dataframes are kept, for repeated test on the same url provides enables more precise information about the turks' discernibility"
   ]
  },
  {
   "cell_type": "code",
   "execution_count": 2,
   "metadata": {
    "collapsed": false
   },
   "outputs": [],
   "source": [
    "gold = pd.read_table(\"gold.txt\", names=[\"url\", \"category\"]).dropna()\n",
    "# .drop_duplicates()\n",
    "labels = pd.read_table(\"labels.txt\", names=[\"turk\", \"url\", \"category\"]).dropna()\n",
    "# .drop_duplicates()"
   ]
  },
  {
   "cell_type": "markdown",
   "metadata": {},
   "source": [
    "## Question 2: Split into two DataFrames"
   ]
  },
  {
   "cell_type": "markdown",
   "metadata": {},
   "source": [
    "To determine if a `url` in _labels_ is in _gold_, make a list of unique `url` in gold, and `map` the lambda expression on the `url` series in _labels_."
   ]
  },
  {
   "cell_type": "code",
   "execution_count": 3,
   "metadata": {
    "collapsed": false
   },
   "outputs": [],
   "source": [
    "url_list = gold[\"url\"].unique()\n",
    "labels_on_gold = labels[labels[\"url\"].map(lambda s: s in url_list)]\n",
    "labels_unknown = labels[labels[\"url\"].map(lambda s: s not in url_list)]"
   ]
  },
  {
   "cell_type": "markdown",
   "metadata": {},
   "source": [
    "## Question 3: Compute accuracies of turks"
   ]
  },
  {
   "cell_type": "markdown",
   "metadata": {},
   "source": [
    "1. Since the computation is all on \"gold\" set `url`, \"labels_on_gold\" dataframe is used instead of \"labels\"\n",
    "2. Merge \"labels_on_gold\" with \"gold\" on `url`.\n",
    "3. Create a new column `correct` in the new dataframe, and assign `True` where the \"turk\" rating is the same with the true rating.\n",
    "4. _Optional: drop the rating columns to reduce the size of the dataframe_\n",
    "5. `groupby` on `turk`, and sum up the `True` records on `correct` for each `turk`, the returned value is a series\n",
    "6. `value_counts` on `turk`, a series of total rating numbers is returned.\n",
    "7. Divide the previous two series to get the rating accuracy of each `turk`\n",
    "8. Create a new dataframe \"rater_goodness\" with the total rating number series and rating accuracy series, index by default set as `turk`"
   ]
  },
  {
   "cell_type": "code",
   "execution_count": 16,
   "metadata": {
    "collapsed": false
   },
   "outputs": [
    {
     "data": {
      "text/html": [
       "<div>\n",
       "<table border=\"1\" class=\"dataframe\">\n",
       "  <thead>\n",
       "    <tr style=\"text-align: right;\">\n",
       "      <th></th>\n",
       "      <th>average_correctness</th>\n",
       "      <th>number_of_ratings</th>\n",
       "    </tr>\n",
       "  </thead>\n",
       "  <tbody>\n",
       "    <tr>\n",
       "      <th>A112DVP1KG4QZU</th>\n",
       "      <td>1.000000</td>\n",
       "      <td>1</td>\n",
       "    </tr>\n",
       "    <tr>\n",
       "      <th>A1253FXHCZ9CWM</th>\n",
       "      <td>0.517241</td>\n",
       "      <td>29</td>\n",
       "    </tr>\n",
       "    <tr>\n",
       "      <th>A12CY1Q7XKJJDE</th>\n",
       "      <td>1.000000</td>\n",
       "      <td>1</td>\n",
       "    </tr>\n",
       "    <tr>\n",
       "      <th>A12RE8G66WTO8B</th>\n",
       "      <td>0.750000</td>\n",
       "      <td>20</td>\n",
       "    </tr>\n",
       "    <tr>\n",
       "      <th>A12Y1GTGIQDGRA</th>\n",
       "      <td>0.333333</td>\n",
       "      <td>3</td>\n",
       "    </tr>\n",
       "    <tr>\n",
       "      <th>A13CEW9JGDWGX1</th>\n",
       "      <td>1.000000</td>\n",
       "      <td>1</td>\n",
       "    </tr>\n",
       "    <tr>\n",
       "      <th>A13OE9GBRJ0S2U</th>\n",
       "      <td>0.750000</td>\n",
       "      <td>4</td>\n",
       "    </tr>\n",
       "    <tr>\n",
       "      <th>A14IQ4GLNWNPOJ</th>\n",
       "      <td>1.000000</td>\n",
       "      <td>1</td>\n",
       "    </tr>\n",
       "    <tr>\n",
       "      <th>A153PKAL7OAY36</th>\n",
       "      <td>0.722973</td>\n",
       "      <td>148</td>\n",
       "    </tr>\n",
       "    <tr>\n",
       "      <th>A1554ZM0CLKSG5</th>\n",
       "      <td>1.000000</td>\n",
       "      <td>1</td>\n",
       "    </tr>\n",
       "  </tbody>\n",
       "</table>\n",
       "</div>"
      ],
      "text/plain": [
       "                average_correctness  number_of_ratings\n",
       "A112DVP1KG4QZU             1.000000                  1\n",
       "A1253FXHCZ9CWM             0.517241                 29\n",
       "A12CY1Q7XKJJDE             1.000000                  1\n",
       "A12RE8G66WTO8B             0.750000                 20\n",
       "A12Y1GTGIQDGRA             0.333333                  3\n",
       "A13CEW9JGDWGX1             1.000000                  1\n",
       "A13OE9GBRJ0S2U             0.750000                  4\n",
       "A14IQ4GLNWNPOJ             1.000000                  1\n",
       "A153PKAL7OAY36             0.722973                148\n",
       "A1554ZM0CLKSG5             1.000000                  1"
      ]
     },
     "execution_count": 16,
     "metadata": {},
     "output_type": "execute_result"
    }
   ],
   "source": [
    "rater_merged = pd.merge(\n",
    "                    labels_on_gold,\n",
    "                    gold,\n",
    "                    left_on=\"url\",\n",
    "                    right_on=\"url\",\n",
    "                    suffixes=[\"_1\", \"_2\"]\n",
    "                )\n",
    "\n",
    "rater_merged[\"correct\"] = rater_merged[\"category_1\"] == rater_merged[\"category_2\"]\n",
    "rater_merged = rater_merged[[\"turk\", \"correct\"]]\n",
    "correct_counts = rater_merged.groupby(\"turk\")[\"correct\"].sum()\n",
    "total_counts = rater_merged[\"turk\"].value_counts()\n",
    "avg_correctness = correct_counts/total_counts\n",
    "rater_goodness = pd.DataFrame({\"number_of_ratings\": total_counts, \"average_correctness\": avg_correctness})\n",
    "rater_goodness[:10]"
   ]
  },
  {
   "cell_type": "markdown",
   "metadata": {},
   "source": [
    "## Question 4: Odds ratios"
   ]
  },
  {
   "cell_type": "markdown",
   "metadata": {},
   "source": [
    "1. Use \"map\" function on `average_correctness` to get $\\frac{average\\ correctness}{1 - average\\ correctness}$\n",
    "2. By definition, when `average_correctness` = 1, the ratio should be assigned `float(\"inf\")`"
   ]
  },
  {
   "cell_type": "code",
   "execution_count": 13,
   "metadata": {
    "collapsed": false
   },
   "outputs": [
    {
     "data": {
      "text/html": [
       "<div>\n",
       "<table border=\"1\" class=\"dataframe\">\n",
       "  <thead>\n",
       "    <tr style=\"text-align: right;\">\n",
       "      <th></th>\n",
       "      <th>average_correctness</th>\n",
       "      <th>number_of_ratings</th>\n",
       "      <th>odds</th>\n",
       "      <th>turk</th>\n",
       "    </tr>\n",
       "  </thead>\n",
       "  <tbody>\n",
       "    <tr>\n",
       "      <th>A112DVP1KG4QZU</th>\n",
       "      <td>1.000000</td>\n",
       "      <td>1</td>\n",
       "      <td>inf</td>\n",
       "      <td>A112DVP1KG4QZU</td>\n",
       "    </tr>\n",
       "    <tr>\n",
       "      <th>A1253FXHCZ9CWM</th>\n",
       "      <td>0.517241</td>\n",
       "      <td>29</td>\n",
       "      <td>1.071429</td>\n",
       "      <td>A1253FXHCZ9CWM</td>\n",
       "    </tr>\n",
       "    <tr>\n",
       "      <th>A12CY1Q7XKJJDE</th>\n",
       "      <td>1.000000</td>\n",
       "      <td>1</td>\n",
       "      <td>inf</td>\n",
       "      <td>A12CY1Q7XKJJDE</td>\n",
       "    </tr>\n",
       "    <tr>\n",
       "      <th>A12RE8G66WTO8B</th>\n",
       "      <td>0.750000</td>\n",
       "      <td>20</td>\n",
       "      <td>3.000000</td>\n",
       "      <td>A12RE8G66WTO8B</td>\n",
       "    </tr>\n",
       "    <tr>\n",
       "      <th>A12Y1GTGIQDGRA</th>\n",
       "      <td>0.333333</td>\n",
       "      <td>3</td>\n",
       "      <td>0.500000</td>\n",
       "      <td>A12Y1GTGIQDGRA</td>\n",
       "    </tr>\n",
       "    <tr>\n",
       "      <th>A13CEW9JGDWGX1</th>\n",
       "      <td>1.000000</td>\n",
       "      <td>1</td>\n",
       "      <td>inf</td>\n",
       "      <td>A13CEW9JGDWGX1</td>\n",
       "    </tr>\n",
       "    <tr>\n",
       "      <th>A13OE9GBRJ0S2U</th>\n",
       "      <td>0.750000</td>\n",
       "      <td>4</td>\n",
       "      <td>3.000000</td>\n",
       "      <td>A13OE9GBRJ0S2U</td>\n",
       "    </tr>\n",
       "    <tr>\n",
       "      <th>A14IQ4GLNWNPOJ</th>\n",
       "      <td>1.000000</td>\n",
       "      <td>1</td>\n",
       "      <td>inf</td>\n",
       "      <td>A14IQ4GLNWNPOJ</td>\n",
       "    </tr>\n",
       "    <tr>\n",
       "      <th>A153PKAL7OAY36</th>\n",
       "      <td>0.722973</td>\n",
       "      <td>148</td>\n",
       "      <td>2.609756</td>\n",
       "      <td>A153PKAL7OAY36</td>\n",
       "    </tr>\n",
       "    <tr>\n",
       "      <th>A1554ZM0CLKSG5</th>\n",
       "      <td>1.000000</td>\n",
       "      <td>1</td>\n",
       "      <td>inf</td>\n",
       "      <td>A1554ZM0CLKSG5</td>\n",
       "    </tr>\n",
       "    <tr>\n",
       "      <th>A16AZHD3CCD77Q</th>\n",
       "      <td>1.000000</td>\n",
       "      <td>1</td>\n",
       "      <td>inf</td>\n",
       "      <td>A16AZHD3CCD77Q</td>\n",
       "    </tr>\n",
       "    <tr>\n",
       "      <th>A17H2HKAZ7KJMQ</th>\n",
       "      <td>0.500000</td>\n",
       "      <td>2</td>\n",
       "      <td>1.000000</td>\n",
       "      <td>A17H2HKAZ7KJMQ</td>\n",
       "    </tr>\n",
       "    <tr>\n",
       "      <th>A17OE8HU0QCX21</th>\n",
       "      <td>0.875000</td>\n",
       "      <td>8</td>\n",
       "      <td>7.000000</td>\n",
       "      <td>A17OE8HU0QCX21</td>\n",
       "    </tr>\n",
       "    <tr>\n",
       "      <th>A18HIFA78GUAG9</th>\n",
       "      <td>0.538462</td>\n",
       "      <td>13</td>\n",
       "      <td>1.166667</td>\n",
       "      <td>A18HIFA78GUAG9</td>\n",
       "    </tr>\n",
       "    <tr>\n",
       "      <th>A18OUQ869740XV</th>\n",
       "      <td>1.000000</td>\n",
       "      <td>1</td>\n",
       "      <td>inf</td>\n",
       "      <td>A18OUQ869740XV</td>\n",
       "    </tr>\n",
       "    <tr>\n",
       "      <th>A19KO2JQ36WON3</th>\n",
       "      <td>0.250000</td>\n",
       "      <td>4</td>\n",
       "      <td>0.333333</td>\n",
       "      <td>A19KO2JQ36WON3</td>\n",
       "    </tr>\n",
       "    <tr>\n",
       "      <th>A19N7GVG3V1FZO</th>\n",
       "      <td>0.500000</td>\n",
       "      <td>2</td>\n",
       "      <td>1.000000</td>\n",
       "      <td>A19N7GVG3V1FZO</td>\n",
       "    </tr>\n",
       "    <tr>\n",
       "      <th>A19Y7K5UEBNZA7</th>\n",
       "      <td>0.000000</td>\n",
       "      <td>1</td>\n",
       "      <td>0.000000</td>\n",
       "      <td>A19Y7K5UEBNZA7</td>\n",
       "    </tr>\n",
       "    <tr>\n",
       "      <th>A1AI3MUH2BW1DN</th>\n",
       "      <td>0.000000</td>\n",
       "      <td>1</td>\n",
       "      <td>0.000000</td>\n",
       "      <td>A1AI3MUH2BW1DN</td>\n",
       "    </tr>\n",
       "    <tr>\n",
       "      <th>A1C8ZHG3K8KD5W</th>\n",
       "      <td>1.000000</td>\n",
       "      <td>1</td>\n",
       "      <td>inf</td>\n",
       "      <td>A1C8ZHG3K8KD5W</td>\n",
       "    </tr>\n",
       "  </tbody>\n",
       "</table>\n",
       "</div>"
      ],
      "text/plain": [
       "                average_correctness  number_of_ratings      odds  \\\n",
       "A112DVP1KG4QZU             1.000000                  1       inf   \n",
       "A1253FXHCZ9CWM             0.517241                 29  1.071429   \n",
       "A12CY1Q7XKJJDE             1.000000                  1       inf   \n",
       "A12RE8G66WTO8B             0.750000                 20  3.000000   \n",
       "A12Y1GTGIQDGRA             0.333333                  3  0.500000   \n",
       "A13CEW9JGDWGX1             1.000000                  1       inf   \n",
       "A13OE9GBRJ0S2U             0.750000                  4  3.000000   \n",
       "A14IQ4GLNWNPOJ             1.000000                  1       inf   \n",
       "A153PKAL7OAY36             0.722973                148  2.609756   \n",
       "A1554ZM0CLKSG5             1.000000                  1       inf   \n",
       "A16AZHD3CCD77Q             1.000000                  1       inf   \n",
       "A17H2HKAZ7KJMQ             0.500000                  2  1.000000   \n",
       "A17OE8HU0QCX21             0.875000                  8  7.000000   \n",
       "A18HIFA78GUAG9             0.538462                 13  1.166667   \n",
       "A18OUQ869740XV             1.000000                  1       inf   \n",
       "A19KO2JQ36WON3             0.250000                  4  0.333333   \n",
       "A19N7GVG3V1FZO             0.500000                  2  1.000000   \n",
       "A19Y7K5UEBNZA7             0.000000                  1  0.000000   \n",
       "A1AI3MUH2BW1DN             0.000000                  1  0.000000   \n",
       "A1C8ZHG3K8KD5W             1.000000                  1       inf   \n",
       "\n",
       "                          turk  \n",
       "A112DVP1KG4QZU  A112DVP1KG4QZU  \n",
       "A1253FXHCZ9CWM  A1253FXHCZ9CWM  \n",
       "A12CY1Q7XKJJDE  A12CY1Q7XKJJDE  \n",
       "A12RE8G66WTO8B  A12RE8G66WTO8B  \n",
       "A12Y1GTGIQDGRA  A12Y1GTGIQDGRA  \n",
       "A13CEW9JGDWGX1  A13CEW9JGDWGX1  \n",
       "A13OE9GBRJ0S2U  A13OE9GBRJ0S2U  \n",
       "A14IQ4GLNWNPOJ  A14IQ4GLNWNPOJ  \n",
       "A153PKAL7OAY36  A153PKAL7OAY36  \n",
       "A1554ZM0CLKSG5  A1554ZM0CLKSG5  \n",
       "A16AZHD3CCD77Q  A16AZHD3CCD77Q  \n",
       "A17H2HKAZ7KJMQ  A17H2HKAZ7KJMQ  \n",
       "A17OE8HU0QCX21  A17OE8HU0QCX21  \n",
       "A18HIFA78GUAG9  A18HIFA78GUAG9  \n",
       "A18OUQ869740XV  A18OUQ869740XV  \n",
       "A19KO2JQ36WON3  A19KO2JQ36WON3  \n",
       "A19N7GVG3V1FZO  A19N7GVG3V1FZO  \n",
       "A19Y7K5UEBNZA7  A19Y7K5UEBNZA7  \n",
       "A1AI3MUH2BW1DN  A1AI3MUH2BW1DN  \n",
       "A1C8ZHG3K8KD5W  A1C8ZHG3K8KD5W  "
      ]
     },
     "execution_count": 13,
     "metadata": {},
     "output_type": "execute_result"
    }
   ],
   "source": [
    "rater_goodness[\"odds\"] = rater_goodness[\"average_correctness\"].map(lambda x: x/(1-x) if x < 1 else float(\"inf\"))\n",
    "rater_goodness[:20]"
   ]
  },
  {
   "cell_type": "markdown",
   "metadata": {},
   "source": [
    "## Question 5: Most accurate turks"
   ]
  },
  {
   "cell_type": "markdown",
   "metadata": {},
   "source": [
    "1. Use `rater_goodness[\"number of ratings\"]>=20` to select turks who rated at least 20 times.\n",
    "2. Sort the list by `average_correctness` in descending order.\n",
    "3. `.index.values` is optional to return only turks, but for aesthetic reasons it is not applied."
   ]
  },
  {
   "cell_type": "code",
   "execution_count": 6,
   "metadata": {
    "collapsed": false
   },
   "outputs": [
    {
     "data": {
      "text/html": [
       "<div>\n",
       "<table border=\"1\" class=\"dataframe\">\n",
       "  <thead>\n",
       "    <tr style=\"text-align: right;\">\n",
       "      <th></th>\n",
       "      <th>average_correctness</th>\n",
       "      <th>number_of_ratings</th>\n",
       "      <th>odds</th>\n",
       "    </tr>\n",
       "  </thead>\n",
       "  <tbody>\n",
       "    <tr>\n",
       "      <th>A2U0R4X38GUKZE</th>\n",
       "      <td>0.950000</td>\n",
       "      <td>20</td>\n",
       "      <td>19.000000</td>\n",
       "    </tr>\n",
       "    <tr>\n",
       "      <th>A22C0PJUBFJTI0</th>\n",
       "      <td>0.916667</td>\n",
       "      <td>36</td>\n",
       "      <td>11.000000</td>\n",
       "    </tr>\n",
       "    <tr>\n",
       "      <th>A23YQUBXZPKILZ</th>\n",
       "      <td>0.875000</td>\n",
       "      <td>24</td>\n",
       "      <td>7.000000</td>\n",
       "    </tr>\n",
       "    <tr>\n",
       "      <th>ATVALOQVDCMZW</th>\n",
       "      <td>0.854369</td>\n",
       "      <td>103</td>\n",
       "      <td>5.866667</td>\n",
       "    </tr>\n",
       "    <tr>\n",
       "      <th>A1HIXWH4OXT8S4</th>\n",
       "      <td>0.825000</td>\n",
       "      <td>40</td>\n",
       "      <td>4.714286</td>\n",
       "    </tr>\n",
       "    <tr>\n",
       "      <th>A3220HG1O83HQ4</th>\n",
       "      <td>0.818182</td>\n",
       "      <td>22</td>\n",
       "      <td>4.500000</td>\n",
       "    </tr>\n",
       "    <tr>\n",
       "      <th>A32W20KGQXS0LL</th>\n",
       "      <td>0.800000</td>\n",
       "      <td>25</td>\n",
       "      <td>4.000000</td>\n",
       "    </tr>\n",
       "    <tr>\n",
       "      <th>A20PWAB7G3HDHU</th>\n",
       "      <td>0.800000</td>\n",
       "      <td>20</td>\n",
       "      <td>4.000000</td>\n",
       "    </tr>\n",
       "    <tr>\n",
       "      <th>AJSJVK40F5HM6</th>\n",
       "      <td>0.785714</td>\n",
       "      <td>28</td>\n",
       "      <td>3.666667</td>\n",
       "    </tr>\n",
       "    <tr>\n",
       "      <th>A31OCN4MNHUQ6W</th>\n",
       "      <td>0.777174</td>\n",
       "      <td>184</td>\n",
       "      <td>3.487805</td>\n",
       "    </tr>\n",
       "  </tbody>\n",
       "</table>\n",
       "</div>"
      ],
      "text/plain": [
       "                average_correctness  number_of_ratings       odds\n",
       "A2U0R4X38GUKZE             0.950000                 20  19.000000\n",
       "A22C0PJUBFJTI0             0.916667                 36  11.000000\n",
       "A23YQUBXZPKILZ             0.875000                 24   7.000000\n",
       "ATVALOQVDCMZW              0.854369                103   5.866667\n",
       "A1HIXWH4OXT8S4             0.825000                 40   4.714286\n",
       "A3220HG1O83HQ4             0.818182                 22   4.500000\n",
       "A32W20KGQXS0LL             0.800000                 25   4.000000\n",
       "A20PWAB7G3HDHU             0.800000                 20   4.000000\n",
       "AJSJVK40F5HM6              0.785714                 28   3.666667\n",
       "A31OCN4MNHUQ6W             0.777174                184   3.487805"
      ]
     },
     "execution_count": 6,
     "metadata": {},
     "output_type": "execute_result"
    }
   ],
   "source": [
    "rater_goodness[rater_goodness[\"number_of_ratings\"]>=20].sort_values(by=\"average_correctness\", ascending=False)[:10]"
   ]
  },
  {
   "cell_type": "markdown",
   "metadata": {},
   "source": [
    "## Question 6: Rating counts versus accuracy"
   ]
  },
  {
   "cell_type": "markdown",
   "metadata": {},
   "source": [
    "Plotting `average_correctness` against `number of ratings` makes it easier to have an general idea between the two variables. However, from the plot, it is difficult to identify a clear pattern."
   ]
  },
  {
   "cell_type": "code",
   "execution_count": 7,
   "metadata": {
    "collapsed": false
   },
   "outputs": [
    {
     "data": {
      "text/plain": [
       "<matplotlib.text.Text at 0x7f323f877590>"
      ]
     },
     "execution_count": 7,
     "metadata": {},
     "output_type": "execute_result"
    },
    {
     "data": {
      "image/png": "[encoded data removed]",
      "text/plain": [
       "<matplotlib.figure.Figure at 0x7f323f8b15d0>"
      ]
     },
     "metadata": {},
     "output_type": "display_data"
    }
   ],
   "source": [
    "plot(rater_goodness['number_of_ratings'],\n",
    "     rater_goodness['average_correctness'],\n",
    "     marker='o',\n",
    "     color='blue',\n",
    "     linestyle='None')\n",
    "xlabel('number of ratings')\n",
    "ylabel('average correctness')"
   ]
  },
  {
   "cell_type": "markdown",
   "metadata": {},
   "source": [
    "To quantitatively measure the linear correlation between number of ratings and average correctness, linear regression is used to draw insights.  \n",
    "From the model summary, it is still difficult to establish reliable linear correlation between the two variables, since the coefficient of number of ratings is not significantly different from zero.\n",
    "> _statsmodels_ and _patsy_ modules are imported for linear regression"
   ]
  },
  {
   "cell_type": "code",
   "execution_count": 8,
   "metadata": {
    "collapsed": false
   },
   "outputs": [
    {
     "name": "stdout",
     "output_type": "stream",
     "text": [
      "                             OLS Regression Results                            \n",
      "===============================================================================\n",
      "Dep. Variable:     average_correctness   R-squared:                       0.002\n",
      "Model:                             OLS   Adj. R-squared:                 -0.002\n",
      "Method:                  Least Squares   F-statistic:                    0.5488\n",
      "Date:                 Sat, 30 Jul 2016   Prob (F-statistic):              0.459\n",
      "Time:                         13:33:32   Log-Likelihood:                -94.663\n",
      "No. Observations:                  269   AIC:                             193.3\n",
      "Df Residuals:                      267   BIC:                             200.5\n",
      "Df Model:                            1                                         \n",
      "Covariance Type:             nonrobust                                         \n",
      "=====================================================================================\n",
      "                        coef    std err          t      P>|t|      [95.0% Conf. Int.]\n",
      "-------------------------------------------------------------------------------------\n",
      "Intercept             0.6431      0.024     27.071      0.000         0.596     0.690\n",
      "number_of_ratings     0.0007      0.001      0.741      0.459        -0.001     0.002\n",
      "==============================================================================\n",
      "Omnibus:                       29.253   Durbin-Watson:                   2.072\n",
      "Prob(Omnibus):                  0.000   Jarque-Bera (JB):               28.396\n",
      "Skew:                          -0.731   Prob(JB):                     6.82e-07\n",
      "Kurtosis:                       2.373   Cond. No.                         30.1\n",
      "==============================================================================\n",
      "\n",
      "Warnings:\n",
      "[1] Standard Errors assume that the covariance matrix of the errors is correctly specified.\n"
     ]
    }
   ],
   "source": [
    "import statsmodels.api as sm\n",
    "from patsy import dmatrices\n",
    "\n",
    "y, X = dmatrices('average_correctness ~ number_of_ratings', data=rater_goodness, return_type='dataframe')\n",
    "model = sm.OLS(y, X)\n",
    "result = model.fit()\n",
    "print result.summary()"
   ]
  },
  {
   "cell_type": "markdown",
   "metadata": {},
   "source": [
    "## Question 7: Overall predicted odds"
   ]
  },
  {
   "cell_type": "markdown",
   "metadata": {},
   "source": [
    "1. Define the cutpoint of top 25% turks in term of number of ratings using `quantile(q=.75)`.\n",
    "2. Make a list of \"turk: number of ratings\"\n",
    "3. Make a mask to select records rated by top 25% turks using `map` function.\n",
    "4. Select from the total \"labels\" data set the records rated by top 25% turks.\n",
    "5. Merge this dataframe with \"labels_unknown\" dataframe on `url` and `category`, duplicates dropped.\n",
    "6. Next merge the resulting dataframe with \"rater_goodness\" dataframe.\n",
    "    + First create a new `turk` column in \"rater_goodness\" dataframe from the index\n",
    "    + Only select the records rated by top 25% turks from \"rater_goodness\" dataframe\n",
    "    + Merge the two dataframe on `turk`\n",
    "    + Drop duplicates and missing values\n",
    "7. `groupby` the resulting dataframe on `url` and `category`.\n",
    "8. Apply `prod()` on `odds` to calculate overall odds by `url` and `category`.\n",
    "> here `odds` is the \"overall odds\" as defined in the assignment description"
   ]
  },
  {
   "cell_type": "code",
   "execution_count": 9,
   "metadata": {
    "collapsed": false
   },
   "outputs": [
    {
     "data": {
      "text/html": [
       "<div>\n",
       "<table border=\"1\" class=\"dataframe\">\n",
       "  <thead>\n",
       "    <tr style=\"text-align: right;\">\n",
       "      <th></th>\n",
       "      <th></th>\n",
       "      <th>odds</th>\n",
       "    </tr>\n",
       "    <tr>\n",
       "      <th>url</th>\n",
       "      <th>category</th>\n",
       "      <th></th>\n",
       "    </tr>\n",
       "  </thead>\n",
       "  <tbody>\n",
       "    <tr>\n",
       "      <th>http://0-101.net</th>\n",
       "      <th>G</th>\n",
       "      <td>2.166667</td>\n",
       "    </tr>\n",
       "    <tr>\n",
       "      <th>http://000.cc</th>\n",
       "      <th>G</th>\n",
       "      <td>1.470000</td>\n",
       "    </tr>\n",
       "    <tr>\n",
       "      <th>http://0000.jp</th>\n",
       "      <th>G</th>\n",
       "      <td>14.700000</td>\n",
       "    </tr>\n",
       "    <tr>\n",
       "      <th rowspan=\"2\" valign=\"top\">http://000relationships.com</th>\n",
       "      <th>G</th>\n",
       "      <td>10.084200</td>\n",
       "    </tr>\n",
       "    <tr>\n",
       "      <th>P</th>\n",
       "      <td>1.857143</td>\n",
       "    </tr>\n",
       "    <tr>\n",
       "      <th>http://000vitamins.com</th>\n",
       "      <th>G</th>\n",
       "      <td>3.814493</td>\n",
       "    </tr>\n",
       "    <tr>\n",
       "      <th>http://000webhost.com</th>\n",
       "      <th>G</th>\n",
       "      <td>11.293844</td>\n",
       "    </tr>\n",
       "    <tr>\n",
       "      <th>http://003my.com</th>\n",
       "      <th>G</th>\n",
       "      <td>4.952381</td>\n",
       "    </tr>\n",
       "    <tr>\n",
       "      <th rowspan=\"2\" valign=\"top\">http://007absolutehardcore.com/early_cumshots/index.html</th>\n",
       "      <th>P</th>\n",
       "      <td>3.367347</td>\n",
       "    </tr>\n",
       "    <tr>\n",
       "      <th>R</th>\n",
       "      <td>12.413793</td>\n",
       "    </tr>\n",
       "  </tbody>\n",
       "</table>\n",
       "</div>"
      ],
      "text/plain": [
       "                                                                  odds\n",
       "url                                                category           \n",
       "http://0-101.net                                   G          2.166667\n",
       "http://000.cc                                      G          1.470000\n",
       "http://0000.jp                                     G         14.700000\n",
       "http://000relationships.com                        G         10.084200\n",
       "                                                   P          1.857143\n",
       "http://000vitamins.com                             G          3.814493\n",
       "http://000webhost.com                              G         11.293844\n",
       "http://003my.com                                   G          4.952381\n",
       "http://007absolutehardcore.com/early_cumshots/i... P          3.367347\n",
       "                                                   R         12.413793"
      ]
     },
     "execution_count": 9,
     "metadata": {},
     "output_type": "execute_result"
    }
   ],
   "source": [
    "top_25_cutpoint = labels_on_gold[\"turk\"].value_counts().quantile(q=.75)\n",
    "turk_list = labels_on_gold[\"turk\"].value_counts()\n",
    "\n",
    "mask_1 = labels_unknown[\"turk\"].map(lambda s: turk_list[s]>=top_25_cutpoint if s in turk_list else False)\n",
    "labels_bytop25 = labels_unknown[mask_1]\n",
    "\n",
    "rater_goodness[\"turk\"] = rater_goodness.index\n",
    "\n",
    "odds_top25 = rater_goodness[rater_goodness[\"turk\"].map(lambda s: turk_list[s]>=top_25_cutpoint if s in turk_list else False)]\n",
    "\n",
    "overall_odds = pd.merge(labels_bytop25,\n",
    "                       odds_top25,\n",
    "                       left_on=\"turk\",\n",
    "                       right_on=\"turk\",\n",
    "                       how=\"left\").dropna()\n",
    "\n",
    "overall_odds.groupby([\"url\", \"category\"])[[\"odds\"]].prod()[:10]\n",
    "# overall_odds[:10]"
   ]
  },
  {
   "cell_type": "markdown",
   "metadata": {},
   "source": [
    "## Question 8: Predicted categories"
   ]
  },
  {
   "cell_type": "markdown",
   "metadata": {},
   "source": [
    "1. Create a dataframe from the `groupby` object in the last question, containing `url`, `category` and `overall odds`.\n",
    "2. Apply `unstack` to breakdown `category` from index to columns.\n",
    "3. Transpose the dataframe and get `idxmax()` on all columns, i.e. `url`, returned value is a series with `url` as index and _np.array_ (\"odds\", `category`) as values.\n",
    "4. Create a dataframe using the returned series, and convert the _np.array_ into a string column \"top category\" by selecting the second element.\n",
    "5. Create a new \"top odds\" column for the dataframe by `max()` on the transposed dataframe in _step 2_."
   ]
  },
  {
   "cell_type": "code",
   "execution_count": 10,
   "metadata": {
    "collapsed": false
   },
   "outputs": [
    {
     "data": {
      "text/html": [
       "<div>\n",
       "<table border=\"1\" class=\"dataframe\">\n",
       "  <thead>\n",
       "    <tr style=\"text-align: right;\">\n",
       "      <th></th>\n",
       "      <th>top category</th>\n",
       "      <th>top odds</th>\n",
       "    </tr>\n",
       "  </thead>\n",
       "  <tbody>\n",
       "    <tr>\n",
       "      <th>http://0-101.net</th>\n",
       "      <td>G</td>\n",
       "      <td>2.166667</td>\n",
       "    </tr>\n",
       "    <tr>\n",
       "      <th>http://000.cc</th>\n",
       "      <td>G</td>\n",
       "      <td>1.470000</td>\n",
       "    </tr>\n",
       "    <tr>\n",
       "      <th>http://0000.jp</th>\n",
       "      <td>G</td>\n",
       "      <td>14.700000</td>\n",
       "    </tr>\n",
       "    <tr>\n",
       "      <th>http://000relationships.com</th>\n",
       "      <td>G</td>\n",
       "      <td>10.084200</td>\n",
       "    </tr>\n",
       "    <tr>\n",
       "      <th>http://000vitamins.com</th>\n",
       "      <td>G</td>\n",
       "      <td>3.814493</td>\n",
       "    </tr>\n",
       "    <tr>\n",
       "      <th>http://000webhost.com</th>\n",
       "      <td>G</td>\n",
       "      <td>11.293844</td>\n",
       "    </tr>\n",
       "    <tr>\n",
       "      <th>http://003my.com</th>\n",
       "      <td>G</td>\n",
       "      <td>4.952381</td>\n",
       "    </tr>\n",
       "    <tr>\n",
       "      <th>http://007absolutehardcore.com/early_cumshots/index.html</th>\n",
       "      <td>X</td>\n",
       "      <td>300.376562</td>\n",
       "    </tr>\n",
       "    <tr>\n",
       "      <th>http://007swz.cn</th>\n",
       "      <td>G</td>\n",
       "      <td>1.400000</td>\n",
       "    </tr>\n",
       "    <tr>\n",
       "      <th>http://01768.com</th>\n",
       "      <td>G</td>\n",
       "      <td>1.400000</td>\n",
       "    </tr>\n",
       "  </tbody>\n",
       "</table>\n",
       "</div>"
      ],
      "text/plain": [
       "                                                   top category    top odds\n",
       "http://0-101.net                                              G    2.166667\n",
       "http://000.cc                                                 G    1.470000\n",
       "http://0000.jp                                                G   14.700000\n",
       "http://000relationships.com                                   G   10.084200\n",
       "http://000vitamins.com                                        G    3.814493\n",
       "http://000webhost.com                                         G   11.293844\n",
       "http://003my.com                                              G    4.952381\n",
       "http://007absolutehardcore.com/early_cumshots/i...            X  300.376562\n",
       "http://007swz.cn                                              G    1.400000\n",
       "http://01768.com                                              G    1.400000"
      ]
     },
     "execution_count": 10,
     "metadata": {},
     "output_type": "execute_result"
    }
   ],
   "source": [
    "overall_odds_df = overall_odds.groupby([\"url\", \"category\"])[[\"odds\"]].prod().unstack(\"category\").T.fillna(0)\n",
    "url_rating = pd.DataFrame(overall_odds_df.idxmax())\n",
    "url_rating[\"top category\"] = url_rating[0].map(lambda s: s[1])\n",
    "url_rating = url_rating.set_index(url_rating.index.values)\n",
    "url_rating[\"top odds\"] = overall_odds_df.max()\n",
    "url_rating = url_rating[[\"top category\", \"top odds\"]]\n",
    "url_rating[:10]"
   ]
  },
  {
   "cell_type": "markdown",
   "metadata": {},
   "source": [
    "## Question 9: Predicted categories using more turks"
   ]
  },
  {
   "cell_type": "markdown",
   "metadata": {},
   "source": [
    "1. Repeat _Question\\ 7_ and _Question\\ 8_ to create a dataframe where `url` are rated by top 75% turks.\n",
    "    > Here only the \"top category\" column is kept and named `result_75`\n",
    "2. Take out `top category` column from the dataframe from _Question\\ 8_ and rename it `result_25`, and make it a dataframe.\n",
    "3. Merge the two dataframes on index.\n",
    "4. Create a `crosstab` with the two columns as index and columns respectively.\n",
    "5. From the crosstab it can be seen that, the most errors are where the top 25% turks rated \"G\" but the top 75% turks rated \"P\" (2930 occurences), \"G\" versus \"R\" (483 occurences), \"P\" versus \"G\" (197 occurences) and \"X\" versus \"G\" (168 occurences)."
   ]
  },
  {
   "cell_type": "code",
   "execution_count": 11,
   "metadata": {
    "collapsed": false
   },
   "outputs": [
    {
     "data": {
      "text/html": [
       "<div>\n",
       "<table border=\"1\" class=\"dataframe\">\n",
       "  <thead>\n",
       "    <tr style=\"text-align: right;\">\n",
       "      <th>result_75</th>\n",
       "      <th>G</th>\n",
       "      <th>P</th>\n",
       "      <th>R</th>\n",
       "      <th>X</th>\n",
       "    </tr>\n",
       "    <tr>\n",
       "      <th>result_25</th>\n",
       "      <th></th>\n",
       "      <th></th>\n",
       "      <th></th>\n",
       "      <th></th>\n",
       "    </tr>\n",
       "  </thead>\n",
       "  <tbody>\n",
       "    <tr>\n",
       "      <th>G</th>\n",
       "      <td>5779</td>\n",
       "      <td>2930</td>\n",
       "      <td>483</td>\n",
       "      <td>79</td>\n",
       "    </tr>\n",
       "    <tr>\n",
       "      <th>P</th>\n",
       "      <td>197</td>\n",
       "      <td>314</td>\n",
       "      <td>61</td>\n",
       "      <td>8</td>\n",
       "    </tr>\n",
       "    <tr>\n",
       "      <th>R</th>\n",
       "      <td>52</td>\n",
       "      <td>21</td>\n",
       "      <td>132</td>\n",
       "      <td>8</td>\n",
       "    </tr>\n",
       "    <tr>\n",
       "      <th>X</th>\n",
       "      <td>168</td>\n",
       "      <td>21</td>\n",
       "      <td>60</td>\n",
       "      <td>297</td>\n",
       "    </tr>\n",
       "  </tbody>\n",
       "</table>\n",
       "</div>"
      ],
      "text/plain": [
       "result_75     G     P    R    X\n",
       "result_25                      \n",
       "G          5779  2930  483   79\n",
       "P           197   314   61    8\n",
       "R            52    21  132    8\n",
       "X           168    21   60  297"
      ]
     },
     "execution_count": 11,
     "metadata": {},
     "output_type": "execute_result"
    }
   ],
   "source": [
    "top_75_cutpoint = labels_on_gold[\"turk\"].value_counts().quantile(q=.25)\n",
    "\n",
    "mask_2 = labels_unknown[\"turk\"].map(lambda s: turk_list[s]>=top_75_cutpoint if s in turk_list else False)\n",
    "labels_bytop75 = labels_unknown[mask_2]\n",
    "\n",
    "odds_top75 = rater_goodness[rater_goodness[\"turk\"].map(lambda s: turk_list[s]>=top_75_cutpoint if s in turk_list else False)]\n",
    "\n",
    "overall_odds_75 = pd.merge(labels_bytop75,\n",
    "                       odds_top75,\n",
    "                       left_on=\"turk\",\n",
    "                       right_on=\"turk\",\n",
    "                       how=\"left\").dropna()\n",
    "\n",
    "overall_odds_df_75 = overall_odds_75.groupby([\"url\", \"category\"])[[\"odds\"]].prod().unstack(\"category\").T.fillna(0)\n",
    "\n",
    "url_rating_75 = pd.DataFrame(overall_odds_df_75.idxmax())\n",
    "url_rating_75[\"result_75\"] = url_rating_75[0].map(lambda s: s[1])\n",
    "url_rating_75 = pd.DataFrame(url_rating_75[\"result_75\"])\n",
    "url_rating_75 = url_rating_75.set_index(url_rating_75.index.values)\n",
    "\n",
    "url_rating_25 = pd.DataFrame({\"result_25\": url_rating[\"top category\"]})\n",
    "\n",
    "url_rating_merged = pd.merge(url_rating_25,\n",
    "                            url_rating_75,\n",
    "                            left_index=True,\n",
    "                            right_index=True,\n",
    "                            ).dropna()\n",
    "\n",
    "url_rating_crosstab = pd.crosstab(index=url_rating_merged[\"result_25\"],\n",
    "                                 columns=url_rating_merged[\"result_75\"]\n",
    "                                 )\n",
    "\n",
    "url_rating_crosstab\n",
    "\n",
    "# overall_odds_75.groupby([\"url\", \"category\"])[[\"odds\"]].prod()"
   ]
  }
 ],
 "metadata": {
  "kernelspec": {
   "display_name": "Python 2",
   "language": "python",
   "name": "python2"
  },
  "language_info": {
   "codemirror_mode": {
    "name": "ipython",
    "version": 2
   },
   "file_extension": ".py",
   "mimetype": "text/x-python",
   "name": "python",
   "nbconvert_exporter": "python",
   "pygments_lexer": "ipython2",
   "version": "2.7.6"
  }
 },
 "nbformat": 4,
 "nbformat_minor": 0
}
