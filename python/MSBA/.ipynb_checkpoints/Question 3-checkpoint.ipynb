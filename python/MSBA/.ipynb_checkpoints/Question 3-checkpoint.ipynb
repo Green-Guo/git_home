{
 "cells": [
  {
   "cell_type": "code",
   "execution_count": null,
   "metadata": {
    "collapsed": false
   },
   "outputs": [],
   "source": [
    "###a:  quote is the list question a is asking for\n",
    "\n",
    "fhand= open('quotes.txt')\n",
    "quote = []\n",
    "n = 0\n",
    "for line in fhand:\n",
    "    line=line.rstrip()\n",
    "    n+=1\n",
    "    if n % 2 != 0: a = line\n",
    "    else: quote.append(a + '-'+ line )\n",
    "\n",
    "print quote[0] # test quote[0] result"
   ]
  },
  {
   "cell_type": "code",
   "execution_count": null,
   "metadata": {
    "collapsed": false
   },
   "outputs": [],
   "source": [
    "###b: splite every quote into words\n",
    "import re\n",
    "\n",
    "def quote2word(a):\n",
    "    word=re.split('\\W+', a)\n",
    "    return [x.lower() for x in word]\n",
    "    \n",
    "    \n",
    "print quote2word(quote[0]) # test quote[0] result"
   ]
  },
  {
   "cell_type": "code",
   "execution_count": null,
   "metadata": {
    "collapsed": false
   },
   "outputs": [],
   "source": [
    "###c: founction postinglist count each word in each quote and return a dictionary contains value as key, count as value. \n",
    "from collections import Counter\n",
    "def postinglist(a):\n",
    "    word=quote2word(a)\n",
    "    wordCount = dict(Counter(word))  \n",
    "    return wordCount\n",
    "\n",
    "print postinglist(quote[0]) # test quote[0] result"
   ]
  },
  {
   "cell_type": "code",
   "execution_count": null,
   "metadata": {
    "collapsed": false
   },
   "outputs": [],
   "source": [
    "###d: repostlist is the reverse pisting-list dictionary \n",
    "Repostlist = dict()\n",
    "valuelist= dict()\n",
    "\n",
    "def reverse_postinglist(a):\n",
    "    word = postinglist(a)\n",
    "    for k,v in word.items():\n",
    "        if k in Repostlist:\n",
    "            Repostlist[k][a]=v\n",
    "        else:\n",
    "            b=dict()\n",
    "            b[a]=v\n",
    "            Repostlist[k]=b\n",
    "    \n",
    "for list in quote:\n",
    "    reverse_postinglist(list)\n",
    "\n",
    "    \n",
    "print Repostlist\n",
    "\n",
    "\n"
   ]
  },
  {
   "cell_type": "code",
   "execution_count": null,
   "metadata": {
    "collapsed": false
   },
   "outputs": [],
   "source": [
    "###e: \n",
    "  \n",
    "def TF(w,a):\n",
    "    pl=postinglist(a)\n",
    "    TFvalue=pl[w]/max(pl.values())\n",
    "    return TFvalue\n",
    "\n",
    "import math\n",
    "def IDF(w):\n",
    "    IDFvalue=math.log(895/len(Repostlist[w]))\n",
    "    return IDFvalue\n",
    "    \n",
    "def TF_IDF(w,a):\n",
    "    return TF(w,a)*IDF(w)\n",
    "    \n",
    "    \n",
    "print TF_IDF('we',quote[0])"
   ]
  },
  {
   "cell_type": "code",
   "execution_count": null,
   "metadata": {
    "collapsed": false
   },
   "outputs": [],
   "source": [
    "###f:\n",
    "def Quote_search_single(w):\n",
    "    dict1=Repostlist[w]\n",
    "    dict2=dict()\n",
    "    for k in dict1:\n",
    "        a = TF_IDF(w,k)\n",
    "        dict2[k]= a\n",
    "    return dict2\n",
    "\n",
    "print Quote_search_single('we')\n",
    "\n",
    "\n"
   ]
  },
  {
   "cell_type": "code",
   "execution_count": 8,
   "metadata": {
    "collapsed": false
   },
   "outputs": [
    {
     "name": "stdout",
     "output_type": "stream",
     "text": [
      "146\n"
     ]
    }
   ],
   "source": [
    "###g\n",
    "\n",
    "def Quote_search_multiple(list):\n",
    "    dict2=dict()\n",
    "    for w in list:\n",
    "        #print w\n",
    "        dict1=Quote_search_single(w)\n",
    "        #print dict1\n",
    "        for k,v in dict1.iteritems():\n",
    "            #print k,v\n",
    "            if k in dict2: dict2[k]=dict2[k]*v\n",
    "            else:          dict2[k]=v\n",
    "    return dict2\n",
    "\n",
    "print len(Quote_search_multiple(['we','he']))"
   ]
  },
  {
   "cell_type": "code",
   "execution_count": null,
   "metadata": {
    "collapsed": true
   },
   "outputs": [],
   "source": []
  }
 ],
 "metadata": {
  "anaconda-cloud": {},
  "kernelspec": {
   "display_name": "Python 2",
   "language": "python",
   "name": "python2"
  },
  "language_info": {
   "codemirror_mode": {
    "name": "ipython",
    "version": 2
   },
   "file_extension": ".py",
   "mimetype": "text/x-python",
   "name": "python",
   "nbconvert_exporter": "python",
   "pygments_lexer": "ipython2",
   "version": "2.7.6"
  }
 },
 "nbformat": 4,
 "nbformat_minor": 0
}
