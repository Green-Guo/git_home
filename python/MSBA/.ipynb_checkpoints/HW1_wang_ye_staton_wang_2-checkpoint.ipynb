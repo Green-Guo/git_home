{
 "cells": [
  {
   "cell_type": "code",
   "execution_count": 1,
   "metadata": {
    "collapsed": true
   },
   "outputs": [],
   "source": [
    "#Problem: Voters in Florida\n",
    "#Group members: S. Wang, Y. Ye, M. Staton, W. Wang"
   ]
  },
  {
   "cell_type": "code",
   "execution_count": 2,
   "metadata": {
    "collapsed": false
   },
   "outputs": [],
   "source": [
    "#access regex functions\n",
    "import re"
   ]
  },
  {
   "cell_type": "code",
   "execution_count": 3,
   "metadata": {
    "collapsed": false
   },
   "outputs": [],
   "source": [
    "#make a handle on the html file\n",
    "html_handle = open(\"FloridaVoters.html\", \"r\")\n",
    "\n",
    "#read in one line at a time\n",
    "new_line = html_handle.readline()\n",
    "\n",
    "#make an empty list to store all lines\n",
    "records = []\n",
    "\n",
    "#it turns out the desired tag is \"<td>\". This line will retrieve all the lines\n",
    "#inside the \"<td>\" tag\n",
    "while len(new_line) != 0:\n",
    "    \n",
    "    if new_line.startswith(\"<td>\"):\n",
    "        \n",
    "        records.append(str(new_line.strip(\"<td></td>\\r\\n\")))\n",
    "    \n",
    "    new_line = html_handle.readline()\n",
    "    \n",
    "#close the handle to end the process\n",
    "html_handle.close()"
   ]
  },
  {
   "cell_type": "code",
   "execution_count": 4,
   "metadata": {
    "collapsed": false
   },
   "outputs": [],
   "source": [
    "#create an empty list to store the data\n",
    "clean_list = []\n",
    "\n",
    "#every state takes 6 places in the list, so iterate over the list by 6 every time\n",
    "for i in range(0, len(records), 6):\n",
    "    \n",
    "    county = records[i]\n",
    "    \n",
    "    rep_count = int(records[i+1].replace(\",\",\"\"))\n",
    "    dem_count = int(records[i+2].replace(\",\",\"\"))\n",
    "    \n",
    "    clean_list.append({\"county\": county, \"rep\": rep_count, \"dem\": dem_count})\n",
    "\n",
    "#define a helper function to sort the list by democratic votes\n",
    "def get_dem(dict):\n",
    "    return dict[\"dem\"]"
   ]
  },
  {
   "cell_type": "code",
   "execution_count": 5,
   "metadata": {
    "collapsed": false
   },
   "outputs": [
    {
     "name": "stdout",
     "output_type": "stream",
     "text": [
      "LAFAYETTE          1373    2672\n",
      "GLADES             2190    3110\n",
      "LIBERTY             720    3372\n",
      "UNION              2752    3579\n",
      "GILCHRIST          5789    3652\n",
      "FRANKLIN           2234    4319\n",
      "HOLMES             5282    4434\n",
      "GULF               4234    4521\n",
      "HARDEE             4859    4702\n",
      "HAMILTON           2154    4796\n",
      "DIXIE              3314    4839\n",
      "CALHOUN            2201    5324\n",
      "WASHINGTON         7101    5687\n",
      "JEFFERSON          2636    5802\n",
      "BAKER              6963    5813\n",
      "BRADFORD           6878    6533\n",
      "TAYLOR             3950    6915\n",
      "MADISON            2992    7158\n",
      "DESOTO             4870    7181\n",
      "OKEECHOBEE         7755    7756\n",
      "HENDRY             5862    7999\n",
      "WAKULLA            7374    8889\n",
      "LEVY              11665    9509\n",
      "WALTON            25609   10013\n",
      "SUWANNEE          10745   11126\n",
      "NASSAU            32958   14013\n",
      "COLUMBIA          15790   14797\n",
      "JACKSON            9626   15706\n",
      "MONROE            20602   17614\n",
      "HIGHLANDS         27100   19997\n",
      "PUTNAM            17067   20606\n",
      "GADSDEN            4372   22161\n",
      "SUMTER            47158   22977\n",
      "FLAGLER           30047   24734\n",
      "OKALOOSA          75154   25172\n",
      "SANTA ROSA        73627   26114\n",
      "MARTIN            53800   27358\n",
      "INDIAN RIVER      47794   28204\n",
      "CITRUS            46373   30440\n",
      "BAY               57456   30733\n",
      "CLAY              76584   31285\n",
      "CHARLOTTE         54421   35602\n",
      "ST. JOHNS         88385   39531\n",
      "HERNANDO          51254   42499\n",
      "COLLIER          100167   45511\n",
      "LAKE              93604   67237\n",
      "MANATEE           96063   67926\n",
      "ESCAMBIA          90265   70180\n",
      "OSCEOLA           44594   75657\n",
      "ST. LUCIE         59626   76163\n",
      "MARION            97306   76268\n",
      "ALACHUA           47329   77996\n",
      "SARASOTA         125872   89711\n",
      "SEMINOLE         107833   91686\n",
      "LEON              54554  103140\n",
      "PASCO            125305  104324\n",
      "LEE              180718  114633\n",
      "VOLUSIA          121402  124136\n",
      "BREVARD          167129  127435\n",
      "POLK             140619  143799\n",
      "PINELLAS         223077  221968\n",
      "DUVAL            210195  229501\n",
      "ORANGE           206174  303458\n",
      "HILLSBOROUGH     257436  314265\n",
      "PALM BEACH       245452  367236\n",
      "MIAMI-DADE       362161  539367\n",
      "BROWARD          249762  566185\n",
      "Total           4377713 4637026\n"
     ]
    }
   ],
   "source": [
    "#sort the list by democratic votes\n",
    "sorted_list = sorted(clean_list, key=get_dem)\n",
    "\n",
    "#print the sorted list line by line\n",
    "for elem in sorted_list:\n",
    "    print \"{:<15}{:>8}{:>8}\".format(elem[\"county\"], elem[\"rep\"], elem[\"dem\"])"
   ]
  }
 ],
 "metadata": {
  "kernelspec": {
   "display_name": "Python 2",
   "language": "python",
   "name": "python2"
  },
  "language_info": {
   "codemirror_mode": {
    "name": "ipython",
    "version": 2
   },
   "file_extension": ".py",
   "mimetype": "text/x-python",
   "name": "python",
   "nbconvert_exporter": "python",
   "pygments_lexer": "ipython2",
   "version": "2.7.6"
  }
 },
 "nbformat": 4,
 "nbformat_minor": 0
}
