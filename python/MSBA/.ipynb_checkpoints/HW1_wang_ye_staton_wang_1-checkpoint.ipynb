{
 "cells": [
  {
   "cell_type": "code",
   "execution_count": null,
   "metadata": {
    "collapsed": true
   },
   "outputs": [],
   "source": [
    "#Problem: Rock, Paper, Scissors\n",
    "#Group members: S.Wang, Y. Ye, M. Staton, W. Wang"
   ]
  },
  {
   "cell_type": "code",
   "execution_count": null,
   "metadata": {
    "collapsed": false
   },
   "outputs": [],
   "source": [
    "import random #to access randint()"
   ]
  },
  {
   "cell_type": "code",
   "execution_count": null,
   "metadata": {
    "collapsed": false
   },
   "outputs": [],
   "source": [
    "def rock_paper_scissors(): #\n",
    "    \n",
    "    computer_choices = [\"Rock\", \"Paper\", \"Scissors\"] #initialize the computer choices set\n",
    "    \n",
    "    usr_choices = {\"r\":\"Rock\", \"p\":\"Paper\", \"s\":\"Scissors\"} #initialize the user choices set\n",
    "    \n",
    "    rounds = 0 #initialize round counter\n",
    "\n",
    "    usr_wins = 0 #initialize how many rounds user wins\n",
    "    \n",
    "    computer_wins = 0 #initialize how many rounds computer wins\n",
    "    \n",
    "    usr_pref = {\"r\": 1, \"p\": 1, \"s\": 1} #initialize user's preference, adjust the values to tune bias-variance\n",
    "    \n",
    "    #define a winning set for the user\n",
    "    winning_set = [\n",
    "        [\"Rock\", \"Scissors\"],\n",
    "        [\"Paper\", \"Rock\"],\n",
    "        [\"Scissors\", \"Paper\"]\n",
    "    ]\n",
    "    \n",
    "    print \"Welcome to the game.\"\n",
    "    \n",
    "    while True:\n",
    "        \n",
    "        rounds += 1 #count this round\n",
    "        \n",
    "        random_int = random.randint(0, sum(usr_pref.values())) #generate a random float value\n",
    "        \n",
    "        computer_index = 0 #initialize the index of computer's choice\n",
    "        \n",
    "        #the following code adjust computer's choice according to user's historic moves\n",
    "        if random_int <= usr_pref[\"r\"]:\n",
    "            \n",
    "            computer_index = 1\n",
    "        \n",
    "        elif random_int <= usr_pref[\"r\"] + usr_pref[\"p\"]:\n",
    "            \n",
    "            computer_index = 2\n",
    "            \n",
    "        else:\n",
    "            \n",
    "            computer_index = 0\n",
    "            \n",
    "        usr_choice = \"\" #initialize the user's choice as empty\n",
    "        \n",
    "        while usr_choice not in [\"r\", \"p\", \"s\", \"q\"]:\n",
    "            \n",
    "            usr_choice = raw_input(\"Make your choice\\n[r]ock\\n[p]aper\\n[s]cissors\\n[q]uit\\n:\").lower()\n",
    "            \n",
    "        if usr_choice == \"q\":\n",
    "            \n",
    "            print \"Total rounds: \", rounds\n",
    "            print \"You >>> \", usr_wins, \" : \", computer_wins, \" <<< Computer\"\n",
    "            print \"Draws: \", rounds - usr_wins - computer_wins\n",
    "            \n",
    "            for key, value in usr_pref.items():\n",
    "                \n",
    "                print key, value\n",
    "            \n",
    "            print \"Bye\"\n",
    "            \n",
    "            return\n",
    "        \n",
    "        computer_move = computer_choices[computer_index]\n",
    "        \n",
    "        usr_move = usr_choices[usr_choice]\n",
    "        \n",
    "        print \"Your move -> \", usr_move, \":\", computer_move, \" <- Computer's move\"\n",
    "        \n",
    "        if [usr_move, computer_move] in winning_set:\n",
    "            \n",
    "            print \"Congrats, you won!\"\n",
    "            \n",
    "            usr_wins += 1\n",
    "            \n",
    "        elif usr_move == computer_move:\n",
    "            \n",
    "            print \"Almost.\"\n",
    "            \n",
    "        else:\n",
    "            \n",
    "            print \"Sorry mate, not today.\"\n",
    "            \n",
    "            computer_wins += 1\n",
    "\n",
    "        usr_pref[usr_choice] += 1     \n",
    "        \n",
    "    return\n",
    "    "
   ]
  },
  {
   "cell_type": "code",
   "execution_count": null,
   "metadata": {
    "collapsed": false
   },
   "outputs": [],
   "source": [
    "#let's start the game\n",
    "rock_paper_scissors()"
   ]
  }
 ],
 "metadata": {
  "kernelspec": {
   "display_name": "Python 2",
   "language": "python",
   "name": "python2"
  },
  "language_info": {
   "codemirror_mode": {
    "name": "ipython",
    "version": 2
   },
   "file_extension": ".py",
   "mimetype": "text/x-python",
   "name": "python",
   "nbconvert_exporter": "python",
   "pygments_lexer": "ipython2",
   "version": "2.7.6"
  }
 },
 "nbformat": 4,
 "nbformat_minor": 0
}
