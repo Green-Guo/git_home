{
 "cells": [
  {
   "cell_type": "code",
   "execution_count": 1,
   "metadata": {
    "collapsed": false
   },
   "outputs": [],
   "source": [
    "import pandas as pd\n",
    "import numpy as np\n",
    "from ggplot import *\n",
    "import warnings\n",
    "warnings.filterwarnings(\"ignore\")\n",
    "%matplotlib inline"
   ]
  },
  {
   "cell_type": "code",
   "execution_count": 2,
   "metadata": {
    "collapsed": false
   },
   "outputs": [],
   "source": [
    "#read in header\n",
    "with open(\"expedia_columnnames.csv\") as f:\n",
    "    colnames = f.readline().strip().split(\",\")\n",
    "\n",
    "#read in data (1/1000 of original dataset)\n",
    "expedia = pd.read_csv(\"expedia_2_1000.csv\", header=None, names=colnames)"
   ]
  },
  {
   "cell_type": "code",
   "execution_count": 3,
   "metadata": {
    "collapsed": false
   },
   "outputs": [
    {
     "data": {
      "text/plain": [
       "array(['date_time', 'site_name', 'posa_continent', 'user_location_country',\n",
       "       'user_location_region', 'user_location_city',\n",
       "       'orig_destination_distance', 'user_id', 'is_mobile', 'is_package',\n",
       "       'channel', 'srch_ci', 'srch_co', 'srch_adults_cnt',\n",
       "       'srch_children_cnt', 'srch_rm_cnt', 'srch_destination_id',\n",
       "       'srch_destination_type_id', 'is_booking', 'cnt', 'hotel_continent',\n",
       "       'hotel_country', 'hotel_market', 'hotel_cluster'], dtype=object)"
      ]
     },
     "execution_count": 3,
     "metadata": {},
     "output_type": "execute_result"
    }
   ],
   "source": [
    "#reminder of header\n",
    "expedia.columns.values"
   ]
  },
  {
   "cell_type": "code",
   "execution_count": 4,
   "metadata": {
    "collapsed": false
   },
   "outputs": [
    {
     "name": "stdout",
     "output_type": "stream",
     "text": [
      "0.135541928805\n",
      "0.0801677683098\n",
      "0.252767380744\n"
     ]
    }
   ],
   "source": [
    "#ratio of mobile users\n",
    "print expedia[\"is_mobile\"].mean()\n",
    "\n",
    "#ratio of successful orders\n",
    "print expedia[\"is_booking\"].mean()\n",
    "\n",
    "#ratio of packaged orders\n",
    "print expedia[\"is_package\"].mean()"
   ]
  },
  {
   "cell_type": "code",
   "execution_count": 5,
   "metadata": {
    "collapsed": false
   },
   "outputs": [],
   "source": [
    "#create an empty dataframe\n",
    "training = pd.DataFrame()\n",
    "#create 3 columns of the year, month and day as of searching\n",
    "training[\"search_year\"] = expedia[\"date_time\"].map(lambda s: s.split()[0].split(\"-\")[0])\n",
    "training[\"search_month\"] = expedia[\"date_time\"].map(lambda s: s.split()[0].split(\"-\")[1])\n",
    "training[\"search_day\"] = expedia[\"date_time\"].map(lambda s: s.split()[0].split(\"-\")[2])\n",
    "#create 3 columns of the year, month and day of C/I\n",
    "training[\"ci_year\"] = expedia[-expedia[\"srch_ci\"].isnull()][\"srch_ci\"].map(lambda s: str(s).split(\"-\")[0])\n",
    "training[\"ci_month\"] = expedia[-expedia[\"srch_ci\"].isnull()][\"srch_ci\"].map(lambda s: str(s).split(\"-\")[1])\n",
    "training[\"ci_day\"] = expedia[-expedia[\"srch_ci\"].isnull()][\"srch_ci\"].map(lambda s: str(s).split(\"-\")[2])\n",
    "#add site name, as string, to the new dataframe\n",
    "training[\"site\"] = expedia[\"site_name\"].map(str)\n",
    "#add site continent to the new dataframe\n",
    "training[\"site_continent\"] = expedia[\"posa_continent\"].map(str)\n",
    "#add user country\n",
    "training[\"user_country\"] = expedia[\"user_location_country\"].map(str)\n",
    "#add destination distance\n",
    "training[\"dest_dist\"] = expedia[\"orig_destination_distance\"]\n",
    "#add is_mobile flag\n",
    "training[\"mobile\"] = expedia[\"is_mobile\"]\n",
    "#add is_package flag\n",
    "training[\"package\"] = expedia[\"is_package\"]\n",
    "#add number of hotel rooms\n",
    "training[\"rooms\"] = expedia[\"srch_rm_cnt\"]\n",
    "#add hotel country\n",
    "training[\"hotel_country\"] = expedia[\"hotel_country\"].map(str)\n",
    "#add hotel continent\n",
    "training[\"hotel_continent\"] = expedia[\"hotel_continent\"].map(str)\n",
    "#add is_booking flag\n",
    "training[\"booking\"] = expedia[\"is_booking\"]\n",
    "#add session history\n",
    "training[\"history\"] = expedia[\"cnt\"]"
   ]
  },
  {
   "cell_type": "code",
   "execution_count": 6,
   "metadata": {
    "collapsed": false
   },
   "outputs": [
    {
     "data": {
      "text/html": [
       "<div>\n",
       "<table border=\"1\" class=\"dataframe\">\n",
       "  <thead>\n",
       "    <tr style=\"text-align: right;\">\n",
       "      <th></th>\n",
       "      <th>search_year</th>\n",
       "      <th>search_month</th>\n",
       "      <th>search_day</th>\n",
       "      <th>ci_year</th>\n",
       "      <th>ci_month</th>\n",
       "      <th>ci_day</th>\n",
       "      <th>site</th>\n",
       "      <th>site_continent</th>\n",
       "      <th>user_country</th>\n",
       "      <th>dest_dist</th>\n",
       "      <th>mobile</th>\n",
       "      <th>package</th>\n",
       "      <th>rooms</th>\n",
       "      <th>hotel_country</th>\n",
       "      <th>hotel_continent</th>\n",
       "      <th>booking</th>\n",
       "      <th>history</th>\n",
       "    </tr>\n",
       "  </thead>\n",
       "  <tbody>\n",
       "    <tr>\n",
       "      <th>0</th>\n",
       "      <td>2014</td>\n",
       "      <td>08</td>\n",
       "      <td>11</td>\n",
       "      <td>2014</td>\n",
       "      <td>08</td>\n",
       "      <td>27</td>\n",
       "      <td>2</td>\n",
       "      <td>3</td>\n",
       "      <td>66</td>\n",
       "      <td>2234.2641</td>\n",
       "      <td>0</td>\n",
       "      <td>1</td>\n",
       "      <td>1</td>\n",
       "      <td>50</td>\n",
       "      <td>2</td>\n",
       "      <td>0</td>\n",
       "      <td>3</td>\n",
       "    </tr>\n",
       "    <tr>\n",
       "      <th>1</th>\n",
       "      <td>2014</td>\n",
       "      <td>08</td>\n",
       "      <td>13</td>\n",
       "      <td>2014</td>\n",
       "      <td>08</td>\n",
       "      <td>17</td>\n",
       "      <td>11</td>\n",
       "      <td>3</td>\n",
       "      <td>205</td>\n",
       "      <td>2221.7824</td>\n",
       "      <td>0</td>\n",
       "      <td>0</td>\n",
       "      <td>2</td>\n",
       "      <td>96</td>\n",
       "      <td>4</td>\n",
       "      <td>0</td>\n",
       "      <td>2</td>\n",
       "    </tr>\n",
       "    <tr>\n",
       "      <th>2</th>\n",
       "      <td>2014</td>\n",
       "      <td>12</td>\n",
       "      <td>27</td>\n",
       "      <td>2015</td>\n",
       "      <td>06</td>\n",
       "      <td>29</td>\n",
       "      <td>2</td>\n",
       "      <td>3</td>\n",
       "      <td>66</td>\n",
       "      <td>1002.2597</td>\n",
       "      <td>0</td>\n",
       "      <td>1</td>\n",
       "      <td>1</td>\n",
       "      <td>50</td>\n",
       "      <td>2</td>\n",
       "      <td>0</td>\n",
       "      <td>1</td>\n",
       "    </tr>\n",
       "    <tr>\n",
       "      <th>3</th>\n",
       "      <td>2014</td>\n",
       "      <td>09</td>\n",
       "      <td>22</td>\n",
       "      <td>2014</td>\n",
       "      <td>10</td>\n",
       "      <td>05</td>\n",
       "      <td>2</td>\n",
       "      <td>3</td>\n",
       "      <td>66</td>\n",
       "      <td>1355.7408</td>\n",
       "      <td>0</td>\n",
       "      <td>1</td>\n",
       "      <td>1</td>\n",
       "      <td>8</td>\n",
       "      <td>4</td>\n",
       "      <td>0</td>\n",
       "      <td>1</td>\n",
       "    </tr>\n",
       "    <tr>\n",
       "      <th>4</th>\n",
       "      <td>2014</td>\n",
       "      <td>03</td>\n",
       "      <td>30</td>\n",
       "      <td>2014</td>\n",
       "      <td>05</td>\n",
       "      <td>20</td>\n",
       "      <td>2</td>\n",
       "      <td>3</td>\n",
       "      <td>66</td>\n",
       "      <td>1062.0509</td>\n",
       "      <td>0</td>\n",
       "      <td>1</td>\n",
       "      <td>1</td>\n",
       "      <td>50</td>\n",
       "      <td>2</td>\n",
       "      <td>0</td>\n",
       "      <td>9</td>\n",
       "    </tr>\n",
       "  </tbody>\n",
       "</table>\n",
       "</div>"
      ],
      "text/plain": [
       "  search_year search_month search_day ci_year ci_month ci_day site  \\\n",
       "0        2014           08         11    2014       08     27    2   \n",
       "1        2014           08         13    2014       08     17   11   \n",
       "2        2014           12         27    2015       06     29    2   \n",
       "3        2014           09         22    2014       10     05    2   \n",
       "4        2014           03         30    2014       05     20    2   \n",
       "\n",
       "  site_continent user_country  dest_dist  mobile  package  rooms  \\\n",
       "0              3           66  2234.2641       0        1      1   \n",
       "1              3          205  2221.7824       0        0      2   \n",
       "2              3           66  1002.2597       0        1      1   \n",
       "3              3           66  1355.7408       0        1      1   \n",
       "4              3           66  1062.0509       0        1      1   \n",
       "\n",
       "  hotel_country hotel_continent  booking  history  \n",
       "0            50               2        0        3  \n",
       "1            96               4        0        2  \n",
       "2            50               2        0        1  \n",
       "3             8               4        0        1  \n",
       "4            50               2        0        9  "
      ]
     },
     "execution_count": 6,
     "metadata": {},
     "output_type": "execute_result"
    }
   ],
   "source": [
    "#print first rows to verify the structure\n",
    "training[:5]"
   ]
  },
  {
   "cell_type": "code",
   "execution_count": 7,
   "metadata": {
    "collapsed": false
   },
   "outputs": [
    {
     "data": {
      "image/png": "[encoded data removed]",
      "text/plain": [
       "<matplotlib.figure.Figure at 0x7f769eb6c9d0>"
      ]
     },
     "metadata": {},
     "output_type": "display_data"
    },
    {
     "data": {
      "text/plain": [
       "<ggplot: (8759215352949)>"
      ]
     },
     "execution_count": 7,
     "metadata": {},
     "output_type": "execute_result"
    }
   ],
   "source": [
    "#monthly viewing, booking and C/I pattern\n",
    "ggplot(aes(x=\"search_month\"), data=training) +\\\n",
    "    geom_bar(fill=\"blue\", alpha=0.3) +\\\n",
    "    geom_bar(aes(x=\"search_month\"), data=training[training[\"booking\"]==1], fill=\"red\", alpha=0.3) +\\\n",
    "    geom_bar(aes(x=\"ci_month\"), data=training, fill=\"green\", alpha=0.3) +\\\n",
    "    labs(x=\"Month\", y=\"Count\") +\\\n",
    "    scale_fill_manual(labels=[\"1\", \"2\", \"3\"])"
   ]
  },
  {
   "cell_type": "code",
   "execution_count": 8,
   "metadata": {
    "collapsed": false
   },
   "outputs": [
    {
     "data": {
      "image/png": "[encoded data removed]",
      "text/plain": [
       "<matplotlib.figure.Figure at 0x7f769e662b10>"
      ]
     },
     "metadata": {},
     "output_type": "display_data"
    },
    {
     "data": {
      "text/plain": [
       "<ggplot: (8759232437957)>"
      ]
     },
     "execution_count": 8,
     "metadata": {},
     "output_type": "execute_result"
    }
   ],
   "source": [
    "#when do people look for hotels for Christmas season.\n",
    "mask_christmas = training[\"ci_day\"] > \"20\"\n",
    "ggplot(aes(x=\"search_month\"), data=training[training[\"ci_month\"]==\"12\"][mask_christmas]) +\\\n",
    "    geom_bar(fill=\"red\", alpha=0.5) +\\\n",
    "    scale_x_discrete(limits=(0,12))"
   ]
  },
  {
   "cell_type": "code",
   "execution_count": 9,
   "metadata": {
    "collapsed": false
   },
   "outputs": [
    {
     "data": {
      "image/png": "[encoded data removed]",
      "text/plain": [
       "<matplotlib.figure.Figure at 0x7f769e463f90>"
      ]
     },
     "metadata": {},
     "output_type": "display_data"
    },
    {
     "data": {
      "text/plain": [
       "<ggplot: (8759215033665)>"
      ]
     },
     "execution_count": 9,
     "metadata": {},
     "output_type": "execute_result"
    }
   ],
   "source": [
    "#when do people look for hotels for summer vacation\n",
    "mask_summer = training[\"ci_month\"].map(lambda s: s in [\"07\", \"08\"])\n",
    "ggplot(aes(x=\"search_month\"), data=training[mask_summer]) +\\\n",
    "    geom_bar(fill=\"blue\", alpha=0.5) +\\\n",
    "    scale_x_discrete(limits=(0, 12))"
   ]
  },
  {
   "cell_type": "code",
   "execution_count": 10,
   "metadata": {
    "collapsed": false
   },
   "outputs": [
    {
     "data": {
      "image/png": "[encoded data removed]",
      "text/plain": [
       "<matplotlib.figure.Figure at 0x7f769e320990>"
      ]
     },
     "metadata": {},
     "output_type": "display_data"
    },
    {
     "data": {
      "text/plain": [
       "<ggplot: (8759214861589)>"
      ]
     },
     "execution_count": 10,
     "metadata": {},
     "output_type": "execute_result"
    }
   ],
   "source": [
    "#the distribution of how many searches the customer has made\n",
    "ggplot(aes(x=\"history\"), data=training) +\\\n",
    "    geom_bar(fill=\"blue\", alpha=0.3) +\\\n",
    "    geom_bar(aes(x=\"history\"), data=training[training[\"booking\"]==1], fill=\"green\", alpha=0.3) +\\\n",
    "    scale_x_continuous(limits=(0,10))"
   ]
  },
  {
   "cell_type": "markdown",
   "metadata": {
    "collapsed": false
   },
   "source": [
    "#the distribution of user countries, match country number with name from annual reports\n",
    "top90_cut = training[\"user_country\"].value_counts().quantile(0.9)\n",
    "top90 = training[\"user_country\"].value_counts()\n",
    "mask_top90 = training[\"user_country\"].map(lambda s: top90[s] >= top90_cut)\n",
    "\n",
    "ggplot(aes(x=\"user_country\"), data=training[mask_top90]) +\\\n",
    "    geom_bar(fill=\"blue\", alpha=0.5) +\\\n",
    "    scale_y_continuous(limits=(0,22000))"
   ]
  },
  {
   "cell_type": "markdown",
   "metadata": {
    "collapsed": false
   },
   "source": [
    "#the distribution of hotel countries, match country number with name from annual reports\n",
    "top90_cut = training[\"hotel_country\"].value_counts().quantile(0.9)\n",
    "top90 = training[\"hotel_country\"].value_counts()\n",
    "mask_top90 = training[\"hotel_country\"].map(lambda s: top90[s] >= top90_cut)\n",
    "\n",
    "ggplot(aes(x=\"hotel_country\"), data=training[mask_top90]) +\\\n",
    "    geom_bar(fill=\"red\", alpha=0.5) +\\\n",
    "    scale_y_continuous(limits=(0,22000))"
   ]
  },
  {
   "cell_type": "code",
   "execution_count": 11,
   "metadata": {
    "collapsed": false
   },
   "outputs": [
    {
     "data": {
      "image/png": "[encoded data removed]",
      "text/plain": [
       "<matplotlib.figure.Figure at 0x7f769e2f0d50>"
      ]
     },
     "metadata": {},
     "output_type": "display_data"
    },
    {
     "data": {
      "text/plain": [
       "<ggplot: (8759214684669)>"
      ]
     },
     "execution_count": 11,
     "metadata": {},
     "output_type": "execute_result"
    }
   ],
   "source": [
    "#plotting user country and hotel country together, a clear pairing pattern appears, meaning users mostly search for domestic hotels\n",
    "ggplot(aes(x=\"hotel_country\"), data=training) +\\\n",
    "    geom_bar(stat=\"identity\", fill=\"red\", alpha=0.5) +\\\n",
    "    geom_bar(aes(x=\"user_country\"), stat=\"identity\", fill=\"blue\", alpha=0.5) +\\\n",
    "    scale_y_continuous(limits=(0,22000)) +\\\n",
    "    scale_x_discrete(name=\"Country Code\", breaks=[0])"
   ]
  },
  {
   "cell_type": "code",
   "execution_count": 12,
   "metadata": {
    "collapsed": false
   },
   "outputs": [
    {
     "data": {
      "image/png": "[encoded data removed]",
      "text/plain": [
       "<matplotlib.figure.Figure at 0x7f769e2f0950>"
      ]
     },
     "metadata": {},
     "output_type": "display_data"
    },
    {
     "data": {
      "text/plain": [
       "<ggplot: (8759214908217)>"
      ]
     },
     "execution_count": 12,
     "metadata": {},
     "output_type": "execute_result"
    }
   ],
   "source": [
    "#how far is the search\n",
    "ggplot(aes(x=\"dest_dist\"), data=training) +\\\n",
    "    geom_histogram(bins=100, fill=\"red\", alpha=0.5) +\\\n",
    "    scale_x_continuous(limits=(0, 10000))"
   ]
  },
  {
   "cell_type": "code",
   "execution_count": 13,
   "metadata": {
    "collapsed": false
   },
   "outputs": [],
   "source": [
    "#create a new column of days between searching and C/I\n",
    "import datetime\n",
    "mask_date_1 = -training[\"search_year\"].isnull()\n",
    "mask_date_2 = -training[\"ci_year\"].isnull()\n",
    "training_date = training[mask_date_1][mask_date_2][[\"search_year\", \"search_month\", \"search_day\", \"ci_year\", \"ci_month\", \"ci_day\"]]\n",
    "training_date[\"search_date\"] = training_date[[\"search_year\", \"search_month\", \"search_day\"]]\\\n",
    "    .apply(lambda s: datetime.datetime(year=int(s[0]), month=int(s[1]), day=int(s[2])), axis=1)\n",
    "training_date[\"ci_date\"] = training_date[[\"ci_year\", \"ci_month\", \"ci_day\"]]\\\n",
    "    .apply(lambda s: datetime.datetime(year=int(s[0]), month=int(s[1]), day=int(s[2])), axis=1)"
   ]
  },
  {
   "cell_type": "code",
   "execution_count": 14,
   "metadata": {
    "collapsed": false
   },
   "outputs": [],
   "source": [
    "#only select the date columns in the dataframe, and calculate the advance period between searching and C/I\n",
    "training_date = training_date[[\"search_date\", \"ci_date\"]]\n",
    "training_date[\"advance\"] = (training_date[\"ci_date\"] - training_date[\"search_date\"]).map(lambda t: t.days)"
   ]
  },
  {
   "cell_type": "code",
   "execution_count": 15,
   "metadata": {
    "collapsed": false
   },
   "outputs": [],
   "source": [
    "#print out the distribution of days of searching before C/I, aka \"advance\"\n",
    "p = ggplot(aes(x=\"advance\"), data=training_date) +\\\n",
    "    geom_histogram(stat=\"bin\", bins=500, fill=\"red\", alpha=0.5) +\\\n",
    "    scale_x_continuous(limits=(0, 180))\n",
    "# ggplot.save(p, \"advance_hist\")"
   ]
  },
  {
   "cell_type": "code",
   "execution_count": 21,
   "metadata": {
    "collapsed": false
   },
   "outputs": [
    {
     "data": {
      "image/png": "[encoded data removed]",
      "text/plain": [
       "<matplotlib.figure.Figure at 0x7f769a4479d0>"
      ]
     },
     "metadata": {},
     "output_type": "display_data"
    },
    {
     "data": {
      "text/plain": [
       "<ggplot: (8759212416921)>"
      ]
     },
     "execution_count": 21,
     "metadata": {},
     "output_type": "execute_result"
    }
   ],
   "source": [
    "training_date[\"booking\"] = training[\"booking\"].copy()\n",
    "#days of booking before C/I\n",
    "ggplot(aes(x=\"advance\"), data=training_date[training_date[\"booking\"]==1]) +\\\n",
    "    geom_bar(stat=\"bin\", fill=\"blue\", alpha=0.5) +\\\n",
    "    scale_x_continuous(limits=(0, 180), breaks=[0, 7, 30, 90, 180], labels=[\"\", \"Week\", \"Month\", \"Quarter\", \"HY\"]) +\\\n",
    "    labs(x=\" \")"
   ]
  }
 ],
 "metadata": {
  "kernelspec": {
   "display_name": "Python 2",
   "language": "python",
   "name": "python2"
  },
  "language_info": {
   "codemirror_mode": {
    "name": "ipython",
    "version": 2
   },
   "file_extension": ".py",
   "mimetype": "text/x-python",
   "name": "python",
   "nbconvert_exporter": "python",
   "pygments_lexer": "ipython2",
   "version": "2.7.6"
  }
 },
 "nbformat": 4,
 "nbformat_minor": 0
}
