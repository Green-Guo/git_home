{
 "cells": [
  {
   "cell_type": "code",
   "execution_count": 1,
   "metadata": {
    "collapsed": true
   },
   "outputs": [],
   "source": [
    "#Problem: Voters in Florida\n",
    "#Group members: S. Wang, Y. Ye, M. Staton, W. Wang"
   ]
  },
  {
   "cell_type": "code",
   "execution_count": 2,
   "metadata": {
    "collapsed": false
   },
   "outputs": [],
   "source": [
    "#access regex functions\n",
    "import re"
   ]
  },
  {
   "cell_type": "code",
   "execution_count": 3,
   "metadata": {
    "collapsed": false
   },
   "outputs": [],
   "source": [
    "#make a handle on the html file\n",
    "html_handle = open(\"FloridaVoters.html\", \"r\")\n",
    "\n",
    "#read in one line at a time\n",
    "new_line = html_handle.readline()\n",
    "\n",
    "#make an empty list to store all lines\n",
    "records = []\n",
    "\n",
    "#it turns out the desired tag is \"<td>\". This line will retrieve all the lines\n",
    "#inside the \"<td>\" tag\n",
    "while len(new_line) != 0:\n",
    "    \n",
    "    if new_line.startswith(\"<td>\"):\n",
    "        \n",
    "        records.append(str(new_line.strip(\"<td></td>\\r\\n\")))\n",
    "    \n",
    "    new_line = html_handle.readline()\n",
    "    \n",
    "#close the handle to end the process\n",
    "html_handle.close()"
   ]
  },
  {
   "cell_type": "code",
   "execution_count": 4,
   "metadata": {
    "collapsed": false
   },
   "outputs": [
    {
     "name": "stdout",
     "output_type": "stream",
     "text": [
      "['ALACHUA', '47,329', '77,996', '3,864', '34,116', '163,305', 'BAKER', '6,963', '5,813', '184', '1,237', '14,197', 'BAY', '57,456', '30,733', '2,441', '20,625', '111,255', 'BRADFORD', '6,878', '6,533', '251', '1,971', '15,633', 'BREVARD', '167,129', '127,435', '13,960', '86,702', '395,226', 'BROWARD', '249,762', '566,185', '17,602', '286,877', '1,120,426', 'CALHOUN', '2,201', '5,324', '86', '771', '8,382', 'CHARLOTTE', '54,421', '35,602', '5,246', '29,131', '124,400', 'CITRUS', '46,373', '30,440', '3,394', '21,996', '102,203', 'CLAY', '76,584', '31,285', '3,782', '29,120', '140,771', 'COLLIER', '100,167', '45,511', '4,622', '44,100', '194,400', 'COLUMBIA', '15,790', '14,797', '909', '5,581', '37,077', 'DESOTO', '4,870', '7,181', '235', '2,987', '15,273', 'DIXIE', '3,314', '4,839', '233', '1,201', '9,587', 'DUVAL', '210,195', '229,501', '16,436', '101,497', '557,629', 'ESCAMBIA', '90,265', '70,180', '5,152', '35,306', '200,903', 'FLAGLER', '30,047', '24,734', '1,838', '20,071', '76,690', 'FRANKLIN', '2,234', '4,319', '137', '780', '7,470', 'GADSDEN', '4,372', '22,161', '313', '2,211', '29,057', 'GILCHRIST', '5,789', '3,652', '304', '1,400', '11,145', 'GLADES', '2,190', '3,110', '161', '971', '6,432', 'GULF', '4,234', '4,521', '174', '1,007', '9,936', 'HAMILTON', '2,154', '4,796', '156', '800', '7,906', 'HARDEE', '4,859', '4,702', '228', '1,623', '11,412', 'HENDRY', '5,862', '7,999', '273', '2,742', '16,876', 'HERNANDO', '51,254', '42,499', '4,685', '28,362', '126,800', 'HIGHLANDS', '27,100', '19,997', '1,730', '10,998', '59,825', 'HILLSBOROUGH', '257,436', '314,265', '22,612', '204,103', '798,416', 'HOLMES', '5,282', '4,434', '117', '1,069', '10,902', 'INDIAN RIVER', '47,794', '28,204', '3,279', '23,070', '102,347', 'JACKSON', '9,626', '15,706', '333', '2,617', '28,282', 'JEFFERSON', '2,636', '5,802', '176', '822', '9,436', 'LAFAYETTE', '1,373', '2,672', '47', '238', '4,330', 'LAKE', '93,604', '67,237', '7,444', '44,262', '212,547', 'LEE', '180,718', '114,633', '10,921', '108,675', '414,947', 'LEON', '54,554', '103,140', '4,305', '30,416', '192,415', 'LEVY', '11,665', '9,509', '1,307', '3,518', '25,999', 'LIBERTY', '720', '3,372', '23', '318', '4,433', 'MADISON', '2,992', '7,158', '208', '930', '11,288', 'MANATEE', '96,063', '67,926', '5,525', '49,212', '218,726', 'MARION', '97,306', '76,268', '8,748', '39,035', '221,357', 'MARTIN', '53,800', '27,358', '5,332', '21,464', '107,954', 'MIAMI-DADE', '362,161', '539,367', '18,093', '360,713', '1,280,334', 'MONROE', '20,602', '17,614', '1,446', '13,742', '53,404', 'NASSAU', '32,958', '14,013', '1,948', '10,085', '59,004', 'OKALOOSA', '75,154', '25,172', '2,462', '25,552', '128,340', 'OKEECHOBEE', '7,755', '7,756', '625', '3,201', '19,337', 'ORANGE', '206,174', '303,458', '15,996', '195,990', '721,618', 'OSCEOLA', '44,594', '75,657', '3,753', '53,177', '177,181', 'PALM BEACH', '245,452', '367,236', '30,338', '216,973', '859,999', 'PASCO', '125,305', '104,324', '14,943', '77,546', '322,118', 'PINELLAS', '223,077', '221,968', '23,065', '150,484', '618,594', 'POLK', '140,619', '143,799', '11,433', '92,620', '388,471', 'PUTNAM', '17,067', '20,606', '973', '7,976', '46,622', 'SANTA ROSA', '73,627', '26,114', '4,104', '22,378', '126,223', 'SARASOTA', '125,872', '89,711', '9,144', '66,483', '291,210', 'SEMINOLE', '107,833', '91,686', '7,005', '67,125', '273,649', 'ST. JOHNS', '88,385', '39,531', '5,074', '33,401', '166,391', 'ST. LUCIE', '59,626', '76,163', '6,338', '44,384', '186,511', 'SUMTER', '47,158', '22,977', '2,935', '15,899', '88,969', 'SUWANNEE', '10,745', '11,126', '1,019', '2,959', '25,849', 'TAYLOR', '3,950', '6,915', '227', '898', '11,990', 'UNION', '2,752', '3,579', '128', '574', '7,033', 'VOLUSIA', '121,402', '124,136', '11,537', '88,882', '345,957', 'WAKULLA', '7,374', '8,889', '560', '2,681', '19,504', 'WALTON', '25,609', '10,013', '842', '8,150', '44,614', 'WASHINGTON', '7,101', '5,687', '221', '1,690', '14,699', 'Total', '4,377,713', '4,637,026', '332,982', '2,867,495', '12,215,216']\n"
     ]
    }
   ],
   "source": [
    "print records[:]"
   ]
  },
  {
   "cell_type": "code",
   "execution_count": 5,
   "metadata": {
    "collapsed": false
   },
   "outputs": [],
   "source": [
    "#create an empty list to store the data\n",
    "clean_list = []\n",
    "\n",
    "#every state takes 6 places in the list, so iterate over the list by 6 every time\n",
    "for i in range(0, len(records), 6):\n",
    "    \n",
    "    county = records[i]\n",
    "    \n",
    "    rep_count = int(records[i+1].replace(\",\",\"\"))\n",
    "    dem_count = int(records[i+2].replace(\",\",\"\"))\n",
    "    \n",
    "    clean_list.append({\"county\": county, \"rep\": rep_count, \"dem\": dem_count})\n",
    "\n",
    "#define a helper function to sort the list by democratic votes\n",
    "def get_dem(dict):\n",
    "    return dict[\"dem\"]"
   ]
  },
  {
   "cell_type": "code",
   "execution_count": 6,
   "metadata": {
    "collapsed": false
   },
   "outputs": [
    {
     "name": "stdout",
     "output_type": "stream",
     "text": [
      "LAFAYETTE          1373    2672\n",
      "GLADES             2190    3110\n",
      "LIBERTY             720    3372\n",
      "UNION              2752    3579\n",
      "GILCHRIST          5789    3652\n",
      "FRANKLIN           2234    4319\n",
      "HOLMES             5282    4434\n",
      "GULF               4234    4521\n",
      "HARDEE             4859    4702\n",
      "HAMILTON           2154    4796\n",
      "DIXIE              3314    4839\n",
      "CALHOUN            2201    5324\n",
      "WASHINGTON         7101    5687\n",
      "JEFFERSON          2636    5802\n",
      "BAKER              6963    5813\n",
      "BRADFORD           6878    6533\n",
      "TAYLOR             3950    6915\n",
      "MADISON            2992    7158\n",
      "DESOTO             4870    7181\n",
      "OKEECHOBEE         7755    7756\n",
      "HENDRY             5862    7999\n",
      "WAKULLA            7374    8889\n",
      "LEVY              11665    9509\n",
      "WALTON            25609   10013\n",
      "SUWANNEE          10745   11126\n",
      "NASSAU            32958   14013\n",
      "COLUMBIA          15790   14797\n",
      "JACKSON            9626   15706\n",
      "MONROE            20602   17614\n",
      "HIGHLANDS         27100   19997\n",
      "PUTNAM            17067   20606\n",
      "GADSDEN            4372   22161\n",
      "SUMTER            47158   22977\n",
      "FLAGLER           30047   24734\n",
      "OKALOOSA          75154   25172\n",
      "SANTA ROSA        73627   26114\n",
      "MARTIN            53800   27358\n",
      "INDIAN RIVER      47794   28204\n",
      "CITRUS            46373   30440\n",
      "BAY               57456   30733\n",
      "CLAY              76584   31285\n",
      "CHARLOTTE         54421   35602\n",
      "ST. JOHNS         88385   39531\n",
      "HERNANDO          51254   42499\n",
      "COLLIER          100167   45511\n",
      "LAKE              93604   67237\n",
      "MANATEE           96063   67926\n",
      "ESCAMBIA          90265   70180\n",
      "OSCEOLA           44594   75657\n",
      "ST. LUCIE         59626   76163\n",
      "MARION            97306   76268\n",
      "ALACHUA           47329   77996\n",
      "SARASOTA         125872   89711\n",
      "SEMINOLE         107833   91686\n",
      "LEON              54554  103140\n",
      "PASCO            125305  104324\n",
      "LEE              180718  114633\n",
      "VOLUSIA          121402  124136\n",
      "BREVARD          167129  127435\n",
      "POLK             140619  143799\n",
      "PINELLAS         223077  221968\n",
      "DUVAL            210195  229501\n",
      "ORANGE           206174  303458\n",
      "HILLSBOROUGH     257436  314265\n",
      "PALM BEACH       245452  367236\n",
      "MIAMI-DADE       362161  539367\n",
      "BROWARD          249762  566185\n",
      "Total           4377713 4637026\n"
     ]
    }
   ],
   "source": [
    "#sort the list by democratic votes\n",
    "sorted_list = sorted(clean_list, key=get_dem)\n",
    "\n",
    "#print the sorted list line by line\n",
    "for elem in sorted_list:\n",
    "    print \"{:<15}{:>8}{:>8}\".format(elem[\"county\"], elem[\"rep\"], elem[\"dem\"])"
   ]
  }
 ],
 "metadata": {
  "kernelspec": {
   "display_name": "Python 2",
   "language": "python",
   "name": "python2"
  },
  "language_info": {
   "codemirror_mode": {
    "name": "ipython",
    "version": 2
   },
   "file_extension": ".py",
   "mimetype": "text/x-python",
   "name": "python",
   "nbconvert_exporter": "python",
   "pygments_lexer": "ipython2",
   "version": "2.7.6"
  }
 },
 "nbformat": 4,
 "nbformat_minor": 0
}
