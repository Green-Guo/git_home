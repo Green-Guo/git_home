{
 "cells": [
  {
   "cell_type": "code",
   "execution_count": null,
   "metadata": {
    "collapsed": true
   },
   "outputs": [],
   "source": [
    "#Problem: The Google of Quotes\n",
    "#Group members: S. Wang, Y. Ye, M. Staton, W. Wang\n",
    "#Version 1.1"
   ]
  },
  {
   "cell_type": "code",
   "execution_count": null,
   "metadata": {
    "collapsed": false
   },
   "outputs": [],
   "source": [
    "#to access math.log(), and regex functions\n",
    "import math, re\n",
    "#to access collections.Counter() function which counts the occurence of items in a list\n",
    "from collections import Counter\n",
    "#to facilitate timing the script\n",
    "from time import time"
   ]
  },
  {
   "cell_type": "code",
   "execution_count": null,
   "metadata": {
    "collapsed": false
   },
   "outputs": [],
   "source": [
    "#start timing\n",
    "start_time0 = time()"
   ]
  },
  {
   "cell_type": "code",
   "execution_count": null,
   "metadata": {
    "collapsed": true
   },
   "outputs": [],
   "source": [
    "#make a handle on the file\n",
    "quotes_file = open(\"quotes.txt\", \"r\")"
   ]
  },
  {
   "cell_type": "code",
   "execution_count": null,
   "metadata": {
    "collapsed": false
   },
   "outputs": [],
   "source": [
    "#make an empty list to store the quotes\n",
    "quote_list = []\n",
    "\n",
    "#read in one line each time\n",
    "new_line = quotes_file.readline()\n",
    "\n",
    "#join the adjacent two lines to make a full quote\n",
    "while len(new_line) != 0:\n",
    "    \n",
    "    str1, str2 = new_line.strip(\"\\r\\n\"), quotes_file.readline().strip(\"\\r\\n\")\n",
    "        \n",
    "    quote_list.extend([\" - \".join([str1, str2])])\n",
    "    \n",
    "    new_line = quotes_file.readline()"
   ]
  },
  {
   "cell_type": "code",
   "execution_count": null,
   "metadata": {
    "collapsed": true
   },
   "outputs": [],
   "source": [
    "#for safety, close the handle. This can also be done with \"with open() as handle\"\n",
    "quotes_file.close()"
   ]
  },
  {
   "cell_type": "code",
   "execution_count": null,
   "metadata": {
    "collapsed": true
   },
   "outputs": [],
   "source": [
    "#this function take one quote and make a list of the unique words in that quote\n",
    "def words_in_quote(quote):\n",
    "    \n",
    "    pattern = \"\\W+\"\n",
    "    \n",
    "    word_list = [word.lower() for word in re.split(pattern, quote)]\n",
    "    \n",
    "    while \"\" in word_list:\n",
    "        \n",
    "        word_list.remove(\"\")\n",
    "        \n",
    "    return word_list"
   ]
  },
  {
   "cell_type": "code",
   "execution_count": null,
   "metadata": {
    "collapsed": false
   },
   "outputs": [],
   "source": [
    "#define a function to create a posting list given a list of full quotes\n",
    "def postings_list(quotes):\n",
    "    \n",
    "    start_time = time()\n",
    "    \n",
    "    if type(quotes) != list:\n",
    "        \n",
    "        print \"This function only takes list arguments.\"\n",
    "        \n",
    "        return {}\n",
    "    \n",
    "    postings_list_dict = {}\n",
    "                \n",
    "    for pair in [(quote, dict(Counter(words_in_quote(quote)))) for quote in quotes]:\n",
    "        \n",
    "        postings_list_dict[pair[0]] = pair[1]\n",
    "        \n",
    "    end_time = time()\n",
    "    \n",
    "    print end_time - start_time\n",
    "\n",
    "    return postings_list_dict"
   ]
  },
  {
   "cell_type": "code",
   "execution_count": null,
   "metadata": {
    "collapsed": false
   },
   "outputs": [],
   "source": [
    "postings_list_dict = postings_list(quote_list)"
   ]
  },
  {
   "cell_type": "code",
   "execution_count": null,
   "metadata": {
    "collapsed": false
   },
   "outputs": [],
   "source": [
    "#define a function to create a reverse posting list given a list of full quotes\n",
    "def rev_postings_list(quotes):\n",
    "    \n",
    "    start_time = time()\n",
    "    \n",
    "    if type(quotes) != list:\n",
    "        \n",
    "        print \"This function only takes list arguments.\"\n",
    "        \n",
    "        return {}\n",
    "    \n",
    "    rev_postings_list_dict = {}\n",
    "    \n",
    "    forward_dict = postings_list(quotes)\n",
    "    \n",
    "    for quote, word_count in forward_dict.items():\n",
    "        \n",
    "        for word, count in word_count.items():\n",
    "            \n",
    "            if word not in rev_postings_list_dict:\n",
    "                \n",
    "                rev_postings_list_dict[word] = {}\n",
    "                \n",
    "                rev_postings_list_dict[word][quote] = count\n",
    "                \n",
    "            else:\n",
    "                \n",
    "                rev_postings_list_dict[word][quote] = count\n",
    "                \n",
    "    end_time = time()\n",
    "    \n",
    "    print end_time - start_time\n",
    "          \n",
    "    return rev_postings_list_dict"
   ]
  },
  {
   "cell_type": "code",
   "execution_count": null,
   "metadata": {
    "collapsed": false
   },
   "outputs": [],
   "source": [
    "#warning: trying printing reverse_postings_list_dict foreshadows disaster!\n",
    "reverse_postings_list_dict = rev_postings_list(quote_list)"
   ]
  },
  {
   "cell_type": "markdown",
   "metadata": {
    "collapsed": false
   },
   "source": [
    "#warning: trying printing reverse_postings_list_dict foreshadows disaster!\n",
    "start_time = time()\n",
    "reverse_postings_list_dict = rev_postings_list_2(quote_list)\n",
    "end_time = time()\n",
    "print end_time - start_time"
   ]
  },
  {
   "cell_type": "code",
   "execution_count": null,
   "metadata": {
    "collapsed": false
   },
   "outputs": [],
   "source": [
    "#this function take a tuple of (quote, word) and returns the TF_IDF index of word in quote\n",
    "def tf_idf((quote, word)):\n",
    "    \n",
    "    word = str(word).lower()\n",
    "    \n",
    "    if quote not in postings_list_dict:\n",
    "        \n",
    "        print \"The quote is not found.\"\n",
    "        \n",
    "        return 0\n",
    "    \n",
    "    if word not in reverse_postings_list_dict:\n",
    "                \n",
    "        print \"The word is not found.\"\n",
    "        \n",
    "        return 0\n",
    "    \n",
    "    max_ocur_in_quote = max([value for (key, value) in postings_list_dict[quote].items() ])\n",
    "        \n",
    "    TF = float(count_ocur(quote, word)) / max_ocur_in_quote\n",
    "    \n",
    "    #print \"TF=\", TF\n",
    "        \n",
    "    N = len(quote_list)\n",
    "        \n",
    "    n = len([(key, value) for (key, value) in reverse_postings_list_dict[word].items() if value > 0])\n",
    "        \n",
    "    IDF = math.log(float(N)/n)\n",
    "    \n",
    "    #print \"IDF=\", IDF\n",
    "        \n",
    "    TF_IDF = TF * IDF\n",
    "        \n",
    "    return TF_IDF"
   ]
  },
  {
   "cell_type": "code",
   "execution_count": null,
   "metadata": {
    "collapsed": false
   },
   "outputs": [],
   "source": [
    "tf_idf((\"We are all worms, but I do believe I am a glow-worm. - Winston Churchill\", \"we\"))"
   ]
  },
  {
   "cell_type": "code",
   "execution_count": null,
   "metadata": {
    "collapsed": false
   },
   "outputs": [],
   "source": [
    "#print TF_IDF index of \"entertainer\" in the Marlon Brando quote to verify the result\n",
    "print tf_idf((quote_list[0], \"we\"))"
   ]
  },
  {
   "cell_type": "code",
   "execution_count": null,
   "metadata": {
    "collapsed": true
   },
   "outputs": [],
   "source": [
    "#define a function to search a single word in all quotes\n",
    "def sg_word_search(default_word=\"\"):\n",
    "    \n",
    "    if len(default_word) == 0:\n",
    "        \n",
    "        word = \"\"\n",
    "\n",
    "        while len(word) == 0:\n",
    "\n",
    "            word = str(raw_input(\"Type in a word to search, or \\\"!!!\\\" to quit: \")).lower().strip()\n",
    "\n",
    "            if word == \"!!!\":\n",
    "\n",
    "                print \"See you next time.\"\n",
    "\n",
    "                return {}\n",
    "            \n",
    "    else:\n",
    "        \n",
    "        word = default_word\n",
    "        \n",
    "    search_dict = {}\n",
    "    \n",
    "    if word not in reverse_postings_list_dict:\n",
    "        \n",
    "        print word, \"is not found.\"\n",
    "        \n",
    "        return {}\n",
    "        \n",
    "    retrieved_quotes = [key for (key, value) in reverse_postings_list_dict[word].items() if value > 0]\n",
    "    \n",
    "    for quote in retrieved_quotes:\n",
    "        \n",
    "        search_dict[quote] = tf_idf((quote, word))\n",
    "        \n",
    "        #print word, \" in \", quote, word in quote\n",
    "    \n",
    "    return search_dict"
   ]
  },
  {
   "cell_type": "code",
   "execution_count": null,
   "metadata": {
    "collapsed": true
   },
   "outputs": [],
   "source": [
    "#this function takes a list of words and return all the quotes containing any of the words\n",
    "#and shows the sum of the TF_IDF index of every word in every quote \n",
    "def mul_word_search():\n",
    "    \n",
    "    words = []\n",
    "    \n",
    "    while True:\n",
    "        \n",
    "        if len(words) == 0:\n",
    "            \n",
    "            text = raw_input(\"Type one word and Enter\\n\\\"!!!\\\" >>> quit\\n:\").lower().strip()\n",
    "        \n",
    "        else:\n",
    "            \n",
    "            text = raw_input(\"Type one word and Enter\\n\\\"???\\\" >>> start searching\\n\\\"!!!\\\" >>> quit\\n:\").lower().strip()\n",
    "        \n",
    "        if text == \"!!!\":\n",
    "            \n",
    "            print \"See you next time.\"\n",
    "            \n",
    "            return {}           \n",
    "        \n",
    "        if text == \"???\" and len(words) > 0:\n",
    "            \n",
    "            break\n",
    "        \n",
    "        else:\n",
    "                        \n",
    "            words.extend([text])\n",
    "            \n",
    "            continue\n",
    "            \n",
    "    while \"\" in words:\n",
    "        \n",
    "        words.remove(\"\")\n",
    "        \n",
    "    words = [s.lower() for s in words]\n",
    "        \n",
    "    search_dict2 = {}\n",
    "    \n",
    "    retrieved_quotes2 = map(sg_word_search, words)\n",
    "        \n",
    "    _quote_list = []\n",
    "    \n",
    "    for quote_ifidf_dict in retrieved_quotes2:\n",
    "        \n",
    "        _quote_list.extend(quote_ifidf_dict.keys())\n",
    "        \n",
    "    retrieved_quotes2_unique = Counter(_quote_list).keys()\n",
    "            \n",
    "    for quote in retrieved_quotes2_unique:\n",
    "        \n",
    "        new_params = [(quote, word) for word in words]\n",
    "        \n",
    "        search_dict2[quote] = sum(map(tf_idf, new_params)) \n",
    "                \n",
    "    return search_dict2"
   ]
  },
  {
   "cell_type": "code",
   "execution_count": null,
   "metadata": {
    "collapsed": false
   },
   "outputs": [],
   "source": [
    "#print out a sample result of calling sg_word_search on keyword \"and\"\n",
    "#check the length of the returned list to verify the result\n",
    "result = sg_word_search()\n",
    "print len(result)\n",
    "print result"
   ]
  },
  {
   "cell_type": "code",
   "execution_count": null,
   "metadata": {
    "collapsed": false
   },
   "outputs": [],
   "source": [
    "#print out the result of mul_word_search\n",
    "result = mul_word_search()\n",
    "print len(result)\n",
    "print result"
   ]
  },
  {
   "cell_type": "code",
   "execution_count": null,
   "metadata": {
    "collapsed": false
   },
   "outputs": [],
   "source": [
    "#stop timing and print out total running time\n",
    "end_time0 = time()\n",
    "\n",
    "print \"Total running time\", end_time0 - start_time0, \"seconds\""
   ]
  }
 ],
 "metadata": {
  "kernelspec": {
   "display_name": "Python 2",
   "language": "python",
   "name": "python2"
  },
  "language_info": {
   "codemirror_mode": {
    "name": "ipython",
    "version": 2
   },
   "file_extension": ".py",
   "mimetype": "text/x-python",
   "name": "python",
   "nbconvert_exporter": "python",
   "pygments_lexer": "ipython2",
   "version": "2.7.6"
  }
 },
 "nbformat": 4,
 "nbformat_minor": 0
}
