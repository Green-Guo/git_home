{
 "cells": [
  {
   "cell_type": "markdown",
   "metadata": {
    "collapsed": false
   },
   "source": [
    "# Problem 1"
   ]
  },
  {
   "cell_type": "code",
   "execution_count": null,
   "metadata": {
    "collapsed": true
   },
   "outputs": [],
   "source": [
    "Explain the "
   ]
  },
  {
   "cell_type": "code",
   "execution_count": null,
   "metadata": {
    "collapsed": false
   },
   "outputs": [],
   "source": [
    "from Tkinter import *     #Import Radiobutton package\n",
    "from __future__ import division #Import division that makes sense. This took far too long to solve\n",
    "\n",
    "# Initialize counters\n",
    "games = [0]\n",
    "wins = [0]\n",
    "losses = [0]\n",
    "ties = [0]\n",
    "r = 0\n",
    "p = 0\n",
    "s = 0\n",
    "#Dictionary for comp_move to convert to points\n",
    "comp_convert = {\"rock\": 1 , \"paper\": 2 ,\"scissors\": 3}\n",
    "num_convert = {1:\"rock\",2:\"paper\",3:\"scissors\",4:\"quit\"}"
   ]
  },
  {
   "cell_type": "code",
   "execution_count": null,
   "metadata": {
    "collapsed": false
   },
   "outputs": [],
   "source": [
    "#Update counts for computer prediction and record keeping\n",
    "def printstatus():\n",
    "    \"\"\"This function prints the counts for all user moves and wins,ties and losses when called\"\"\"\n",
    "    \n",
    "    print \"Games: \" + str(games[0]) \n",
    "    print \"Wins: \" + str(wins[0])\n",
    "    print \"Losses: \" + str(losses[0])\n",
    "    print \"Ties: \" + str(ties[0])\n",
    "    print \"Rocks: \" + str(r)\n",
    "    print \"Paper: \" + str(p)\n",
    "    print \"Scissors: \" + str(s)"
   ]
  },
  {
   "cell_type": "code",
   "execution_count": null,
   "metadata": {
    "collapsed": false
   },
   "outputs": [],
   "source": [
    "    #Computer makes random first move, and uses intelligence after first move\n",
    "    def computer_moves(i):\n",
    "        \"\"\"Computer determines move using past user moves\"\"\"\n",
    "        import random\n",
    "        x = random.random() \n",
    "        if i == 1:  \n",
    "            if x <= (1/3): \n",
    "                comp_move = \"rock\"\n",
    "            elif (1/3) < x <= (2/3):\n",
    "                comp_move = \"paper\"\n",
    "            else:\n",
    "                comp_move = \"scissors\"\n",
    "                \n",
    "        else:\n",
    "            intel= [r,p,s]\n",
    "            moves=[\"rock\",\"paper\",\"scissors\"]\n",
    "            countermove=[\"paper\",\"scissors\",\"rock\"]\n",
    "            \n",
    "            if (intel[0] == intel[1] > intel[2]):\n",
    "                temp = random.randint(0,1)             #2 way tie\n",
    "                temp2 = countermove[temp]\n",
    "                comp_move = temp2                      #2 way tie \n",
    "                #print \"0=1\"           \n",
    "            elif (intel[0] == intel[2] > intel[1]):\n",
    "                temp = random.randint(0,1)*2\n",
    "                temp2 = countermove[temp]\n",
    "                comp_move = temp2\n",
    "                #print \"0=2\"                              #2 way tie\n",
    "            elif (intel[1] == intel[2] > intel[0]):\n",
    "                temp = random.randint(1,2)\n",
    "                temp2 = countermove[temp]\n",
    "                comp_move = temp2\n",
    "                #print \"1=2\"\n",
    "            elif (intel[1] == intel[2] == intel[0]):     #3-way tie\n",
    "                comp_move = countermove[random.randint(0,2)]\n",
    "                #print \"3way\"\n",
    "            else:\n",
    "                temp = max(intel[:])                   #no tie, pick randomly\n",
    "                temp2 = intel.index(temp)\n",
    "                comp_move = countermove[temp2]\n",
    "                #print \"max used\"\n",
    "            \n",
    "        return comp_convert[comp_move]\n",
    "        "
   ]
  },
  {
   "cell_type": "code",
   "execution_count": null,
   "metadata": {
    "collapsed": false
   },
   "outputs": [],
   "source": [
    "    #Initialize radio button    \n",
    "    def initialize_rb():\n",
    "        \"\"\"Initialize radio button and prompt user for answer, onclick() event call sel() to return value\"\"\"\n",
    "       \n",
    "        #Collect user's move, defined before move because command calls the sel() fx\n",
    "        def sel():\n",
    "            \"\"\"Called after a radio button is selected\"\"\"\n",
    "            #selection =  \"You selected the option \" + str(rps.get()) #Debugging aid, not functional really\n",
    "            #print selection\n",
    "            user_move = rps.get()   #Determine the user's radio button selection to\n",
    "            if user_move == 4:\n",
    "                print \"Games played: \" + str(games[0]) + \"; User Wins: \" + str(wins[0])\n",
    "                printstatus()\n",
    "            elif user_move == 1:\n",
    "                global r \n",
    "                r+= 1\n",
    "            elif user_move == 2:\n",
    "                global p \n",
    "                p+=1\n",
    "            elif user_move == 3:\n",
    "                global s \n",
    "                s+=1\n",
    "            root.destroy()\n",
    "            return user_move\n",
    "        \n",
    "        root = Tk()          #Root is the form object, and parent of the radio buttons\n",
    "        root.title(\"What would you like to do?\")\n",
    "        rps = IntVar()\n",
    "        Label(root, \n",
    "            text='Rock, Paper, Scissors OR Quit:',\n",
    "            justify = LEFT,\n",
    "            padx = 20).pack()\n",
    "\n",
    "        R1 = Radiobutton(root, text=\"Rock\", variable=rps, value=1, command=sel)   #command calls select on user input(click)\n",
    "        R1.pack(anchor=W)\n",
    "        R2 = Radiobutton(root, text=\"Paper\", variable=rps, value=2, command=sel)\n",
    "        R2.pack(anchor=W)\n",
    "        R3 = Radiobutton(root, text=\"Scissors\", variable=rps, value=3, command=sel)\n",
    "        R3.pack(anchor=W)\n",
    "        R4 = Radiobutton(root, text=\"Quit\", variable=rps, value=4, command=sel)\n",
    "        R4.pack(anchor=W)\n",
    "        root.mainloop()\n",
    "        return rps.get()\n"
   ]
  },
  {
   "cell_type": "code",
   "execution_count": null,
   "metadata": {
    "collapsed": false
   },
   "outputs": [],
   "source": [
    "def winner(comp_move_number,user_move,play):\n",
    "    \"\"\"Takes user's move and decides who wins OR quits\"\"\" \n",
    "    if user_move == 4:\n",
    "        play = \"False\"\n",
    "    else:\n",
    "        if comp_move_number - user_move in [-1,2]:\n",
    "            wins[0] += 1\n",
    "            print \"You won!\"\n",
    "            #Update game counter        \n",
    "            games[0] +=1\n",
    "        elif comp_move_number - user_move == 0:\n",
    "            ties[0] += 1\n",
    "            print \"You tied :/ \"\n",
    "            #Update game counter        \n",
    "            games[0] +=1\n",
    "        else:\n",
    "            losses[0] +=1\n",
    "            print \"You lost silly\"\n",
    "            #Update game counter        \n",
    "            games[0] +=1\n",
    "        return play"
   ]
  },
  {
   "cell_type": "code",
   "execution_count": null,
   "metadata": {
    "collapsed": false
   },
   "outputs": [],
   "source": [
    "i=1\n",
    "play = \"True\"\n",
    "while play == \"True\":\n",
    "    #printstatus() #check status\n",
    "    comp = computer_moves(i) #call computer move\n",
    "    usr = initialize_rb() #get user move\n",
    "    print \"User: \" + num_convert[usr]\n",
    "    print \"Computer: \" + num_convert[comp]\n",
    "    play = winner(comp,usr,play) #decide winner\n",
    "    i+=1"
   ]
  },
  {
   "cell_type": "markdown",
   "metadata": {
    "collapsed": true
   },
   "source": [
    "# Problem 2"
   ]
  },
  {
   "cell_type": "code",
   "execution_count": null,
   "metadata": {
    "collapsed": false
   },
   "outputs": [],
   "source": [
    "#import sys\n",
    "import re\n",
    "\n",
    "# This function read the input information from the \"FloridaVoters.html\" file\n",
    "# and print out all the countries' name with their number of democratic\n",
    "# and publician that sorted by number of democratic voters\n",
    "\n",
    "def extract_names(filename): # pass in the input file as parameter\n",
    "    \"\"\"This function imports a file, creates a list to record all countries, then reads the file into a list of strings.\\\n",
    "    Thenhen finds all <td> tags, and does some processing to isolate republican, democratic votes and put them into a tuple\\\n",
    "    It then sorts the votes by democratic votes\"\"\"\n",
    "    \n",
    "    names = [] # create a list to record all the countries' name\n",
    "    f = open(filename, 'r') # open the input file \n",
    "    text = f.read() # read the input file into a list of string\n",
    "\n",
    "    # find all table entries\n",
    "    data = re.findall(r'<td>(.*)</td>', text)\n",
    "\n",
    "    for i in range(len(data) // 6):\n",
    "        repub = int(data[i * 6 + 1].replace(',','')) # the second string for every six string is the number of republician\n",
    "        democ = int(data[i * 6 + 2].replace(',','')) # the third string for every six string is the number of democratic \n",
    "        single_entry = (data[i * 6], repub, democ) # put each each county's name, democratic, republician into a tuple\n",
    "        voters_data.append(single_entry) # append the tuple into a list\n",
    "\n",
    "voters_data = [] \n",
    "extract_names('FloridaVoters.html') # the file we used as input file is 'FloridaVoters.html'\n",
    "voters_data = sorted(voters_data, key=lambda tup: tup[2]) # sorted the voters_data list by the number of democratic\n",
    "# print each countries name with their number of democratic and republician\n",
    "for entry in voters_data:\n",
    "    print entry[0], str(entry[1]), str(entry[2])"
   ]
  },
  {
   "cell_type": "markdown",
   "metadata": {},
   "source": [
    "#Problem 3"
   ]
  },
  {
   "cell_type": "code",
   "execution_count": null,
   "metadata": {
    "collapsed": false
   },
   "outputs": [],
   "source": [
    "fhand= open('quotes.txt')\n",
    "quote = []\n",
    "n = 0\n",
    "for line in fhand: \n",
    "    line=line.rstrip()\n",
    "    n+=1\n",
    "    if n % 2 != 0: a = line\n",
    "    else: quote.append(a + '-'+ line )\n",
    "\n",
    "print quote[0] # test quote[0] result\n",
    "\n",
    "fhand.close"
   ]
  },
  {
   "cell_type": "markdown",
   "metadata": {},
   "source": [
    "3.b"
   ]
  },
  {
   "cell_type": "code",
   "execution_count": null,
   "metadata": {
    "collapsed": false
   },
   "outputs": [],
   "source": [
    "import re\n",
    "\n",
    "def quote2word(quote):\n",
    "    \"\"\"transfer a quote into words\"\"\"\n",
    "    \n",
    "    word=re.split('\\W+', quote) # using regular expression '/W+' to choose non-number and non-letter charactors as splitpoint\n",
    "    return [x.lower() for x in word]\n",
    "    \n",
    "    \n",
    "print quote2word(quote[0]) # test quote[0] result"
   ]
  },
  {
   "cell_type": "markdown",
   "metadata": {},
   "source": [
    "3.c"
   ]
  },
  {
   "cell_type": "code",
   "execution_count": null,
   "metadata": {
    "collapsed": false
   },
   "outputs": [],
   "source": [
    "from collections import Counter\n",
    "\n",
    "def postinglist(quotelist): \n",
    "    \"\"\"get a dictionary whose keys are full quotes,and whoes value are themselves dictionaries,\\\n",
    "    with key being a word and value being the number of times the word appears in that full quote\"\"\"\n",
    "    \n",
    "    postlist = {}\n",
    "    for quote in quotelist:\n",
    "        word=quote2word(quote) # change each quote into words\n",
    "        wordCount = dict(Counter(word)) #count the number of times a word appears in a quote\n",
    "        postlist[quote]= wordCount\n",
    "    return postlist\n",
    "\n",
    "postlist=postinglist(quote)\n",
    "print postlist  # test the result of postings-list"
   ]
  },
  {
   "cell_type": "markdown",
   "metadata": {},
   "source": [
    "3.d"
   ]
  },
  {
   "cell_type": "code",
   "execution_count": null,
   "metadata": {
    "collapsed": false
   },
   "outputs": [],
   "source": [
    "def reverse_postinglist(quotelist):\n",
    "    \"\"\"get a dictionary whose keys are the words, and the values are themselves dictionary, with the key\\\n",
    "    being a full quote and the value being the number of times the word appears in the full quote\"\"\"\n",
    "    \n",
    "    Repostlist = dict()\n",
    "    for quote,wordcount in postlist.items():\n",
    "        for word,count in wordcount.items():\n",
    "            if word in Repostlist : # if a word is added in Repostlist, then add quote and count to the values of the Repostlist[word].\n",
    "                Repostlist[word][quote]=count\n",
    "            else:                   # if word is not added in Repostlist, build a Repostlist[word] first, then add quote and count to the values of Repostlist[word].\n",
    "                Repostlist[word] = dict()\n",
    "                Repostlist[word][quote]=count\n",
    "    return Repostlist\n",
    "\n",
    "Repostlist=reverse_postinglist(quote)\n",
    "print Repostlist['we'] #test the result of a given word 'we' in Reposting-list "
   ]
  },
  {
   "cell_type": "markdown",
   "metadata": {},
   "source": [
    "3.e"
   ]
  },
  {
   "cell_type": "code",
   "execution_count": null,
   "metadata": {
    "collapsed": false
   },
   "outputs": [],
   "source": [
    "def TF(w,q):\n",
    "    \"\"\"get the TF value for a given word and a given quote\"\"\"\n",
    "\n",
    "    pl=postlist[q]\n",
    "    TFvalue=pl[w]/float(max(pl.values()))  #float the max(pl.value) in order to get a float value for TFvalue\n",
    "    return TFvalue\n",
    "\n",
    "import math\n",
    "def IDF(w):\n",
    "    \"\"\"get the IDF value for a given word\"\"\"\n",
    "    \n",
    "    IDFvalue=math.log((len(quote)/float(len(Repostlist[w])))) #float the len(Repostlist[w]) in order to get a float value for IDFvalue\n",
    "    return IDFvalue\n",
    "    \n",
    "def TF_IDF(w,a):\n",
    "    \"\"\"get the TF_IDF value for a given word and a given quote\"\"\"\n",
    "    \n",
    "    return TF(w,a)*IDF(w)\n",
    "     \n",
    "print TF_IDF('we',quote[0]) # test the TF_IDF value for 'we' in quote[0]\n",
    "print quote[0]"
   ]
  },
  {
   "cell_type": "markdown",
   "metadata": {},
   "source": [
    "3.f"
   ]
  },
  {
   "cell_type": "code",
   "execution_count": null,
   "metadata": {
    "collapsed": false
   },
   "outputs": [],
   "source": [
    "def Quote_search_single(w):\n",
    "    \"\"\"get a dictinary whose keys are full quotes containing a given word, and whose values the TF_IDF score\\\n",
    "    of that word for that full quote\"\"\"\n",
    "    \n",
    "    if w not in Repostlist.keys():  # if the word is not in any quote, break\n",
    "        print w +\" doesn't apear in quotes at all\"\n",
    "        print \"funtion ended.\"\n",
    "        return {}\n",
    "    else: \n",
    "        dict1=Repostlist[w]\n",
    "        dict2=dict()\n",
    "        for k in dict1.keys():\n",
    "            #print k\n",
    "            a = TF_IDF(w,k)\n",
    "            dict2[k]= a\n",
    "        return dict2\n",
    "\n",
    "print Quote_search_single('we') # test the result for word 'we'"
   ]
  },
  {
   "cell_type": "markdown",
   "metadata": {},
   "source": [
    "3.g"
   ]
  },
  {
   "cell_type": "code",
   "execution_count": null,
   "metadata": {
    "collapsed": false
   },
   "outputs": [],
   "source": [
    "def Quote_search_multiple(list):\n",
    "    \"\"\"get a dictionary whose keys are full quotes containing words in a given word list, and whose values\\\n",
    "    are the sum of TF_IDF scores of all the words for that full quote\"\"\"\n",
    "    dict2=dict()    \n",
    "    for w in list:\n",
    "        if w not in Repostlist.keys(): # if the word is not in any quote, break\n",
    "            print w +\" doesn't apear in quotes at all\"\n",
    "            print \"funtion ended.\"\n",
    "            return\n",
    "        else:    \n",
    "            dict1=Quote_search_single(w)\n",
    "            for k,v in dict1.items():\n",
    "                if k in dict2: dict2[k]=dict2[k]+v\n",
    "                else:          dict2[k]=v\n",
    "    return dict2\n",
    "\n",
    "print Quote_search_multiple(['we','him']) # test code for ['we','him']"
   ]
  },
  {
   "cell_type": "code",
   "execution_count": null,
   "metadata": {
    "collapsed": true
   },
   "outputs": [],
   "source": []
  }
 ],
 "metadata": {
  "kernelspec": {
   "display_name": "Python 2",
   "language": "python",
   "name": "python2"
  },
  "language_info": {
   "codemirror_mode": {
    "name": "ipython",
    "version": 2
   },
   "file_extension": ".py",
   "mimetype": "text/x-python",
   "name": "python",
   "nbconvert_exporter": "python",
   "pygments_lexer": "ipython2",
   "version": "2.7.6"
  }
 },
 "nbformat": 4,
 "nbformat_minor": 0
}
