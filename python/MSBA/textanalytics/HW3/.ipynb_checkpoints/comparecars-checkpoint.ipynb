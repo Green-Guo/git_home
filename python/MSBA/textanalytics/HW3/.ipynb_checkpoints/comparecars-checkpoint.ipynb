{
 "cells": [
  {
   "cell_type": "code",
   "execution_count": 1,
   "metadata": {
    "collapsed": true
   },
   "outputs": [],
   "source": [
    "import copy\n",
    "import pandas as pd\n",
    "import numpy as np"
   ]
  },
  {
   "cell_type": "code",
   "execution_count": 2,
   "metadata": {
    "collapsed": true
   },
   "outputs": [],
   "source": [
    "data = pd.read_csv(\"scores.csv\")"
   ]
  },
  {
   "cell_type": "code",
   "execution_count": 3,
   "metadata": {
    "collapsed": false
   },
   "outputs": [
    {
     "data": {
      "text/plain": [
       "['ES', 'LS', 'RX', 'A8', 'A6', '3series', '5series', '7series', 'XJ', 'Sclass']"
      ]
     },
     "execution_count": 3,
     "metadata": {},
     "output_type": "execute_result"
    }
   ],
   "source": [
    "data.columns.values.tolist()"
   ]
  },
  {
   "cell_type": "code",
   "execution_count": 41,
   "metadata": {
    "collapsed": false
   },
   "outputs": [],
   "source": [
    "class PageRank(object):\n",
    "    '''A PageRank object to generate PR'''\n",
    "    \n",
    "    def __init__(self):\n",
    "        self.nodes = []\n",
    "        self.unweightedPref = {}\n",
    "        self.weightedPref = {}\n",
    "        self.unweightedPR = {}\n",
    "        self.weightedPR = {}\n",
    "        \n",
    "    def  PrefGenerator(self, data):\n",
    "        '''Convert dataframe into arrows between nodes'''\n",
    "        self.nodes = data.columns.values.tolist()\n",
    "        for node in self.nodes:\n",
    "            self.unweightedPref[node] = {}\n",
    "            self.weightedPref[node] = {}\n",
    "            for other in list(set(self.nodes) - set([node])):\n",
    "                pref = data[node] - data[other]\n",
    "                self.unweightedPref[node][other] = max([1 if x>0 else 0 for x in pref])\n",
    "                self.weightedPref[node][other] = sum([x for x in pref if x>0])\n",
    "        return\n",
    "    \n",
    "    def traverseNodes(self):\n",
    "        '''Traverse all nodes and calculate total outlinks for each node'''\n",
    "        self.uwol = {} # Unweighted outlinks\n",
    "        self.wol = {} # Weighted outlinks\n",
    "        for node in self.nodes:\n",
    "            for key in self.unweightedPref[node]:\n",
    "                try:\n",
    "                    self.uwol[key] += self.unweightedPref[node][key]\n",
    "                except KeyError:\n",
    "                    self.uwol[key] = self.unweightedPref[node][key]\n",
    "            for key in self.weightedPref[node]:\n",
    "                try:\n",
    "                    self.wol[key] += self.weightedPref[node][key]\n",
    "                except KeyError:\n",
    "                    self.wol[key] = self.weightedPref[node][key]\n",
    "        return\n",
    "    \n",
    "    def updatePR(self, PR, outlinks, Pref, d):\n",
    "        '''update PageRank'''\n",
    "        tmp = {}\n",
    "        for node in self.nodes:\n",
    "            tmp[node] = 1.0*(1-d)/len(self.nodes) + d*1.0*\\\n",
    "                        sum([PR[ref]*1.0/outlinks[ref]*Pref[node][ref] for ref in Pref[node]])\n",
    "        return tmp\n",
    "    \n",
    "    def PRGenerator(self, d=0.85, maxiter=100, threshold=0.001):\n",
    "        '''d: damping factor\n",
    "        maxiter: max iteration #\n",
    "        threshold: stable iterative fluctuation of PR\n",
    "        Check out this guy's implementation:\n",
    "        https://github.com/ashkonf/PageRank'''\n",
    "        self.uwtmp = {} # Temporary variable to store iteration results\n",
    "        self.wtmp = {}\n",
    "        self.traverseNodes() # Calculate all outlinks\n",
    "        for node in self.nodes: # Initialize all PR to 1/N\n",
    "            self.unweightedPR[node] = 1.0/len(self.nodes)\n",
    "            self.weightedPR[node] = 1.0/len(self.nodes)\n",
    "            \n",
    "        for i in range(maxiter):\n",
    "            self.flag = 1 # A flag to end iteration\n",
    "            \n",
    "            self.uwtmp = self.updatePR(self.unweightedPR, self.uwol, self.unweightedPref, d)\n",
    "            self.wtmp = self.updatePR(self.weightedPR, self.wol, self.weightedPref, d)\n",
    "            for node in self.nodes:\n",
    "                if abs(self.unweightedPR[node] - self.uwtmp[node]) > threshold or\\\n",
    "                abs(self.weightedPR[node] - self.wtmp[node]) > threshold:\n",
    "                    self.flag = 0\n",
    "            \n",
    "            self.unweightedPR, self.weightedPR = copy.deepcopy(self.uwtmp), copy.deepcopy(self.wtmp)\n",
    "            \n",
    "            if self.flag == 1:\n",
    "                print \"Converge after {} iterations\".format(i)\n",
    "                return\n",
    "        return"
   ]
  },
  {
   "cell_type": "code",
   "execution_count": 51,
   "metadata": {
    "collapsed": false,
    "scrolled": false
   },
   "outputs": [
    {
     "name": "stdout",
     "output_type": "stream",
     "text": [
      "Converge after 4 iterations\n",
      "['A6', 'A8', 'XJ', 'LS', 'ES', 'RX', 'Sclass', '7series', '3series', '5series']\n",
      "Converge after 4 iterations\n",
      "['A6', 'A8', 'XJ', 'LS', 'ES', 'RX', 'Sclass', '7series', '3series', '5series']\n",
      "Converge after 5 iterations\n",
      "['A6', 'A8', 'XJ', 'LS', 'ES', 'RX', 'Sclass', '7series', '3series', '5series']\n",
      "Converge after 6 iterations\n",
      "['A6', 'A8', 'XJ', 'LS', 'ES', 'RX', 'Sclass', '7series', '3series', '5series']\n",
      "Converge after 6 iterations\n",
      "['A6', 'A8', 'XJ', 'LS', 'ES', 'RX', 'Sclass', '7series', '3series', '5series']\n",
      "Converge after 7 iterations\n",
      "['A6', 'A8', 'XJ', 'LS', 'ES', 'RX', 'Sclass', '7series', '3series', '5series']\n"
     ]
    }
   ],
   "source": [
    "pr = PageRank()\n",
    "pr.PrefGenerator(data)\n",
    "for d in [0.5, 0.6, 0.7, 0.8, 0.85, 0.9]:\n",
    "    pr.PRGenerator(d=d)\n",
    "    print sorted(list(pr.unweightedPR), key=lambda tup: tup[1])"
   ]
  },
  {
   "cell_type": "code",
   "execution_count": 29,
   "metadata": {
    "collapsed": false
   },
   "outputs": [
    {
     "data": {
      "text/plain": [
       "{'3series': 0.044386607161187919,\n",
       " '5series': 0.045623193619579977,\n",
       " '7series': 0.087399252350042783,\n",
       " 'A6': 0.03622986235614778,\n",
       " 'A8': 0.12573224784687434,\n",
       " 'ES': 0.089964034364456866,\n",
       " 'LS': 0.25945691347773309,\n",
       " 'RX': 0.073276107509468988,\n",
       " 'Sclass': 0.18825079403210365,\n",
       " 'XJ': 0.049680987282404693}"
      ]
     },
     "execution_count": 29,
     "metadata": {},
     "output_type": "execute_result"
    }
   ],
   "source": [
    "pr.weightedPR"
   ]
  },
  {
   "cell_type": "code",
   "execution_count": 30,
   "metadata": {
    "collapsed": false
   },
   "outputs": [
    {
     "data": {
      "text/plain": [
       "{'3series': 0.0326093817031912,\n",
       " '5series': 0.03874052558542043,\n",
       " '7series': 0.08454635707782107,\n",
       " 'A6': 0.04297395260677694,\n",
       " 'A8': 0.13157923248266917,\n",
       " 'ES': 0.08800100023483184,\n",
       " 'LS': 0.26196827740415674,\n",
       " 'RX': 0.07117502707701291,\n",
       " 'Sclass': 0.19473014897981467,\n",
       " 'XJ': 0.05367609684830506}"
      ]
     },
     "execution_count": 30,
     "metadata": {},
     "output_type": "execute_result"
    }
   ],
   "source": [
    "pr.unweightedPR(d=0.5)"
   ]
  }
 ],
 "metadata": {
  "kernelspec": {
   "display_name": "Python 2",
   "language": "python",
   "name": "python2"
  },
  "language_info": {
   "codemirror_mode": {
    "name": "ipython",
    "version": 2
   },
   "file_extension": ".py",
   "mimetype": "text/x-python",
   "name": "python",
   "nbconvert_exporter": "python",
   "pygments_lexer": "ipython2",
   "version": "2.7.6"
  }
 },
 "nbformat": 4,
 "nbformat_minor": 0
}
