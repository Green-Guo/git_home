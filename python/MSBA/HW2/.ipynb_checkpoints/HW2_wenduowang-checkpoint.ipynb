{
 "cells": [
  {
   "cell_type": "code",
   "execution_count": 1,
   "metadata": {
    "collapsed": false
   },
   "outputs": [
    {
     "name": "stdout",
     "output_type": "stream",
     "text": [
      "Populating the interactive namespace from numpy and matplotlib\n"
     ]
    }
   ],
   "source": [
    "from pandas import Series, DataFrame\n",
    "import pandas as pd\n",
    "import warnings\n",
    "warnings.filterwarnings('ignore')\n",
    "%pylab inline"
   ]
  },
  {
   "cell_type": "markdown",
   "metadata": {},
   "source": [
    "# NYC Restaurants"
   ]
  },
  {
   "cell_type": "code",
   "execution_count": 2,
   "metadata": {
    "collapsed": false
   },
   "outputs": [
    {
     "name": "stdout",
     "output_type": "stream",
     "text": [
      "0 Unnamed: 0\n",
      "1 CAMIS\n",
      "2 DBA\n",
      "3 BORO\n",
      "4 BUILDING\n",
      "5 STREET\n",
      "6 ZIPCODE\n",
      "7 PHONE\n",
      "8 CUISINE DESCRIPTION\n",
      "9 INSPECTION DATE\n",
      "10 ACTION\n",
      "11 VIOLATION CODE\n",
      "12 VIOLATION DESCRIPTION\n",
      "13 CRITICAL FLAG\n",
      "14 SCORE\n",
      "15 GRADE\n",
      "16 GRADE DATE\n",
      "17 RECORD DATE\n",
      "18 INSPECTION TYPE\n"
     ]
    }
   ],
   "source": [
    "#read in the data from csv, and print out the column names\n",
    "restaurants = pd.read_csv(\"NYC_Restaurants.csv\", dtype=unicode)\n",
    "for index, item in enumerate(restaurants.columns.values):\n",
    "    print index, item"
   ]
  },
  {
   "cell_type": "markdown",
   "metadata": {},
   "source": [
    "## Question 1: Create a unique name for each restaurant"
   ]
  },
  {
   "cell_type": "markdown",
   "metadata": {},
   "source": [
    "The `dataframe.apply(func, axis=1)` function takes series arguments and applies `func` on these series. With this function, it is easy to concatenate several columns, and then assign the new column to the `restaurants` dataframe."
   ]
  },
  {
   "cell_type": "code",
   "execution_count": 3,
   "metadata": {
    "collapsed": false
   },
   "outputs": [
    {
     "name": "stdout",
     "output_type": "stream",
     "text": [
      "0                    WENDY'S 469 FLATBUSH AVENUE 11225\n",
      "1                    WENDY'S 469 FLATBUSH AVENUE 11225\n",
      "2                    WENDY'S 469 FLATBUSH AVENUE 11225\n",
      "3                    WENDY'S 469 FLATBUSH AVENUE 11225\n",
      "4                    WENDY'S 469 FLATBUSH AVENUE 11225\n",
      "5               TOV KOSHER KITCHEN 97-22 63 ROAD 11374\n",
      "6               TOV KOSHER KITCHEN 97-22 63 ROAD 11374\n",
      "7               TOV KOSHER KITCHEN 97-22 63 ROAD 11374\n",
      "8               TOV KOSHER KITCHEN 97-22 63 ROAD 11374\n",
      "9    BRUNOS ON THE BOULEVARD 8825 ASTORIA BOULEVARD...\n",
      "Name: RESTAURANT, dtype: object\n"
     ]
    }
   ],
   "source": [
    "#use .apply() method to combine the 4 columns to get the unique restaurant name\n",
    "restaurants[\"RESTAURANT\"] = restaurants[[\"DBA\", \"BUILDING\", \"STREET\", \"ZIPCODE\"]].\\\n",
    "                                        apply(lambda x: \"{} {} {} {}\".format(x[0], x[1], x[2], x[3]), axis=1)\n",
    "\n",
    "#incase that the RESTAURANT names contain spaces or symbols, strip off them\n",
    "restaurants[\"RESTAURANT\"] = restaurants[\"RESTAURANT\"].map(lambda y: y.strip())\n",
    "print restaurants[\"RESTAURANT\"][:10]"
   ]
  },
  {
   "cell_type": "markdown",
   "metadata": {},
   "source": [
    "## Question 2: How many restaurants are included in the data?"
   ]
  },
  {
   "cell_type": "markdown",
   "metadata": {},
   "source": [
    "To answer the question just calculate how many unique values are there in `RESTAURANT` column, which is equaivalent to measuring the length of `.value_counts()`."
   ]
  },
  {
   "cell_type": "code",
   "execution_count": 4,
   "metadata": {
    "collapsed": false
   },
   "outputs": [
    {
     "name": "stdout",
     "output_type": "stream",
     "text": [
      "There are 10114 restaurants in the data.\n"
     ]
    }
   ],
   "source": [
    "print \"There are\", len(restaurants.drop_duplicates(subset=\"RESTAURANT\")[\"RESTAURANT\"].value_counts()), \"restaurants in the data.\""
   ]
  },
  {
   "cell_type": "markdown",
   "metadata": {},
   "source": [
    "## Question 3: How many chains are there?"
   ]
  },
  {
   "cell_type": "markdown",
   "metadata": {},
   "source": [
    "To calculate the number of chain restaurants, it is convenient to drop the duplicate rows with same `RESTAURANT`,\n",
    "i.e. the same restaurant appearing more than once, and then calculate the number of `DBA` occuring more than twice."
   ]
  },
  {
   "cell_type": "code",
   "execution_count": 5,
   "metadata": {
    "collapsed": false
   },
   "outputs": [
    {
     "name": "stdout",
     "output_type": "stream",
     "text": [
      "There are 368 chain restaurants.\n"
     ]
    }
   ],
   "source": [
    "num_chain = sum(restaurants.drop_duplicates(subset=\"RESTAURANT\")[\"DBA\"].value_counts()>=2)\n",
    "print \"There are\", num_chain, \"chain restaurants.\""
   ]
  },
  {
   "cell_type": "markdown",
   "metadata": {},
   "source": [
    "## Question 4: Plot a bar graph of the top 20 most popular chains."
   ]
  },
  {
   "cell_type": "markdown",
   "metadata": {},
   "source": [
    "To plot the top 20 most popular chains, we define a helper function `chain` to identify if a given `DBA` is one of the chains, and then take the first 20 `DBA` for plotting."
   ]
  },
  {
   "cell_type": "code",
   "execution_count": 6,
   "metadata": {
    "collapsed": false
   },
   "outputs": [
    {
     "data": {
      "text/plain": [
       "<matplotlib.axes.AxesSubplot at 0x7fbdb1c31bd0>"
      ]
     },
     "execution_count": 6,
     "metadata": {},
     "output_type": "execute_result"
    },
    {
     "data": {
      "image/png": "[encoded data removed]",
      "text/plain": [
       "<matplotlib.figure.Figure at 0x7fbdb158f350>"
      ]
     },
     "metadata": {},
     "output_type": "display_data"
    }
   ],
   "source": [
    "chains = restaurants.drop_duplicates(subset=\"RESTAURANT\")[\"DBA\"].value_counts()[: num_chain].index.values\n",
    "def chain(restaurant):\n",
    "     return (restaurant in chains)\n",
    "mask = restaurants[\"DBA\"].map(chain)\n",
    "restaurants[mask].drop_duplicates(subset=\"RESTAURANT\")[\"DBA\"].value_counts()[:20].plot(kind=\"bar\")"
   ]
  },
  {
   "cell_type": "markdown",
   "metadata": {},
   "source": [
    "## Question 5: What fraction of all restaurants are chains?"
   ]
  },
  {
   "cell_type": "markdown",
   "metadata": {},
   "source": [
    "To calculate the faction of chains among all restaurants, we use an inline mask on `DBA`, and if it is chain, then return `True`, and `sum` up all results to get the number of chains. That is divided by the total number of unique `RESTAURANT` to get the fraction."
   ]
  },
  {
   "cell_type": "code",
   "execution_count": 7,
   "metadata": {
    "collapsed": false
   },
   "outputs": [
    {
     "name": "stdout",
     "output_type": "stream",
     "text": [
      "The percentage of chain restaurants is 3.64%\n"
     ]
    }
   ],
   "source": [
    "print \"The percentage of chain restaurants is\",\n",
    "print \"{:.2%}\".format(sum(restaurants.drop_duplicates(subset=\"RESTAURANT\")[\"DBA\"].value_counts()>=2)/float(len(restaurants[\"RESTAURANT\"].value_counts())))"
   ]
  },
  {
   "cell_type": "markdown",
   "metadata": {},
   "source": [
    "## Question 6: Plot the number of non-chain restaurants in each boro."
   ]
  },
  {
   "cell_type": "markdown",
   "metadata": {},
   "source": [
    "We define a helper function `lower_case` to convert a string series to lower case. This is used to help determine is a `BORO` is \"missing\", since \"missing\" could be spelt in many ways. Yet to get the number of non-chain restaurants, we still need to use the `chain` function as a mask. After duplicate `RESTAURANT` are removed, it is ready to count the number in each borough and make a bar plot."
   ]
  },
  {
   "cell_type": "code",
   "execution_count": 8,
   "metadata": {
    "collapsed": false
   },
   "outputs": [
    {
     "data": {
      "text/plain": [
       "<matplotlib.axes.AxesSubplot at 0x7fbdb139d390>"
      ]
     },
     "execution_count": 8,
     "metadata": {},
     "output_type": "execute_result"
    },
    {
     "data": {
      "image/png": "[encoded data removed]",
      "text/plain": [
       "<matplotlib.figure.Figure at 0x7fbdb139d1d0>"
      ]
     },
     "metadata": {},
     "output_type": "display_data"
    }
   ],
   "source": [
    "def lower_case(X):\n",
    "    return X.lower()\n",
    "\n",
    "mask_1 = restaurants[\"DBA\"].map(chain)\n",
    "mask_2 = restaurants[\"BORO\"].map(lower_case) != \"missing\"\n",
    "restaurants[-mask_1].drop_duplicates(subset=\"RESTAURANT\")[mask_2][\"BORO\"].value_counts().sort_values(ascending=False).plot(kind=\"bar\")"
   ]
  },
  {
   "cell_type": "markdown",
   "metadata": {
    "collapsed": true
   },
   "source": [
    "## Question 7: Plot the fraction of non-chain restaurants in each boro."
   ]
  },
  {
   "cell_type": "markdown",
   "metadata": {},
   "source": [
    "Similar to the previous question, we need to calculate the ratio of $\\frac{N_{non-chain}}{N_{total}}$ within each borough. This fraction can be done between two series-`value_counts()` of non-chains of `BORO` and `value_counts()` of all unique `RESTAURANT` of `BORO`.\n",
    "Depending on which borough has the highest ratio, a message will pop out to compare if it is the same with the borough with the most non-chains."
   ]
  },
  {
   "cell_type": "code",
   "execution_count": 9,
   "metadata": {
    "collapsed": false
   },
   "outputs": [
    {
     "name": "stdout",
     "output_type": "stream",
     "text": [
      "The highest non-chain/total ratio is: 86.20% (BROOKLYN)\n",
      "It is not the same borough.\n"
     ]
    },
    {
     "data": {
      "image/png": "[encoded data removed]",
      "text/plain": [
       "<matplotlib.figure.Figure at 0x7fbdb13e9e10>"
      ]
     },
     "metadata": {},
     "output_type": "display_data"
    }
   ],
   "source": [
    "series_tmp_1 = restaurants[mask_2].drop_duplicates(subset=\"RESTAURANT\")[\"BORO\"].value_counts()\n",
    "series_tmp_2 = restaurants[-mask_1][mask_2].drop_duplicates(subset=\"RESTAURANT\")[\"BORO\"].value_counts()\n",
    "series_tmp_ratio = series_tmp_2/series_tmp_1\n",
    "series_tmp_ratio.sort_values(ascending=False).plot(kind=\"bar\")\n",
    "print \"The highest non-chain/total ratio is:\", \"{:0.2%} ({})\".format(series_tmp_ratio.sort_values(ascending=False)[0],\\\n",
    "                                                                     series_tmp_ratio.sort_values(ascending=False).index.values[0])\n",
    "if series_tmp_ratio.sort_values(ascending=False).index.values[0] !=\\\n",
    "restaurants[-mask_1].drop_duplicates(subset=\"RESTAURANT\")[mask_2][\"BORO\"].value_counts().sort_values(ascending=False).index.values[0]:\n",
    "    print \"It is not the same borough.\"\n",
    "else:\n",
    "    print \"It is the same borough.\""
   ]
  },
  {
   "cell_type": "markdown",
   "metadata": {},
   "source": [
    "## Question 8: Plot the popularity of cuisines."
   ]
  },
  {
   "cell_type": "markdown",
   "metadata": {},
   "source": [
    "This plot is relatively simple. Drop duplicate `RESTAURANT` and plot on the top 20 of sorted `value_counts()` of `CUISINE DESCRIPTION.`"
   ]
  },
  {
   "cell_type": "code",
   "execution_count": 10,
   "metadata": {
    "collapsed": false
   },
   "outputs": [
    {
     "data": {
      "text/plain": [
       "<matplotlib.axes.AxesSubplot at 0x7fbdb149c950>"
      ]
     },
     "execution_count": 10,
     "metadata": {},
     "output_type": "execute_result"
    },
    {
     "data": {
      "image/png": "[encoded data removed]",
      "text/plain": [
       "<matplotlib.figure.Figure at 0x7fbdb10c75d0>"
      ]
     },
     "metadata": {},
     "output_type": "display_data"
    }
   ],
   "source": [
    "restaurants.drop_duplicates(subset=\"RESTAURANT\")[\"CUISINE DESCRIPTION\"].value_counts()\\\n",
    "                                                                .sort_values(ascending=False)[:20].plot(kind=\"bar\")"
   ]
  },
  {
   "cell_type": "markdown",
   "metadata": {},
   "source": [
    "## Question 9: Plot the cuisines among restaurants which never got cited for violations."
   ]
  },
  {
   "cell_type": "markdown",
   "metadata": {},
   "source": [
    "Here we used a mask to sift out the restaurants whose `VIOLATION CODE` is missing."
   ]
  },
  {
   "cell_type": "code",
   "execution_count": 11,
   "metadata": {
    "collapsed": false
   },
   "outputs": [
    {
     "data": {
      "text/plain": [
       "<matplotlib.axes.AxesSubplot at 0x7fbdb0e1d550>"
      ]
     },
     "execution_count": 11,
     "metadata": {},
     "output_type": "execute_result"
    },
    {
     "data": {
      "image/png": "[encoded data removed]",
      "text/plain": [
       "<matplotlib.figure.Figure at 0x7fbdb0e39590>"
      ]
     },
     "metadata": {},
     "output_type": "display_data"
    }
   ],
   "source": [
    "mask_3 = restaurants[\"VIOLATION CODE\"].isnull()\n",
    "restaurants[mask_3].drop_duplicates(subset=\"RESTAURANT\")[\"CUISINE DESCRIPTION\"].value_counts()\\\n",
    "                                                            .sort_values(ascending=False)[:20].plot(kind=\"bar\")"
   ]
  },
  {
   "cell_type": "markdown",
   "metadata": {},
   "source": [
    "## Question 10: What cuisines tend to be the “cleanest”?"
   ]
  },
  {
   "cell_type": "markdown",
   "metadata": {},
   "source": [
    "Here we use a helper function `is_top_cuisine` to select all the rows with the top 20 most popular cuisines, and then take a series ratio in the form of $\\frac{N_{no\\ violation}}{N_{inspections}}$. The numerator series is `value_counts()` of top cuisines with missing `VIOLATION CODE`, and the denominator series is `value_counts()` of total inspections of these cuisines. And then the ratio series is plotted out."
   ]
  },
  {
   "cell_type": "code",
   "execution_count": 12,
   "metadata": {
    "collapsed": false
   },
   "outputs": [
    {
     "data": {
      "text/plain": [
       "<matplotlib.axes.AxesSubplot at 0x7fbdb0fd90d0>"
      ]
     },
     "execution_count": 12,
     "metadata": {},
     "output_type": "execute_result"
    },
    {
     "data": {
      "image/png": "[encoded data removed]",
      "text/plain": [
       "<matplotlib.figure.Figure at 0x7fbdb0f7fad0>"
      ]
     },
     "metadata": {},
     "output_type": "display_data"
    }
   ],
   "source": [
    "top_cuisines = restaurants[mask_3].drop_duplicates(subset=\"RESTAURANT\")[\"CUISINE DESCRIPTION\"].value_counts()\\\n",
    "                                                            .sort_values(ascending=False)[:20]\n",
    "def is_top_cuisine(cuisine):\n",
    "    return cuisine in top_cuisines.index.values\n",
    "mask_4 = restaurants[\"CUISINE DESCRIPTION\"].map(is_top_cuisine)\n",
    "series_tmp_3 = restaurants[mask_4][mask_3][\"CUISINE DESCRIPTION\"].value_counts()\n",
    "series_tmp_4 = restaurants[mask_4][\"CUISINE DESCRIPTION\"].value_counts()\n",
    "(series_tmp_3/series_tmp_4).sort_values(ascending=False)[:10].plot(kind=\"bar\")"
   ]
  },
  {
   "cell_type": "markdown",
   "metadata": {},
   "source": [
    "## Question 11: What are the most common violations in each borough?"
   ]
  },
  {
   "cell_type": "markdown",
   "metadata": {},
   "source": [
    "A `crosstab` dataframe is made with `VIOLATION DESCRIPTION` as index, and `BORO` (without \"Missing\" boroughs) as columns. `dropna` is set `True` so `NaN` will not be recorded.  Every cell in the `crosstab` is the number of occurences of a violation in a certain borough. `idxmax()` method is applied to automatically retrieve the max occurence for each `BORO`."
   ]
  },
  {
   "cell_type": "code",
   "execution_count": 13,
   "metadata": {
    "collapsed": false
   },
   "outputs": [
    {
     "name": "stdout",
     "output_type": "stream",
     "text": [
      "The most common violation in each borough is summarised below:\n"
     ]
    },
    {
     "data": {
      "text/plain": [
       "BORO\n",
       "BRONX            Non-food contact surface improperly constructe...\n",
       "BROOKLYN         Non-food contact surface improperly constructe...\n",
       "MANHATTAN        Non-food contact surface improperly constructe...\n",
       "QUEENS           Non-food contact surface improperly constructe...\n",
       "STATEN ISLAND    Non-food contact surface improperly constructe...\n",
       "dtype: object"
      ]
     },
     "execution_count": 13,
     "metadata": {},
     "output_type": "execute_result"
    }
   ],
   "source": [
    "violation_boro_tab = pd.crosstab(\n",
    "                        index=restaurants[\"VIOLATION DESCRIPTION\"],\n",
    "                        columns=restaurants[restaurants[\"BORO\"]!=\"Missing\"][\"BORO\"],\n",
    "                        dropna=True\n",
    "                    )\n",
    "print \"The most common violation in each borough is summarised below:\"\n",
    "violation_boro_tab.idxmax()"
   ]
  },
  {
   "cell_type": "markdown",
   "metadata": {},
   "source": [
    "## Question 12: What are the most common violations per borough, after normalizing for the relative abundance of each violation?"
   ]
  },
  {
   "cell_type": "markdown",
   "metadata": {},
   "source": [
    "The \"normalization\" is carried out with `apply()` method, which applies `lambda x: x.map(float)/violation_frequency_series, axis=0` on each column of the above `crosstab`. The denominator is a series of the `value_counts()` of all `VIOLATION DESCRIPTION`."
   ]
  },
  {
   "cell_type": "code",
   "execution_count": 14,
   "metadata": {
    "collapsed": false
   },
   "outputs": [
    {
     "name": "stdout",
     "output_type": "stream",
     "text": [
      "After normalization, the most common violation in each borough is summarised below:\n"
     ]
    },
    {
     "data": {
      "text/plain": [
       "BORO\n",
       "BRONX                                  Unprotected food re-served.\n",
       "BROOKLYN         Precooked potentially hazardous food from comm...\n",
       "MANHATTAN        Out-of package sale of tobacco products observed.\n",
       "QUEENS           Caloric content range (minimum to maximum) not...\n",
       "STATEN ISLAND    Eggs found dirty/cracked; liquid, frozen or po...\n",
       "dtype: object"
      ]
     },
     "execution_count": 14,
     "metadata": {},
     "output_type": "execute_result"
    }
   ],
   "source": [
    "violation_frequency_series = restaurants[\"VIOLATION DESCRIPTION\"].value_counts()\n",
    "violation_boro_norm_tab = violation_boro_tab.apply(lambda x: x.map(float)/violation_frequency_series, axis=0)\n",
    "print \"After normalization, the most common violation in each borough is summarised below:\"\n",
    "violation_boro_norm_tab.idxmax()"
   ]
  },
  {
   "cell_type": "markdown",
   "metadata": {},
   "source": [
    "## Question 13: How many phone area codes correspond to a single zipcode?"
   ]
  },
  {
   "cell_type": "markdown",
   "metadata": {},
   "source": [
    "We create a new column `AREA` to store the first 3 digits of `PHONE`, which is the area code. Then we drop duplicate rows with the same combination of `AREA` and `ZIPCODE`. By `value_counts()==1` each `AREA` with a single `ZIPCODE` will return `True`, whose sum is the total number of such area codes."
   ]
  },
  {
   "cell_type": "code",
   "execution_count": 15,
   "metadata": {
    "collapsed": false
   },
   "outputs": [
    {
     "name": "stdout",
     "output_type": "stream",
     "text": [
      "There are 34 area codes corresponding to only 1 zipcode\n"
     ]
    }
   ],
   "source": [
    "restaurants[\"AREA\"] = restaurants[\"PHONE\"].map(lambda x: x[:3])\n",
    "print \"There are\",\n",
    "print sum(restaurants.drop_duplicates(subset=[\"AREA\", \"ZIPCODE\"])[\"AREA\"].value_counts() == 1),\n",
    "print \"area codes corresponding to only 1 zipcode\""
   ]
  },
  {
   "cell_type": "markdown",
   "metadata": {},
   "source": [
    "## Question 14: Find common misspellings of street names"
   ]
  },
  {
   "cell_type": "markdown",
   "metadata": {},
   "source": [
    "After following the assignment instruction, it is found that the `STREET` column in the original dataframe is poorly formatted, with extra spaces, etc. So it is better to `strip` the value in `STREET` before slicing the string. But afterwards, the process largely follows the instruction.\n",
    "It should be mentioned that `pands.concat` and `pandas.merge` functions are used to construct new dataframes from existing columns. At the end, `idxmax()` method is applied to the `crosstab`, so the most common alias of the specified phrases are returned."
   ]
  },
  {
   "cell_type": "code",
   "execution_count": 16,
   "metadata": {
    "collapsed": false
   },
   "outputs": [
    {
     "name": "stdout",
     "output_type": "stream",
     "text": [
      "The most common alias for each of the following street type is listed\n"
     ]
    },
    {
     "data": {
      "text/plain": [
       "STREET TYPE 2\n",
       "AVE          AVENUE\n",
       "ST           STREET\n",
       "RD             ROAD\n",
       "PL            PLACE\n",
       "BOULEARD       BLVD\n",
       "BOULEVARD      BLVD\n",
       "dtype: object"
      ]
     },
     "execution_count": 16,
     "metadata": {},
     "output_type": "execute_result"
    }
   ],
   "source": [
    "import re\n",
    "restaurants[\"STREET TYPE\"] = restaurants[\"STREET\"].map(lambda s: re.split(\" \", s.strip())[-1])\n",
    "restaurants[\"STREET BASE\"] = restaurants[\"STREET\"].map(lambda s: \" \".join(re.split(\" \", s.strip())[:-1]))\n",
    "restaurants[\"STREET BASE & ZIP\"] = restaurants[\"STREET BASE\"].map(lambda s: s+\" \") + restaurants[\"ZIPCODE\"]\n",
    "new_dataframe = pd.concat(\n",
    "    [restaurants[\"STREET BASE\"], restaurants[\"STREET TYPE\"], restaurants[\"STREET BASE & ZIP\"]],\n",
    "    axis=1\n",
    ")\n",
    "\n",
    "new_dataframe = new_dataframe[new_dataframe[\"STREET BASE\"].map(lambda s: len(s)>0)].drop_duplicates()\n",
    "\n",
    "merged_new_dataframe = pd.merge(\n",
    "                            new_dataframe,\n",
    "                            new_dataframe,\n",
    "                            left_on=\"STREET BASE & ZIP\",\n",
    "                            right_on=\"STREET BASE & ZIP\",\n",
    "                            suffixes=[\" 1\", \" 2\"]\n",
    "                                )\n",
    "\n",
    "merged_new_dataframe = merged_new_dataframe[merged_new_dataframe[\"STREET TYPE 1\"] != merged_new_dataframe[\"STREET TYPE 2\"]]\n",
    "\n",
    "street_name = pd.crosstab(\n",
    "    index=merged_new_dataframe[\"STREET TYPE 1\"],\n",
    "    columns=merged_new_dataframe[\"STREET TYPE 2\"],\n",
    "    dropna=True\n",
    ")\n",
    "\n",
    "street_name\n",
    "print \"The most common alias for each of the following street type is listed\"\n",
    "street_name.idxmax()[\n",
    "    [\"AVE\", \"ST\", \"RD\", \"PL\", \"BOULEARD\", \"BOULEVARD\"]\n",
    "]"
   ]
  }
 ],
 "metadata": {
  "kernelspec": {
   "display_name": "Python 2",
   "language": "python",
   "name": "python2"
  },
  "language_info": {
   "codemirror_mode": {
    "name": "ipython",
    "version": 2
   },
   "file_extension": ".py",
   "mimetype": "text/x-python",
   "name": "python",
   "nbconvert_exporter": "python",
   "pygments_lexer": "ipython2",
   "version": "2.7.6"
  }
 },
 "nbformat": 4,
 "nbformat_minor": 0
}
