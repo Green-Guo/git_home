{
 "cells": [
  {
   "cell_type": "code",
   "execution_count": 1,
   "metadata": {
    "collapsed": true
   },
   "outputs": [],
   "source": [
    "#Problem: The Google of Quotes\n",
    "#Group members: S. Wang, Y. Ye, M. Staton, W. Wang\n",
    "#Version 1.1"
   ]
  },
  {
   "cell_type": "code",
   "execution_count": 2,
   "metadata": {
    "collapsed": false
   },
   "outputs": [],
   "source": [
    "#to access math.log(), and regex functions\n",
    "import math, re\n",
    "#to access collections.Counter() function which counts the occurence of items in a list\n",
    "from collections import Counter\n",
    "#to facilitate timing the script\n",
    "from time import time"
   ]
  },
  {
   "cell_type": "code",
   "execution_count": 3,
   "metadata": {
    "collapsed": false
   },
   "outputs": [],
   "source": [
    "#start timing\n",
    "start_time0 = time()"
   ]
  },
  {
   "cell_type": "code",
   "execution_count": 4,
   "metadata": {
    "collapsed": true
   },
   "outputs": [],
   "source": [
    "#make a handle on the file\n",
    "quotes_file = open(\"quotes.txt\", \"r\")"
   ]
  },
  {
   "cell_type": "code",
   "execution_count": 5,
   "metadata": {
    "collapsed": false
   },
   "outputs": [],
   "source": [
    "#make an empty list to store the quotes\n",
    "quote_list = []\n",
    "\n",
    "#read in one line each time\n",
    "new_line = quotes_file.readline()\n",
    "\n",
    "#join the adjacent two lines to make a full quote\n",
    "while len(new_line) != 0:\n",
    "    \n",
    "    str1, str2 = new_line.strip(\"\\r\\n\"), quotes_file.readline().strip(\"\\r\\n\")\n",
    "        \n",
    "    quote_list.extend([\" - \".join([str1, str2])])\n",
    "    \n",
    "    new_line = quotes_file.readline()"
   ]
  },
  {
   "cell_type": "code",
   "execution_count": 6,
   "metadata": {
    "collapsed": true
   },
   "outputs": [],
   "source": [
    "#for safety, close the handle. This can also be done with \"with open() as handle\"\n",
    "quotes_file.close()"
   ]
  },
  {
   "cell_type": "code",
   "execution_count": 7,
   "metadata": {
    "collapsed": true
   },
   "outputs": [],
   "source": [
    "#this function take one quote and make a list of the unique words in that quote\n",
    "def words_in_quote(quote):\n",
    "    \n",
    "    pattern = \"\\W+\"\n",
    "    \n",
    "    word_list = [word.lower() for word in re.split(pattern, quote)]\n",
    "    \n",
    "    while \"\" in word_list:\n",
    "        \n",
    "        word_list.remove(\"\")\n",
    "        \n",
    "    return word_list"
   ]
  },
  {
   "cell_type": "code",
   "execution_count": 8,
   "metadata": {
    "collapsed": true
   },
   "outputs": [],
   "source": [
    "#define a function to count the occurence of a word in an object which could be a string or list\n",
    "#this hurts performance.\n",
    "#tried *.count() function, but it will return \"happy\".count(\"appy\") returns 1, i.e. it treats string as list\n",
    "def count_ocur(obj, elem):\n",
    "    \n",
    "    count = 0\n",
    "    \n",
    "    if type(obj) == list:\n",
    "        \n",
    "        for i in range(0, len(obj)):\n",
    "\n",
    "            if str(obj[i]).lower() == elem.lower():\n",
    "\n",
    "                count += 1\n",
    "\n",
    "        return count\n",
    "    \n",
    "    elif type(obj) == str:\n",
    "        \n",
    "        obj_list = re.split(\"[^a-zA-Z0-9_]+\", obj.lower())\n",
    "        \n",
    "        for j in range(0, len(obj_list)):\n",
    "            \n",
    "            if obj_list[j] == elem:\n",
    "                \n",
    "                count += 1\n",
    "                \n",
    "        return count\n",
    "    \n",
    "    else:\n",
    "        \n",
    "        return 0"
   ]
  },
  {
   "cell_type": "code",
   "execution_count": 9,
   "metadata": {
    "collapsed": false
   },
   "outputs": [],
   "source": [
    "#define a function to create a posting list given a list of full quotes\n",
    "def postings_list(quotes):\n",
    "    \n",
    "    if type(quotes) != list:\n",
    "        \n",
    "        print \"This function only takes list arguments.\"\n",
    "        \n",
    "        return {}\n",
    "    \n",
    "    postings_list_dict = {}\n",
    "                \n",
    "    for pair in [(quote, dict(Counter(words_in_quote(quote)))) for quote in quotes]:\n",
    "        \n",
    "        postings_list_dict[pair[0]] = pair[1]\n",
    "\n",
    "    return postings_list_dict"
   ]
  },
  {
   "cell_type": "code",
   "execution_count": 10,
   "metadata": {
    "collapsed": false
   },
   "outputs": [
    {
     "name": "stdout",
     "output_type": "stream",
     "text": [
      "0.0399849414825\n"
     ]
    }
   ],
   "source": [
    "start_time = time()\n",
    "postings_list_dict = postings_list(quote_list)\n",
    "end_time = time()\n",
    "print end_time - start_time"
   ]
  },
  {
   "cell_type": "code",
   "execution_count": 11,
   "metadata": {
    "collapsed": false
   },
   "outputs": [],
   "source": [
    "#define a function to create a reverse posting list given a list of full quotes\n",
    "def rev_postings_list(quotes):\n",
    "    \n",
    "    if type(quotes) != list:\n",
    "        \n",
    "        print \"This function only takes list arguments.\"\n",
    "        \n",
    "        return {}\n",
    "    \n",
    "    rev_postings_list_dict = {}\n",
    "    \n",
    "    words = []\n",
    "\n",
    "    [words.extend(words_in_quote(quote)) for quote in quote_list]\n",
    "\n",
    "    words = Counter(words).keys()\n",
    "\n",
    "    for word in words:\n",
    "\n",
    "        quote_word_list = [(quote, words_in_quote(quote).count(word)) for quote in quotes]\n",
    "\n",
    "        rev_postings_list_dict[word] = {}\n",
    "\n",
    "        for elem in quote_word_list:\n",
    "\n",
    "            if elem[1] > 0:\n",
    "\n",
    "                rev_postings_list_dict[word][elem[0]] = elem[1]\n",
    "          \n",
    "    return rev_postings_list_dict"
   ]
  },
  {
   "cell_type": "code",
   "execution_count": 12,
   "metadata": {
    "collapsed": false
   },
   "outputs": [
    {
     "name": "stdout",
     "output_type": "stream",
     "text": [
      "39.3418650627\n"
     ]
    }
   ],
   "source": [
    "#warning: trying printing reverse_postings_list_dict foreshadows disaster!\n",
    "start_time = time()\n",
    "reverse_postings_list_dict = rev_postings_list(quote_list)\n",
    "end_time = time()\n",
    "print end_time - start_time"
   ]
  },
  {
   "cell_type": "code",
   "execution_count": 13,
   "metadata": {
    "collapsed": false
   },
   "outputs": [],
   "source": [
    "#this function take a tuple of (quote, word) and returns the TF_IDF index of word in quote\n",
    "def tf_idf((quote, word)):\n",
    "    \n",
    "    word = str(word).lower()\n",
    "    \n",
    "    if quote not in postings_list_dict:\n",
    "        \n",
    "        print \"The quote is not found.\"\n",
    "        \n",
    "        return 0\n",
    "    \n",
    "    if word not in reverse_postings_list_dict:\n",
    "                \n",
    "        print \"The word is not found.\"\n",
    "        \n",
    "        return 0\n",
    "    \n",
    "    max_ocur_in_quote = max([value for (key, value) in postings_list_dict[quote].items() ])\n",
    "        \n",
    "    TF = float(count_ocur(quote, word)) / max_ocur_in_quote\n",
    "        \n",
    "    N = len(quote_list)\n",
    "        \n",
    "    n = len([(key, value) for (key, value) in reverse_postings_list_dict[word].items() if value > 0])\n",
    "        \n",
    "    IDF = math.log(float(N/n))\n",
    "        \n",
    "    TF_IDF = TF * IDF\n",
    "        \n",
    "    return TF_IDF"
   ]
  },
  {
   "cell_type": "code",
   "execution_count": 14,
   "metadata": {
    "collapsed": false
   },
   "outputs": [
    {
     "data": {
      "text/plain": [
       "1.0986122886681098"
      ]
     },
     "execution_count": 14,
     "metadata": {},
     "output_type": "execute_result"
    }
   ],
   "source": [
    "tf_idf((\"We are all worms, but I do believe I am a glow-worm. - Winston Churchill\", \"we\"))"
   ]
  },
  {
   "cell_type": "code",
   "execution_count": 15,
   "metadata": {
    "collapsed": false
   },
   "outputs": [
    {
     "name": "stdout",
     "output_type": "stream",
     "text": [
      "3.3933584753\n",
      "0.000725030899048\n"
     ]
    }
   ],
   "source": [
    "#print TF_IDF index of \"entertainer\" in the Marlon Brando quote to verify the result\n",
    "start_time = time()\n",
    "print tf_idf((quote_list[16], \"entertainer\"))\n",
    "end_time = time()\n",
    "print end_time - start_time"
   ]
  },
  {
   "cell_type": "code",
   "execution_count": 24,
   "metadata": {
    "collapsed": true
   },
   "outputs": [],
   "source": [
    "#define a function to search a single word in all quotes\n",
    "def sg_word_search(default_word=\"\"):\n",
    "    \n",
    "    if len(default_word) == 0:\n",
    "        \n",
    "        word = \"\"\n",
    "\n",
    "        while len(word) == 0:\n",
    "\n",
    "            word = str(raw_input(\"Type in a word to search, or \\\"!!!\\\" to quit: \")).lower().strip()\n",
    "\n",
    "            if word == \"!!!\":\n",
    "\n",
    "                print \"See you next time.\"\n",
    "\n",
    "                return {}\n",
    "            \n",
    "    else:\n",
    "        \n",
    "        word = default_word\n",
    "        \n",
    "    search_dict = {}\n",
    "    \n",
    "    if word not in reverse_postings_list_dict:\n",
    "        \n",
    "        print word, \"is not found.\"\n",
    "        \n",
    "        return {}\n",
    "        \n",
    "    retrieved_quotes = [key for (key, value) in reverse_postings_list_dict[word].items() if value > 0]\n",
    "    \n",
    "    for quote in retrieved_quotes:\n",
    "        \n",
    "        search_dict[quote] = tf_idf((quote, word))\n",
    "        \n",
    "        #print word, \" in \", quote, word in quote\n",
    "    \n",
    "    return search_dict"
   ]
  },
  {
   "cell_type": "code",
   "execution_count": 25,
   "metadata": {
    "collapsed": true
   },
   "outputs": [],
   "source": [
    "#this function takes a list of words and return all the quotes containing any of the words\n",
    "#and shows the sum of the TF_IDF index of every word in every quote \n",
    "def mul_word_search():\n",
    "    \n",
    "    words = []\n",
    "    \n",
    "    while True:\n",
    "        \n",
    "        if len(words) == 0:\n",
    "            \n",
    "            text = str(raw_input(\"Type one word and Enter\\n\\\"!!!\\\" >>> quit\\n:\")).lower().strip()\n",
    "        \n",
    "        else:\n",
    "            \n",
    "            text = str(raw_input(\"Type one word and Enter\\n\\\"???\\\" >>> start searching\\n\\\"!!!\\\" >>> quit\\n:\")).lower().strip()\n",
    "        \n",
    "        if text == \"!!!\":\n",
    "            \n",
    "            print \"See you next time.\"\n",
    "            \n",
    "            return {}           \n",
    "        \n",
    "        if text == \"???\" and len(words) > 0:\n",
    "            \n",
    "            break\n",
    "        \n",
    "        else:\n",
    "            \n",
    "            words.extend(text)\n",
    "            \n",
    "            continue\n",
    "            \n",
    "    while \"\" in words:\n",
    "        \n",
    "        words.remove(\"\")\n",
    "        \n",
    "    words = [str(s).lower() for s in words]\n",
    "    \n",
    "    search_dict2 = {}\n",
    "    \n",
    "    retrieved_quotes2_unmerged = map(sg_word_search, words)\n",
    "    \n",
    "    retrieved_quotes2_merged = []\n",
    "    \n",
    "    for i in range(0, len(retrieved_quotes2_unmerged)):\n",
    "        \n",
    "        retrieved_quotes2_merged += retrieved_quotes2_unmerged[i]\n",
    "    \n",
    "    retrieved_quotes2_unique = Counter(retrieved_quotes2_merged).keys()\n",
    "        \n",
    "    for quote in retrieved_quotes2_unique:\n",
    "        \n",
    "        new_params = [(quote, word) for word in words]\n",
    "        \n",
    "        search_dict2[quote] = sum(map(tf_idf, new_params))\n",
    "        \n",
    "    return search_dict2"
   ]
  },
  {
   "cell_type": "code",
   "execution_count": 26,
   "metadata": {
    "collapsed": false
   },
   "outputs": [
    {
     "name": "stdout",
     "output_type": "stream",
     "text": [
      "Type in a word to search, or \"!!!\" to quit: !!!\n",
      "See you next time.\n",
      "17.8495419025\n"
     ]
    }
   ],
   "source": [
    "#print out a sample result of calling sg_word_search on keyword \"and\"\n",
    "#check the length of the returned list to verify the result\n",
    "start_time = time()\n",
    "len(sg_word_search())\n",
    "end_time = time()\n",
    "print end_time - start_time"
   ]
  },
  {
   "cell_type": "code",
   "execution_count": 27,
   "metadata": {
    "collapsed": false
   },
   "outputs": [
    {
     "name": "stdout",
     "output_type": "stream",
     "text": [
      "Type one word and Enter\n",
      "\"!!!\" >>> quit\n",
      ":and\n",
      "Type one word and Enter\n",
      "\"???\" >>> start searching\n",
      "\"!!!\" >>> quit\n",
      ":he\n",
      "Type one word and Enter\n",
      "\"???\" >>> start searching\n",
      "\"!!!\" >>> quit\n",
      ":???\n",
      "{'It is impossible to experience one`s death objectively and still carry a tune. - Woody Allen': 0.6931471805599453, 'I have a hobby...I have the world`s largest collection of sea shells. I keep it scattered on beaches all over the world. Maybe you`ve seen some of it... - Steven Wright': 0.23104906018664842, 'Maturity is a bitter disappointment for which no remedy exists, unless laughter can be said to remedy anything. - Kurt Vonnegut': 0.34657359027997264, 'To me there has never been a higher source of earthly honor or distinction than that connected with advances in science. - Isaac Newton': 0.6931471805599453, 'By a curious confusion, many modern critics have passed from the proposition that a masterpiece may be unpopular to the other proposition that unless it is unpopular it cannot be a masterpiece. - GK Chesterton': 0.6931471805599453, 'Men marry to make an end; women to make a beginning. - Alexis Dupuy': 0.34657359027997264, 'Of all tyrannies, a tyranny exercised for the good of its victims may be the most oppressive. It may be better to live under robber barons than under omnipotent moral busybodies. The robber baron`s cruelty may sometimes sleep, his cupidity may at some point be satiated; but those who torment us for our own good will torment us without end, for they do so with the approval of their own conscience. - C.S. Lewis': 0.17328679513998632, 'When an American says that he loves his country, he means not only that he loves the New England hills, the prairies glistening in the sun, the wide and rising plains, the great mountains, and the sea. He means that he loves an inner air, an inner light in which freedom lives and in which a man can draw the breath of self-respect. - Adlai Stevenson': 0.09902102579427789, 'We have the Bill of Rights. What we need is a Bill of Responsibilities. - Bill Maher': 0.23104906018664842, 'I mistrust the judgment of every man in a case in which his own wishes are concerned. - Daniel Webster': 0.34657359027997264, 'Christmas can be celebrated in the school room with pine trees, tinsel and reindeers, but there must be no mention of the man whose birthday is being celebrated. One wonders how a teacher would answer if a student asked why it was called Christmas. - Ronald Reagan': 0.6931471805599453, 'There are a thousand hacking at the branches of evil to one who is striking at the root. - Henry Thoreau': 0.34657359027997264, 'In politics, if you want anything said, ask a man; if you want anything done, ask a woman. - Margaret Thatcher': 0.6931471805599453, 'I wake each morning torn between the desire to improve the world and the desire to enjoy it. It makes it hard to plan the day. - E.B. White': 1.421743839084955, 'Let the word go forth from this time and place, to friend and foe alike, that the torch has been passed to a new generation of Americans. - John F. Kennedy': 0.34657359027997264, 'I`ve worked for four presidents and watched two others up close, and I know that there`s no such thing as a routine day in the Oval Office. - Dick Cheney': 0.34657359027997264, 'Talent alone won`t make you a success. Neither will being in the right place at the right time, unless you are ready. The most important question is: `Are you ready?` - Johnny Carson': 0.23104906018664842, 'The function of RAM is to give us guys a way of deciding whose computer has the biggest, studliest, most tumescent MEMORY. This is important, because with today`s complex software, the more memory a computer has, the faster it can produce error messages. So the bottom line is, if you`re a guy, you cannot have enough RAM. - Dave Barry': 0.4158883083359672, 'Some folks look at me and see a certain swagger, which in Texas is called `walking.` - George W. Bush': 0.6931471805599453, 'There`s nothing sadder in this world than to awake Christmas morning and not be a child. - Erna Bombeck': 0.6931471805599453, 'He who is of calm and happy nature will hardly feel the pressure of age, but to him who is of an opposite disposition youth and age are equally a burden. - Plato': 0.23104906018664842, 'Thus far, the reputed idiot Bush has graduated from Yale and Harvard, made a stack of cash in the oil industry, become the first consecutive-term governor of Texas, defeated a dual-term VP for the presidency, and led his party to [November 5th`s] extraordinary triumphs. Let his opponents keep calling him stupid; if they do, within five years Bush will be King of England, the Pope, and world Formula One motor racing champion. - Tim Blair': 0.2772588722239781, 'Instead of a trap door, what about a trap window? The guy looks out it, and if he leans too far, he falls out. Wait. I guess that`s like a regular window. - Jack Handey': 0.6931471805599453, 'One thing they never tell you about child raising is that for the rest of your life, at the drop of a hat, you are expected to know your child`s name and how old he or she is. - Erna Bombeck': 0.34657359027997264, 'The only kind of seafood I trust is the fish stick, a totally featureless fish that doesn`t have eyeballs or fins. - Dave Barry': 0.34657359027997264, 'A brain has to digest its food, too. - Jason Mechalek': 0.6931471805599453, 'The broad masses of a population are more amenable to the appeal of rhetoric than to any other force. - Adolf Hitler': 0.34657359027997264, 'I hate war as only a soldier who has lived it can, only as one who has seen its brutality, its futility, its stupidity. - Dwight Eisenhower': 0.23104906018664842, 'America is not like a blanket: one piece of unbroken cloth, the same color, the same texture, the same size. America is more like a quilt: many patches, many pieces, many colors, many sizes, all woven and held together by a common thread. - Jesse Jackson': 0.5198603854199589, 'Women need a reason to have sex -- men just need a place. - Billy Crystal': 0.6931471805599453, 'What is it that makes a complete stranger dive into an icy river to save a solid-gold baby? Maybe we`ll never know. - Jack Handey': 0.6931471805599453, 'A right delayed is a right denied. - Martin Luther King Jr.': 0.6931471805599453, 'To be a leader means to be able to move masses. - Adolf Hitler': 0.23104906018664842, 'How did it happen that their lips came together? How does it happen that birds sing, that snow melts, that the rose unfolds, that the dawn whitens behind the stark shapes of trees on the quivering summit of the hill? A kiss, and all was said. - Victor Hugo': 0.13862943611198905, 'If the United Nations once admits that international disputes can be settled by using force, then we will have destroyed the foundation of the organization and our best hope of establishing a world order. - Dwight Eisenhower': 0.23104906018664842, 'A diplomat is a man who always remembers a woman`s birthday but never remembers her age. - Robert Frost': 0.6931471805599453, 'Nothing so dates a man as to decry the younger generation. - Adlai Stevenson': 0.6931471805599453, 'No nation keeps its word. A nation is a big, blind worm, following what? Fate perhaps. A nation has no honor, it has no word to keep. - Carl Jung': 0.6931471805599453, 'We make a living by what we get, but we make a life by what we give. - Winston Churchill': 0.34657359027997264, 'Many a man`s reputation would not know his character if they met on the street. - Elbert Hubbard': 0.6931471805599453, 'Regarding the debate about faith and works: It\\x92s like asking which blade in a pair of scissors is most important. - C.S. Lewis': 0.34657359027997264, 'If a woman has to choose between catching a fly ball and saving an infant`s life, she will choose to save the infant`s life without even considering if there are men on base. - Dave Barry': 0.6931471805599453, 'Don`t go around saying the world owes you a living. The world owes you nothing. It was here first. - Mark Twain': 0.34657359027997264, 'I had a dream the other night. I dreamed that Jimmy Carter came to me and asked why I wanted his job. I told him I didn`t want his job. I want to be President. - Ronald Reagan': 0.11552453009332421, 'Skepticism is a virtue in history as well as in philosophy. - Napoleon Bonaparte': 0.34657359027997264, 'Having a male gynecologist is like going to an auto mechanic who doesn`t own a car. - Carrie Snow': 0.6931471805599453, 'We`ve got to live. No matter how many skies have fallen. - D.H. Lawrence': 10.387455722132238, 'Television is a medium of entertainment which permits millions of people to listen to the same joke at the same time, and yet remain lonesome. - T.S. Eliot': 0.34657359027997264, 'I almost had a pyschic girlfriend, but she left me before we met. - Steven Wright': 0.6931471805599453, 'It is hard to believe that a man is telling the truth when you know that you would lie if you were in his place. - Henry Mencken': 0.23104906018664842, 'I would not join any club that would have someone like me for a member. - Groucho Marx': 0.34657359027997264, 'Ocean: A body of water occupying 2/3 of a world made for man...who has no gills. - Ambrose Bierce': 0.6931471805599453, 'Science is not about building a body of known `facts`. It is a method for asking awkward questions and subjecting them to a reality-check, thus avoiding the human tendency to believe whatever makes us feel good. - Terry Pratchett': 0.6931471805599453, 'Surely what a man does when he is caught off his guard is the best evidence as to what sort of man he is. - C.S. Lewis': 0.23104906018664842, 'If you will not fight for the right when you can easily win without bloodshed; if you will not fight when your victory will be sure and not too costly; you may come to the moment when you will have to fight with all the odds against you and only a small chance of survival. There may even be a worse case: you may have to fight when there is no hope of victory, because it is better to perish than to live as slaves. - Winston Churchill': 0.19804205158855578, 'A `geek` by definition is someone who eats live animals....I`ve never eaten live animals. - Crispin Glover': 0.34657359027997264, 'What is a wedding? Webster`s dictionary defines a wedding as `the process of removing weeds from one`s garden.` - Homer Simpson': 0.6931471805599453, 'On account of being a democracy and run by the people, we are the only nation in the world that has to keep a government four years, no matter what it does. - Will Rogers': 0.46209812037329684, 'A radical is a man with both feet firmly planted in the air. - Franklin D. Roosevelt': 3.0433873634561537, 'A man is never more truthful than when he acknowledges himself a liar. - Mark Twain': 0.6931471805599453, 'Government is not reason; it is not eloquent; it is force. Like fire, it is a dangerous servant and a fearful master. - George Washington': 0.34657359027997264, 'He wrapped himself in quotations--as a beggar would enfold himself in the purple of Emperors. - Rudyard Kipling': 0.34657359027997264, 'There are people who put their dreams in a little box and say, Yes, I`ve got dreams, of course I`ve got dreams. Then they put the box away and bring it out once in awhile to look in it, and yep, they`re still there. - Erna Bombeck': 0.23104906018664842, 'A journey of a thousand miles begins with a single step. - Confucius': 0.6931471805599453, 'To me, clowns aren`t funny. In fact, they`re kinda scary. I`ve wondered where this started, and I think it goes back to the time I went to the circus and a clown killed my dad. - Jack Handey': 0.23104906018664842, 'Fatherhood is pretending the present you love most is soap on-a-rope. - Bill Cosby': 0.34657359027997264, 'In the beginning, the universe was created. This made a lot of people very angry, and has been widely regarded as a bad idea. - Douglas Adams': 0.6931471805599453, 'When we`re unemployed, we`re called lazy; when the whites are unemployed it`s called a depression. - Jesse Jackson': 0.34657359027997264, 'He that would make his own liberty secure, must guard even his enemy from opposition; for if he violates this duty he establishes a precedent that will reach himself. - Thomas Paine': 0.23104906018664842, 'The surest way of spoiling a pleasure is to start examining your satisfaction. - C.S. Lewis': 0.6931471805599453, 'When nothing seems to help, I go and look at a stonecutter hammering away at his rock perhaps a hundred times without as much as a crack showing in it. Yet at the hundred and first blow it will split in two, and I know it was not that blow that did it, but all that had gone before. - Jacob August Riis': 0.5198603854199589, 'Errors of haste are seldom committed singly. The first time a man always does too much. And precisely on that account he commits a second error, and then he does too little. - Friedrich Nietzsche': 0.6931471805599453, 'Life is not a support system for art. It`s the other way around. - Stephen King': 0.6931471805599453, 'A single death is a tragedy; a million deaths is a statistic. - Joseph Stalin': 0.6931471805599453, 'A mind that is stretched by a new experience can never go back to its old dimensions. - Oliver Wendell Holmes': 0.6931471805599453, 'Being a leader is like being a lady, if you have to go around telling people you are one, you aren`t. - Margaret Thatcher': 0.46209812037329684, 'Science is facts; just as houses are made of stones, so is science made of facts; but a pile of stones is not a house and a collection of facts is not necessarily science. - Henri Poincare': 0.5198603854199589, 'A man can`t be too careful in the choice of his enemies. - Oscar Wilde': 0.6931471805599453, 'One swallow does not make a summer. - Aristotle': 0.6931471805599453, 'The nice thing about being a celebrity is that, if you bore people, they think it`s their fault. - Henry Kissinger': 0.6931471805599453, 'What I don`t like about office Christmas parties is looking for a job the next day. - Phyllis Diller': 0.6931471805599453, 'I`m a middle age white guy, which means I`m constantly reminded that my particular group is responsible for the oppression of every known minority PLUS most wars PLUS government corruption PLUS pollution of the environment, not to mention that it was middle-age white guys who killed Bambi`s mom. - Dave Barry': 0.23104906018664842, 'If we do not help a man in trouble, it is as if we caused the trouble. - Nachman of Bratslav': 0.34657359027997264, 'The health of a democratic society may be measured by the quality of functions performed by private citizens. - Alexis de Tocqueville': 0.34657359027997264, 'The fool doth think he is wise, but the wise man knows himself to be a fool. - William Shakespeare': 0.34657359027997264, 'Remember that happiness is a way of travel, not a destination. - Roy Goodman': 0.6931471805599453, 'Money never made a man happy yet, nor will it. There is nothing in its nature to produce happiness. The more a man has, the more he wants. Instead of its filling a vacuum, it makes one. If it satisfies one want, it doubles and trebles that want another way. That was a true proverb of the wise man, rely upon it; ``Better is little with the fear of the Lord, than great treasure, and trouble therewith. - Benjamin Franklin': 0.5545177444479562, 'I think a good gift for the president would be a chocolate revolver. And since he`s so busy, you`d probably have to run up to him and hand it to him. - Jack Handey': 2.028924908970769, 'The direction in which education starts a man will determine his future life. - Plato': 0.6931471805599453, 'Nothing separates the generations more than music. By the time a child is eight or nine, he has developed a passion for his own music that is even stronger than his passions for procrastination and weird clothes. - Bill Cosby': 0.6931471805599453, 'Those who are preoccupied with `making a statement` usually don`t have any statements worth making. - Thomas Sowell': 0.34657359027997264, 'Duties are not performed for duty`s sake, but because their neglect would make the man uncomfortable. A man performs but one duty - the duty of contenting his spirit, the duty of making himself agreeable to himself. - Mark Twain': 0.17328679513998632, 'Opera is when a guy gets stabbed in the back and, instead of bleeding, he sings. - Ed Gardner': 0.6931471805599453, 'Some succeed by what they know; some by what they do; and a few by what they are. - Elbert Hubbard': 0.23104906018664842, 'Success does not consist in never making mistakes but in never making the same one a second time. - George Bernard Shaw': 0.34657359027997264, 'Two roads diverged in a wood, and I...I took the one less traveled by, and that has made all the difference. - Robert Frost': 0.34657359027997264, 'When angry, count ten before you speak; if very angry, a hundred. - Thomas Jefferson': 0.34657359027997264, 'The mind of the thoroughly well-informed man is a dreadful thing. It is like a bric-\\xe0-brac shop, all monsters and dust, with everything priced above its proper value. - Oscar Wilde': 0.6931471805599453, 'Goldie and I did have a car stolen right out of our yard. It took us three days to notice. - Kurt Russell': 0.6931471805599453, 'A leader is a man who can adapt principles to circumstances. - George Patton': 0.6931471805599453, 'Imagination is a quality given a man to compensate him for what he is not, and a sense of humor was provided to console him for what he is. - Oscar Wilde': 0.6931471805599453, 'It is a scientific fact that your body will not absorb cholesterol if you take it from another person`s plate. - Dave Barry': 0.34657359027997264, 'She was what we used to call a suicide blond - dyed by her own hand. - Saul Bellow': 0.6931471805599453, 'Forgiveness is not an occasional act: it is a permanent attitude. - Martin Luther King Jr.': 0.34657359027997264, 'Happiness is so hard to define and foolish to define. Am I acting? That`s the worst thing you can ask yourself. You can be happy suddenly. It can spring on you, not when you reach a plateau. You can be happy going backward or going down. You can be happy at the loss of something. - Steve Martin': 0.11552453009332421, 'There are some who`ve forgotten why we have a military. It`s not to promote war; it`s to be prepared for peace. - Ronald Reagan': 0.34657359027997264, 'You can discover more about a person in an hour of play than in a year of conversation. - Plato': 0.6931471805599453, 'It is a good idea to ``shop around`` before you settle on a doctor. Ask about the condition of his Mercedes. Ask about the competence of his mechanic. Don`t be shy! After all, you`re paying for it. - Dave Barry': 0.6931471805599453, 'As a woman, I find it very embarrassing to be in a meeting and realize I`m the only one in the room with balls. - Rita Mae Brown': 0.6931471805599453, 'The only way to keep your health is to eat what you don`t want, drink what you don`t like, and do what you`d rather not. - Mark Twain': 1.566826788597472, 'Even if there is only one possible unified theory, it is just a set of rules and equations. What is it that breathes fire into the equations and makes a universe for them to describe? - Stephen Hawking': 0.46209812037329684, 'My dream is of a place and a time where America will once again be seen as the last best hope of earth. - Abraham Lincoln': 0.6931471805599453, 'An oppressive government is more to be feared than a tiger. - Confucius': 0.6931471805599453, 'Man [has] always assumed that he was more intelligent than dolphins because he had achieved so much-the wheel, New York, wars and so on-while all the dolphins had ever done was muck about in the water having a good time. But conversely, the dolphins had always believed that they were far more intelligent than man-for precisely the same reason. - Douglas Adams': 0.13862943611198905, 'For each illness that doctors cure with medicine, they provoke ten in healthy people by inoculating them with the virus that is a thousand times more powerful than any microbe: the idea that one is ill. - Marcel Proust': 0.23104906018664842, 'We need not just a new generation of leadership but a new gender of leadership. - Bill Clinton': 0.6931471805599453, 'When you work seven days a week, fourteen hours a day, you get lucky. - Armand Hammer': 0.6931471805599453, 'Without question, the greatest invention in the history of mankind is beer. Oh, I grant you that the wheel was also a fine invention, but the wheel does not go nearly as well with pizza. - Dave Barry': 0.17328679513998632, 'I have never started a poem yet whose end I knew. Writing a poem is discovering. - Robert Frost': 0.6931471805599453, 'I didn`t attend the funeral, but I sent a nice letter saying I approved of it. - Mark Twain': 0.23104906018664842, 'There is only one rule for being a good talker - learn to listen. - Christopher Morley': 0.6931471805599453, 'An actor is at most a poet and at least an entertainer. - Marlon Brando': 0.34657359027997264, 'We all wish to be judged by our peers, by the men `after our own heart.` Only they really know our mind and only they judge it by standards we fully acknowledge. Theirs is the praise we really covet and the blame we really dread. The little pockets of early Chrstians survived because they cared exclusively for the love of `the bretheren` and stopped their ears to the opinion of the Pagan society around them. But a circle of criminals, cranks, or perverts survives in just the same way; by becoming deaf to the opinion of the outer world, by discounting it as the chatter of outsiders who `don`t understand,` of the `conventional,` the `bourgeois,` the `Establishment,` of prigs, prudes, and humbugs. - C.S. Lewis': 0.046209812037329684, 'If tyranny and oppression come to this land, it will be in the guise of fighting a foreign enemy. - James Madison': 0.6931471805599453, 'No sooner do we depart from sense and instinct to follow reason but we are insensibly drawn into uncouth paradoxes, difficulties, and inconsistencies, which multiply and grow upon us as we advance in speculation; till at length, having wandered through many intricate mazes, we find ourselves just where we were, or, which is worse, sit down in a forlorn scepticism. - George Berkeley': 0.13862943611198905, 'To be pleased with one`s limits is a wretched state. - Johann Wolfgang von Goethe': 0.6931471805599453, 'Moral indignation is jealousy with a halo. - H.G. Wells': 6.380122536899766, 'If you are resolutely determined to make a lawyer of yourself, the thing is more than half done already. - Abraham Lincoln': 0.6931471805599453, 'Having someone wonder where you are when you don`t come home at night is a very old human need. - Margaret Mead': 0.34657359027997264, 'Don`t ever take a fence down until you know why it was put up. - Robert Frost': 0.6931471805599453, 'Bashfulness is an ornament to youth, but a reproach to old age. - Aristotle': 0.34657359027997264, 'To write a good love letter, you ought to begin without knowing what you mean to say and to finish without knowing what you have written. - Jean-Jacques Rousseau': 0.17328679513998632, 'The intellect is not a serious thing, and never has been. It is an instrument on which one plays, that is all. - Oscar Wilde': 0.23104906018664842, 'The good thing about being bisexual is that it doubles your chance of a date on a Saturday night. - Woody Allen': 0.6931471805599453, 'No man but a blockhead ever wrote, except for money. - Samuel Johnson': 0.6931471805599453, 'Experience is that marvelous thing that enables you to recognize a mistake when you make it again. - Franklin Jones': 0.34657359027997264, 'Question with boldness even the existence of a God; because, if there be one, he must more approve of the homage of reason, than that of blind-folded fear. - Thomas Jefferson': 0.17328679513998632, 'In framing a government which is to be administered by men over men the great difficulty lies in this: You must first enable the government to control the governed, and in the next place, oblige it to control itself. - Alexander Hamilton': 0.17328679513998632, 'Man`s best possession is a sympathetic wife. - Euripides': 0.6931471805599453, 'Sex at age ninety is like trying to shoot pool with a rope. - George Burns': 0.6931471805599453, 'Being president is like being a jackass in a hailstorm. There`s nothing to do but stand there and take it. - Lyndon B. Johnson': 0.6931471805599453, 'There is a theory which states that if ever anyone discovers exactly what the Universe is for and why it is here, it will instantly disappear and be replaced by something even more bizarre and inexplicable. There is another theory which states that this has already happened. - Douglas Adams': 0.17328679513998632, 'I planted some bird seed. A bird came up. Now I don`t know what to feed it. - Steven Wright': 0.34657359027997264, 'Even peace may be purchased at too high a price. - Benjamin Franklin': 0.6931471805599453, 'It is always thus, impelled by a state of mind which is destined not to last, that we make our irrevocable decisions. - Marcel Proust': 0.34657359027997264, 'Advice to young writers who want to get ahead without annoying delays: don\\x92t write about Man, write about `a` man. - E.B. White': 3.190061268449883, 'A mathematician is a blind man in a dark room looking for a black cat which isn`t there. - Charles Robert': 0.6931471805599453, 'You give me a credit to which I have no claim in calling me `the writer of the Constitution of the United States.` This was not, like the fabled Goddess of Wisdom, the offspring of a single brain. It ought to be regarded as the work of many heads and many hands. - James Madison': 0.23104906018664842, 'The last thing one discovers in composing a work is what to put first. - Blaise Pascal': 0.6931471805599453, 'A powerful idea communicates some of its strength to him who challenges it. - Marcel Proust': 0.6931471805599453, 'Don`t marry a man to reform him - that`s what reform schools are for. - Mae West': 0.34657359027997264, 'The aging process has you firmly in its grasp if you never get the urge to throw a snowball. - Doug Larson': 0.34657359027997264, 'There is hope for the future because God has a sense of humor and we are funny to God. - Bill Cosby': 0.34657359027997264, 'Everyone is in awe of the lion tamer in a cage with half a dozen lions -- everyone but a school bus driver. - Laurence Peter': 0.6931471805599453, 'I arrive at the end of this review having done my duty as a critic. I have described the movie accurately and you have a good idea what you are in for if you go to see it. Most of you will not. I cannot argue with you. Some of you will--the brave and the curious. You embody the spirit of the man who first wondered what it would taste like to eat an oyster. - Roger Ebert': 0.19804205158855578, 'I feel impelled to speak today in a language that in a sense is new-one which I, who have spent so much of my life in the military profession, would have preferred never to use. That new language is the language of atomic warfare. - Dwight Eisenhower': 0.46209812037329684, 'We know life is futile. A man who considers that his life is of very wonderful importance is awfully close to a padded cell. - Clarence Darrow': 0.46209812037329684, 'Life is a fatal complaint, and an eminently contagious one. - Oliver Wendell Holmes': 0.6931471805599453, 'I hope that when you are my age, you will be able to say as I have been able to say: We lived in freedom. We lived lives that were a statement, not an apology. - Ronald Reagan': 0.34657359027997264, 'Patriotism is not short, frenzied outbursts of emotion, but the tranquil and steady dedication of a lifetime. - Adlai Stevenson': 0.34657359027997264, 'Sex without love is a meaningless experience, but as far as meaningless experiences go, it`s pretty damn good. - Woody Allen': 0.34657359027997264, 'Why, you can take the most gallant sailor, the most intrepid airman or the most audacious soldier, put them at a table together - what do you get? The sum of their fears. - Winston Churchill': 0.17328679513998632, 'A star on a movie set is like a time bomb. That bomb has got to be defused so people can approach it without fear. - Jack Nicholson': 0.6931471805599453, 'Friendship is a single soul dwelling in two bodies. - Aristotle': 0.6931471805599453, 'Government is not a solution to our problem, government is the problem. - Ronald Reagan': 0.34657359027997264, 'A free society is one where it is safe to be unpopular. - Adlai Stevenson': 0.34657359027997264, 'What is the most important for democracy is not that great fortunes should not exist, but that great fortunes should not remain in the same hands. In that way there are rich men, but they do not form a class. - Alexis de Tocqueville': 0.17328679513998632, 'It is better to keep your mouth closed and let people think you are a fool than to open it and remove all doubt. - Mark Twain': 0.34657359027997264, 'To be a philosopher is not merely to have subtle thoughts; but so to love wisdom as to live according to its dictates. - Henry Thoreau': 0.13862943611198905, 'The practice of art isn`t to make a living. It`s to make your soul grow. - Kurt Vonnegut': 0.34657359027997264, 'Christmas is a time when you get homesick, even when you`re home. - Carol Nelson': 0.34657359027997264, 'To find out a girl`s faults, praise her to her girl friends. - Benjamin Franklin': 0.34657359027997264, 'I could not handle being a woman, I would stay home all day and play with my breasts. - Steve Martin': 0.34657359027997264, 'Nothing is wrong with Southern California that a rise in the ocean level wouldn`t cure. - Kenneth Millar': 0.6931471805599453, 'He therefore is the truest friend to the liberty of this country who tries most to promote its virtue, and who, so far as his power and influence extend, will not suffer a man to be chosen into any office of power and trust who is not a wise and virtuous man. - Samuel Adams': 0.34657359027997264, 'People have a way of becoming what you encourage them to be, not what you nag them to be. - Author Unknown': 0.34657359027997264, 'There are painters who transform the sun to a yellow spot, but there are others who with the help of their art and their intelligence, transform a yellow spot into the sun. - Pablo Picasso': 0.46209812037329684, 'I am a strong believer in luck and I find the harder I work the more I have of it. - Benjamin Franklin': 0.17328679513998632, 'Everything that used to be a sin is now a disease. - Bill Maher': 0.6931471805599453, 'I believe one of the reasons so many do not get a higher education is the fear of their parents that they will lose more morally than they will receive mentally. - William Jennings Bryan': 0.34657359027997264, 'I am a writer of books in retrospect. I talk in order to understand; I teach in order to learn. - Robert Frost': 0.23104906018664842, 'This will never be a civilized country until we expend more money for books than we do for chewing gum. - Elbert Hubbard': 0.34657359027997264, 'Humility is no substitute for a good personality. - Fran Lebowitz': 0.6931471805599453, 'Against criticism a man can neither protest nor defend himself; he must act in spite of it, and then it will gradually yield to him. - Johann Wolfgang von Goethe': 0.34657359027997264, 'Life is no brief candle to me. It is a sort of splendid torch which I have got a hold of for the moment, and I want to make it burn as brightly as possible before handing it onto future generations. - George Bernard Shaw': 0.46209812037329684, 'Some of your countrymen were unable to distinguish between their native dislike for war and the stainless patriotism of those who suffered its scars. But there has been a rethinking and now we can say to you, and say as a nation, thank you for your courage. - Ronald Reagan': 0.46209812037329684, 'Never judge a philosophy by its abuse. - Saint Augustine': 0.6931471805599453, 'A Native American elder once described his own inner struggles in this manner: Inside of me there are two dogs. One of the dogs is mean and evil. The other dog is good. The mean dog fights the good dog all the time. When asked which dog wins, he reflected. - George Bernard Shaw': 0.13862943611198905, 'It must be remembered that there is nothing more difficult to plan, more doubtful of success nor more dangerous to manage than the creation of a new system. For the initiator has the enmity of all who profit by the preservation of the old institution and merely lukewarm defenders in those who would gain by the new one. - Nicolo Machiavelli': 0.11552453009332421, 'Anger is never without an argument, but seldom with a good one. - George Savile': 0.6931471805599453, 'No man will make a great leader who wants to do it all himself or get all the credit for doing it. - Andrew Carnegie': 0.34657359027997264, 'Anyone who has never made a mistake has never tried anything new. - Albert Einstein': 0.34657359027997264, 'We are all worms, but I do believe I am a glow-worm. - Winston Churchill': 0.34657359027997264, 'A grandmother pretends she doesn`t know who you are on Halloween. - Erna Bombeck': 0.6931471805599453, 'It takes a long time to turn a big country around. - Bill Clinton': 0.6931471805599453, 'Beauty is ever to the lonely mind a shadow fleeting; she is never plain. She is a visitor who leaves behind the gift of grief, the souvenir of pain. - Christopher Morley': 0.46209812037329684, 'It has been said that man is a rational animal. All my life I have been searching for evidence which could support this. - Bertrand Russell': 0.34657359027997264, 'A people that values its privileges above its principles soon loses both. - Dwight Eisenhower': 0.34657359027997264, 'Washington is a Hollywood for ugly people. Hollywood is a Washington for the simpleminded. - John McCain': 0.6931471805599453, 'Love is a fruit in season at all times, and within reach of every hand. - Mother Teresa': 0.6931471805599453, 'You know, there`s a million fine looking women in the world, dude. But they don`t all bring you lasagna at work. Most of `em just cheat on you. - Kevin Smith': 0.23104906018664842, 'Plato was a bore. - Friedrich Nietzsche': 0.6931471805599453, 'It is a grand mistake to think of being great without goodness and I pronounce it as certain that there was never a truly great man that was not at the same time truly virtuous. - Benjamin Franklin': 0.6931471805599453, 'The Nation which indulges toward another an habitual hatred or an habitual fondness is in some degree a slave. It is a slave to its animosity or to its affection, either of which is sufficient to lead it astray from its duty and its interest. - George Washington': 0.34657359027997264, 'There is hardly a political question in the United States which does not sooner or later turn into a judicial one. - Alexis de Tocqueville': 0.6931471805599453, 'A man`s very highest moment is, I have no doubt at all, when he kneels in the dust, and beats his breast, and tells all the sins of his life. - Oscar Wilde': 0.34657359027997264, 'Freedom is nothing else but a chance to be better. - Albert Camus': 0.6931471805599453, 'I`d rather hear an old truth than a new lie. - Chris Bowyer': 5.393627546352362, 'We know too much, and are convinced of too little. Our literature is a substitute for religion, and so is our religion. - T.S. Eliot': 0.34657359027997264, 'In any fairly large and talkative community such as a university there is always the danger that those who think alike should gravitate together where they will henceforth encounter opposition only in the emasculated form of rumour that the outsiders say thus and thus. The absent are easily refuted, complacent dogmatism thrives, and differences of opinion are embittered by the group hostility. Each group hears not the best, but the worst, that the other group can say. - C.S. Lewis': 0.08664339756999316, 'The illegal we do immediately. The unconstitutional takes a little longer. - Henry Kissinger': 0.34657359027997264, 'Ah, yes, divorce...from the Latin word meaning to rip out a man`s genitals through his wallet. - Robin Williams': 0.6931471805599453, 'This does not mean that the enemy is to be allowed to escape. The object is to make him believe that there is a road to safety, and thus prevent his fighting with the courage of despair. After that, you may crush him. - Sun Tzu': 0.17328679513998632, 'It is better to be bold than too circumspect, because fortune is of a sex which likes not a tardy wooer and repulses all who are not ardent. - Nicolo Machiavelli': 0.6931471805599453, 'Without music, life would be a mistake. - Friedrich Nietzsche': 0.6931471805599453, 'Reason is experimental intelligence, conceived after the pattern of science, and used in the creation of social arts; it has something to do. It liberates man from the bondage of the past, due to ignorance and accident hardened into custom. It projects a better future and assists man in its realization. - John Dewey': 0.17328679513998632, 'Sin has many tools, but a lie is the handle which fits them all. - Edmund Burke': 0.6931471805599453, 'We are living in a world, where what we earn is a function of what we learn. - Bill Clinton': 0.46209812037329684, 'The last thing a political party gives up is its vocabulary. - Alexis de Tocqueville': 0.6931471805599453, 'The surface of American society is covered with a layer of democratic paint, but from time to time one can see the old aristocratic colours breaking through. - Alexis de Tocqueville': 0.34657359027997264, '\\x93Take a chance! All life is a chance. The man who goes farthest is generally the one who is willing to do and dare. - Dale Carnegie': 0.46209812037329684, 'If the primary aim of a captain were to preserve his ship, he would keep it in port forever. - Thomas Aquinas': 0.6931471805599453, 'If you`re in a boxing match, try not to let the other guy`s glove touch your lips, because you don`t know where that glove has been. - Jack Handey': 0.34657359027997264, 'PRESIDENCY, n. The greased pig in the field game of American politics. - Ambrose Bierce': 3.046784885022568, 'Every gun that is made, every warship launched, every rocket fired, signifies in the final sense a theft from those who hunger and are not fed, those who are cold and are not clothed. - Dwight Eisenhower': 0.23104906018664842, 'There are three rules for writing a novel. Unfortunately, no one knows what they are. - W. Somerset Maugham': 0.34657359027997264, 'To you taxpayers out there, let me say this: Make sure you file your tax return on time! And remember that, even though income taxes can be a \\x93pain in the neck,\\x94 the folks at the IRS are regular people just like you, except that they can destroy your life. - Dave Barry': 0.23104906018664842, 'You are never too old to set another goal or to dream a new dream. - C.S. Lewis': 0.34657359027997264, 'You are young, my son, and, as the years go by, time will change and even reverse many of your present opinions. Refrain therefore awhile from setting yourself up as a judge of the highest matters. - Plato': 0.34657359027997264, 'Before reciting his prayers, a man should give to charity. - Nachman of Bratslav': 0.6931471805599453, 'It takes a lot of courage to show your dreams to someone else. - Erna Bombeck': 0.34657359027997264, 'A typical vice of American politics is the avoidance of saying anything real on real issues. - Theodore Roosevelt': 0.34657359027997264, 'The object of teaching a child is to enable him to get along without a teacher. - Elbert Hubbard': 0.6931471805599453, 'In all chaos there is a cosmos, in all disorder a secret order. - Carl Jung': 0.6931471805599453, 'You find out more about God from the Moral Law than from the univerise in general just as you find out more about a man by listening to his conversation than by looking at a house he has built. - C.S. Lewis': 0.6931471805599453, 'The greatness of our country has been based on our thinking that everyone has a right even to be wrong. - Ronald Reagan': 0.34657359027997264, 'For a time, at least, I was the most famous person in the entire world. - Jesse Owens': 0.34657359027997264, 'They that can give up essential liberty to obtain a little temporary safety deserve neither liberty nor safety. - Benjamin Franklin': 0.34657359027997264, 'Washington is a city of Southern efficiency and Northern charm. - John F. Kennedy': 0.6931471805599453, 'Few people think more than two or three times a year. I have made an international reputation for myself by thinking once or twice a week. - George Bernard Shaw': 0.6931471805599453, 'Everybody can be great... because anybody can serve. You don`t have to have a college degree to serve. You don`t have to make your subject and verb agree to serve. You only need a heart full of grace. A soul generated by love. - Martin Luther King Jr.': 0.5198603854199589, 'I think the best possible social program is a job. - Ronald Reagan': 0.6931471805599453, 'I`ve had a wonderful time, but this wasn`t it. - Groucho Marx': 0.6931471805599453, 'A man who desires to get married should know either everything or nothing. - Oscar Wilde': 0.6931471805599453, 'A few hours of mountain climbing turn a villain and a saint into two rather equal creature. Exhaustion is the shortest way to equality and fraternity, and liberty is added eventually by sleep. - Friedrich Nietzsche': 0.6931471805599453, 'The truth is always a trick to those who live among lies. - Author Unknown': 0.6931471805599453, 'Love is the delightful interval between meeting a beautiful girl and discovering that she looks like a haddock. - John Barrymore': 0.6931471805599453, 'Analyzing humor is like dissecting a frog. Few people are interested and the frog dies of it. - E.B. White': 3.190061268449883, 'The puritanism of Christianity has played havoc with the moderation that an enlightened and tolerant critical spirit would have produced. I`ve noticed that in whatever country, county, town, or other region there is a regulation enjoining temperance, the population seems to be entirely composed of teetotallers and drunkards. There`s a Bible on that shelf there. But I keep it next to Voltaire - poison and antidote. - Bertrand Russell': 0.46209812037329684, 'To assert that the earth revolves around the sun is as erroneous as to claim that Jesus was not born of a virgin. - Cardinal Bellarmine': 0.34657359027997264, 'Every difference of opinion is not a difference of principle. We have called by different names brethren of the same principle. - Thomas Jefferson': 0.23104906018664842, 'Time is a great teacher, but unfortunately it kills all its pupils. - Louis Hector Berlioz': 0.6931471805599453, 'Is there anything more beautiful than a beautiful, beautiful flamingo, flying across in front of a beautiful sunset? And he`s carrying a beautiful rose in his beak, and also he`s carrying a very beautiful painting with his feet. And also, you`re drunk. - Jack Handey': 0.46209812037329684, 'An optimist is a person who starts a new diet on Thanksgiving Day. - Irv Kupcinet': 0.6931471805599453, 'In politics, an organized minority is a political majority. - Jesse Jackson': 0.6931471805599453, 'America did not invent human rights. In a very real sense...human rights invented America. - Jimmy Carter': 0.34657359027997264, 'What a man`s mind can create, man`s character can control. - Thomas Edison': 0.34657359027997264, 'If a man is proud of his wealth, he should not be praised until it is known how he employs it. - Socrates': 0.34657359027997264, 'I have gathered a posie of other men\\x92s flowers, and nothing but the thread that binds them is mine own. - John Bartlett': 0.6931471805599453, 'A government which robs Peter to pay Paul can always depend on the support of Paul. - George Bernard Shaw': 0.34657359027997264, 'It still remains true that no justification of virtue will enable a man to be virtuous. - C.S. Lewis': 0.6931471805599453, 'A great deal of intelligence can be invested in ignorance when the need for illusion is deep. - Saul Bellow': 0.6931471805599453, 'There are perhaps no days of our childhood we lived so fully as those we spent with a favorite book. - Marcel Proust': 0.34657359027997264, 'And what\\x92s romance? Usually, a nice little tale where you have everything As You Like It, where rain never wets your jacket and gnats never bite your nose and it\\x92s always daisy-time. - D.H. Lawrence': 3.6935343008973938, 'God does not give heed to the ambitiousness of our prayers, because he is always ready to give to us his light, not a visible light but an intellectual and spiritual one; but we are not always ready to receive it when we turn aside and down to other things out of a desire for temporal things. - Saint Augustine': 0.2772588722239781, 'If a man is called to be a streetsweeper, he should sweep streets even as Michelangelo painted, or Beethoven composed music, or Shakespeare wrote poetry. He should sweep streets so well that all the host of heaven and earth will pause to say, here lived a great streetsweeper who did his job well. - Martin Luther King Jr.': 0.6931471805599453, 'In every man`s heart there is a secret nerve that answers to the vibrations of beauty. - Christopher Morley': 0.6931471805599453, 'When we got into office, the thing that surprised me the most was that things were as bad as we`d been saying they were. - John F. Kennedy': 2.3502401828962083, 'I think, at a child`s birth, if a mother could ask a fairy godmother to endow it with the most useful gift, that gift should be curiosity. - Eleanor Roosevelt': 0.6931471805599453, 'We are what we repeatedly do. Excellence, therefore, is not an act, but a habit. - Aristotle': 0.34657359027997264, 'Fame is a fickle food upon a shifting plate. - Emily Dickinson': 0.6931471805599453, 'Don`t knock the weather; nine-tenths of the people couldn`t start a conversation if it didn`t change once in a while. - Kin Hubbard': 0.46209812037329684, 'Show me your hands. Do they have scars from giving? Show me your feet. Are they wounded in service? Show me your heart. Have you left a place for divine love? - Fulton J. Sheen': 0.23104906018664842, 'Wedding: a ceremony at which two persons undertake to become one, one undertakes to become nothing, and nothing undertakes to become supportable. - Ambrose Bierce': 0.23104906018664842, 'The whole life of an American is passed like a game of chance, a revolutionary crisis, or a battle. - Alexis de Tocqueville': 0.6931471805599453, 'God help the man who won`t marry until he finds a perfect woman, and God help him still more if he finds her. - Benjamin Tillet': 0.34657359027997264, 'Painting is just another way of keeping a diary. - Pablo Picasso': 0.6931471805599453, 'One of the great attractions of patriotism -- it fulfills our worst wishes. In the person of our nation we are able, vicariously, to bully and cheat. Bully and cheat, what`s more, with a feeling that we are profoundly virtuous. - Aldous Huxley': 0.23104906018664842, 'Cooking was invented in prehistoric times, when a primitive tribe had a lucky accident. The tribe had killed an animal and was going to eat it raw, when a tribe member named Woog tripped and dropped it into the fire. At first the other tribe members were angry at Woog, but then, as the aroma of burning meat filled the air, they had an idea. So they ate Woog raw. - Dave Barry': 0.4158883083359672, 'One of the striking differences between a cat and a lie is that a cat has only nine lives. - Mark Twain': 0.6931471805599453, 'From kindergarten to graduation, I went to public schools, and I know that they are a key to being sure that every child has a chance to succeed and to rise in the world. - Dick Cheney': 0.2772588722239781, 'Never continue in a job you don`t enjoy. If you`re happy in what you`re doing, you`ll like yourself, you`ll have inner peace. And if you have that, along with physical health, you will have had more success than you could possibly have imagined. - Johnny Carson': 0.08664339756999316, 'I always cheer up immensely if an attack is particularly wounding because I think, well, if they attack one personally, it means they have not a single political argument left. - Margaret Thatcher': 0.34657359027997264, 'To explain the unknown by the known is a logical procedure; to explain the known by the unknown is a form of theological lunacy. - David Brooks': 0.34657359027997264, 'I honestly think it is better to be a failure at something you love than to be a success at something you hate. - George Burns': 0.6931471805599453, 'PRESIDENT, n. The leading figure in a small group of men of whom \\x97 and of whom only \\x97 it is positively known that immense numbers of their countrymen did not want any of them for President. - Ambrose Bierce': 1.3573433901210163, 'To defend Western Europe we have to let the Pentagon buy all these tanks and guns and things, and the Pentagon is unable to buy any object that that costs less than a condominium in Vail. If the Pentagon needs, say, fruit, it will argue that it must have fruit that can withstand the rigors of combat conditions, and it will wind up purchasing the FX-700 Seedless Tactical Grape, which will cost $160,000 per bunch, and will have an 83 percent failure rate. - Dave Barry': 0.13862943611198905, 'There is a great deal of difference between an eager man who wants to read a book and the tired man who wants a book to read. - GK Chesterton': 0.6931471805599453, 'It is the madness of folly, to expect mercy from those who have refused to do justice; and even mercy, where conquest is the object, is only a trick of war; the cunning of the fox is as murderous as the violence of the wolf. - Thomas Paine': 0.11552453009332421, 'Returning violence for violence multiplies violence, adding deeper darkness to a night already devoid of stars. - Martin Luther King Jr.': 0.23104906018664842, 'Like many intellectuals, he was incapable of saying a simple thing in a simple way. - Marcel Proust': 0.6931471805599453, 'Show me a thoroughly satisfied man and I will show you a failure. - Thomas Edison': 0.6931471805599453, 'It does not require a majority to prevail, but rather an irate, tireless minority keen to set brush fires in people`s minds. - Samuel Adams': 0.34657359027997264, 'Hanging is too good for a man who makes puns -- he should be drawn and quoted. - Fred Allen': 0.6931471805599453, 'A truly great book should be read in youth, again in maturity and once more in old age, as a fine building should be seen by morning light, at noon and by moonlight. - Robertson Davies': 0.46209812037329684, 'Karate is a form of marital arts in which people who have had years and years of training can, using only their hands and feet, make some of the worst movies in the history of the world. - Dave Barry': 0.17328679513998632, 'If your kid makes one of those little homemade guitars out of a cigar box and rubber bands, don`t let him just play it once or twice and then throw it away. Make him practice on it, every day, for about three hours a day. Later, he`ll thank you. - Jack Handey': 0.46209812037329684, 'A nickel isn`t worth a dime today. - Yogi Berra': 0.6931471805599453, 'If you could kick the person in the pants responsible for most of your trouble, you wouldn`t sit for a month. - Theodore Roosevelt': 0.34657359027997264, 'A word is dead when it is said, some say. I say it just begins to live that day. - Emily Dickinson': 0.34657359027997264, 'There is one thing alone that stands the brunt of life throughout its course: a quiet conscience. - Euripides': 0.6931471805599453, 'God enters by a private door into every individual. - Ralph Waldo Emerson': 0.6931471805599453, 'Reason and judgment are the qualities of a leader. - Tacitus': 0.6931471805599453, 'America is the only country ever founded on a creed. - GK Chesterton': 0.6931471805599453, 'Not only is there no God, but try finding a plumber on Sunday. - Woody Allen': 0.6931471805599453, 'I`m the type who`d be happy not going anywhere as long as I was sure I knew exactly what was happening at the places I wasn`t going to. I`m the type who`d like to sit home and watch every party that I`m invited to on a monitor in my bedroom. - Andy Warhol': 1.6823513186907963, 'When I see a play and understand it the first time, then I know it can`t be much good. - T.S. Eliot': 0.34657359027997264, 'You don`t take a photograph, you make it. - Ansel Adams': 0.34657359027997264, 'You can`t build a reputation on what you are going to do. - Henry Ford': 0.34657359027997264, 'Any reviewer who expresses rage and loathing for a novel is preposterous. He or she is like a person who has put on full armor and attacked a hot fudge sundae. - Kurt Vonnegut': 0.6931471805599453, 'The United States stands at the pinnacle of world power. This is a solemn moment for the American democracy. For with primacy in power is joined an awe-inspiring accountability for the future. - Winston Churchill': 0.17328679513998632, 'I once said cynically of a politician, `He`ll doublecross that bridge when he comes to it.` - Oscar Levant': 0.34657359027997264, 'The days of looking the other way while despotic regimes trample human rights, rob their nations` wealth, and then excuse their failings by feeding their people a steady diet of anti-Western hatred are over. - Dick Cheney': 0.23104906018664842, 'A University of Chicago professor said the greatest day in the world was when a water puppy crawled out on land and decided to stay. The water puppy, he said, went on to become a man. If he proves that, I am willing to give up Christmas, Thanksgiving, and New Year`s Day, and to celebrate Water Puppy Day. - William Jennings Bryan': 0.5198603854199589, 'We seem to be going through a period of nostalgia, and everyone seems to think yesterday was better than today. I don`t think it was, and I would advise you not to wait ten years before admitting today was great. If you`re hung up on nostalgia, pretend today is yesterday and just go out and have one hell of a time. - Art Buchwald': 0.34657359027997264, 'A good novel tells us the truth about its hero; but a bad novel tells us the truth about its author. - GK Chesterton': 0.6931471805599453, 'Through pride we are ever deceiving ourselves. But deep down below the surface of the average conscience a still, small voice says to us, something is out of tune. - Carl Jung': 0.34657359027997264, 'Journalism is literature in a hurry. - Matthew Arnold': 0.6931471805599453, 'I`m not normally a religious man, but if you`re up there, save me, Superman! - Homer Simpson': 0.6931471805599453, 'My role in society, or any artist`s or poet`s role, is to try and express what we all feel. Not to tell people how to feel. Not as a preacher, not as a leader, but as a reflection of us all. - John Lennon': 0.6931471805599453, 'There is luxury in self-reproach. When we blame ourselves, we feel no one else has a right to blame us. - Oscar Wilde': 0.34657359027997264, 'I cried because I had no shoes, `till I met a man who had no feet. So I said, `You got any shoes you`re not using`? - Steven Wright': 0.17328679513998632, 'When the human race has once acquired a supersitition nothing short of death is ever likely to remove it. - Mark Twain': 0.6931471805599453, 'The least of things with a meaning is worth more in life than the greatest of things without it. - Carl Jung': 0.34657359027997264, 'Rings and jewels are not gifts but apologies for gifts. The only true gift is a portion of yourself. - Ralph Waldo Emerson': 0.34657359027997264, 'As I would not be a slave, so I would not be a master. This expresses my idea of democracy. Whatever differs from this, to the extent of the difference, is no democracy. - Abraham Lincoln': 0.6931471805599453, 'To me, it`s always a good idea to always carry two sacks of something when you walk around. That way, if anybody says, `Hey, can you give me a hand?,` you can say, `Sorry, got these sacks.` - Jack Handey': 0.46209812037329684, 'A successful marriage requires falling in love many times, always with the same person. - Germaine Greer': 0.6931471805599453}\n",
      "4.10946106911\n"
     ]
    }
   ],
   "source": [
    "#print out the result of mul_word_search\n",
    "start_time = time()\n",
    "print mul_word_search()\n",
    "end_time = time()\n",
    "print end_time - start_time"
   ]
  },
  {
   "cell_type": "code",
   "execution_count": 20,
   "metadata": {
    "collapsed": false
   },
   "outputs": [
    {
     "name": "stdout",
     "output_type": "stream",
     "text": [
      "Total running time 53.3594717979 seconds\n"
     ]
    }
   ],
   "source": [
    "#stop timing and print out total running time\n",
    "end_time0 = time()\n",
    "\n",
    "print \"Total running time\", end_time0 - start_time0, \"seconds\""
   ]
  }
 ],
 "metadata": {
  "kernelspec": {
   "display_name": "Python 2",
   "language": "python",
   "name": "python2"
  },
  "language_info": {
   "codemirror_mode": {
    "name": "ipython",
    "version": 2
   },
   "file_extension": ".py",
   "mimetype": "text/x-python",
   "name": "python",
   "nbconvert_exporter": "python",
   "pygments_lexer": "ipython2",
   "version": "2.7.6"
  }
 },
 "nbformat": 4,
 "nbformat_minor": 0
}
