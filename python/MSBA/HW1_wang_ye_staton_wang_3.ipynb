{
 "cells": [
  {
   "cell_type": "code",
   "execution_count": 1,
   "metadata": {
    "collapsed": true
   },
   "outputs": [],
   "source": [
    "#Problem: The Google of Quotes\n",
    "#Group members: S. Wang, Y. Ye, M. Staton, W. Wang\n",
    "#Version 1.1"
   ]
  },
  {
   "cell_type": "code",
   "execution_count": 2,
   "metadata": {
    "collapsed": false
   },
   "outputs": [],
   "source": [
    "#to access math.log(), and regex functions\n",
    "import math, re\n",
    "#to access collections.Counter() function which counts the occurence of items in a list\n",
    "from collections import Counter\n",
    "#to facilitate timing the script\n",
    "from time import time"
   ]
  },
  {
   "cell_type": "code",
   "execution_count": 3,
   "metadata": {
    "collapsed": false
   },
   "outputs": [],
   "source": [
    "#start timing\n",
    "start_time0 = time()"
   ]
  },
  {
   "cell_type": "code",
   "execution_count": 4,
   "metadata": {
    "collapsed": true
   },
   "outputs": [],
   "source": [
    "#make a handle on the file\n",
    "quotes_file = open(\"quotes.txt\", \"r\")"
   ]
  },
  {
   "cell_type": "code",
   "execution_count": 5,
   "metadata": {
    "collapsed": false
   },
   "outputs": [],
   "source": [
    "#make an empty list to store the quotes\n",
    "quote_list = []\n",
    "\n",
    "#read in one line each time\n",
    "new_line = quotes_file.readline()\n",
    "\n",
    "#join the adjacent two lines to make a full quote\n",
    "while len(new_line) != 0:\n",
    "    \n",
    "    str1, str2 = new_line.strip(\"\\r\\n\"), quotes_file.readline().strip(\"\\r\\n\")\n",
    "        \n",
    "    quote_list.extend([\" - \".join([str1, str2])])\n",
    "    \n",
    "    new_line = quotes_file.readline()"
   ]
  },
  {
   "cell_type": "code",
   "execution_count": 6,
   "metadata": {
    "collapsed": true
   },
   "outputs": [],
   "source": [
    "#for safety, close the handle. This can also be done with \"with open() as handle\"\n",
    "quotes_file.close()"
   ]
  },
  {
   "cell_type": "code",
   "execution_count": 7,
   "metadata": {
    "collapsed": true
   },
   "outputs": [],
   "source": [
    "#this function take one quote and make a list of the unique words in that quote\n",
    "def words_in_quote(quote):\n",
    "    \n",
    "    pattern = \"\\W+\"\n",
    "    \n",
    "    word_list = [word.lower() for word in re.split(pattern, quote)]\n",
    "    \n",
    "    while \"\" in word_list:\n",
    "        \n",
    "        word_list.remove(\"\")\n",
    "        \n",
    "    return word_list"
   ]
  },
  {
   "cell_type": "code",
   "execution_count": 8,
   "metadata": {
    "collapsed": true
   },
   "outputs": [],
   "source": [
    "#define a function to count the occurence of a word in an object which could be a string or list\n",
    "#this hurts performance.\n",
    "#tried *.count() function, but it will return \"happy\".count(\"appy\") returns 1, i.e. it treats string as list\n",
    "def count_ocur(obj, elem):\n",
    "    \n",
    "    count = 0\n",
    "    \n",
    "    if type(obj) == list:\n",
    "        \n",
    "        for i in range(0, len(obj)):\n",
    "\n",
    "            if str(obj[i]).lower() == elem.lower():\n",
    "\n",
    "                count += 1\n",
    "\n",
    "        return count\n",
    "    \n",
    "    elif type(obj) == str:\n",
    "        \n",
    "        obj_list = re.split(\"[^a-zA-Z0-9_]+\", obj.lower())\n",
    "        \n",
    "        for j in range(0, len(obj_list)):\n",
    "            \n",
    "            if obj_list[j] == elem:\n",
    "                \n",
    "                count += 1\n",
    "                \n",
    "        return count\n",
    "    \n",
    "    else:\n",
    "        \n",
    "        return 0"
   ]
  },
  {
   "cell_type": "code",
   "execution_count": 9,
   "metadata": {
    "collapsed": false
   },
   "outputs": [],
   "source": [
    "#define a function to create a posting list given a list of full quotes\n",
    "def postings_list(quotes):\n",
    "    \n",
    "    start_time = time()\n",
    "    \n",
    "    if type(quotes) != list:\n",
    "        \n",
    "        print \"This function only takes list arguments.\"\n",
    "        \n",
    "        return {}\n",
    "    \n",
    "    postings_list_dict = {}\n",
    "                \n",
    "    for pair in [(quote, dict(Counter(words_in_quote(quote)))) for quote in quotes]:\n",
    "        \n",
    "        postings_list_dict[pair[0]] = pair[1]\n",
    "        \n",
    "    end_time = time()\n",
    "    \n",
    "    print end_time - start_time\n",
    "\n",
    "    return postings_list_dict"
   ]
  },
  {
   "cell_type": "code",
   "execution_count": 10,
   "metadata": {
    "collapsed": false
   },
   "outputs": [
    {
     "name": "stdout",
     "output_type": "stream",
     "text": [
      "0.0516781806946\n",
      "0.0529360771179\n"
     ]
    }
   ],
   "source": [
    "start_time = time()\n",
    "postings_list_dict = postings_list(quote_list)\n",
    "end_time = time()\n",
    "print end_time - start_time"
   ]
  },
  {
   "cell_type": "code",
   "execution_count": 25,
   "metadata": {
    "collapsed": false
   },
   "outputs": [],
   "source": [
    "#define a function to create a reverse posting list given a list of full quotes\n",
    "def rev_postings_list(quotes):\n",
    "    \n",
    "    start_time = time()\n",
    "    \n",
    "    if type(quotes) != list:\n",
    "        \n",
    "        print \"This function only takes list arguments.\"\n",
    "        \n",
    "        return {}\n",
    "    \n",
    "    rev_postings_list_dict = {}\n",
    "    \n",
    "    words = []\n",
    "    \n",
    "    start_time_listcomprehension1 = time()\n",
    "\n",
    "    [words.extend(words_in_quote(quote)) for quote in quote_list]\n",
    "\n",
    "    words = Counter(words).keys()\n",
    "    \n",
    "    print \"[words.extend(words_in_quote(quote)) for quote in quote_list] took\", time() - start_time_listcomprehension1, \"seconds.\"\n",
    "\n",
    "    start_time_forloop = time()\n",
    "    \n",
    "    inner_listcomprehension_time = 0\n",
    "    \n",
    "    for word in words:\n",
    "        \n",
    "        start_time_innerloop = time()\n",
    "\n",
    "        quote_word_list = [(quote, words_in_quote(quote).count(word)) for quote in quotes]\n",
    "        \n",
    "        inner_listcomprehension_time += time() - start_time_innerloop\n",
    "\n",
    "        rev_postings_list_dict[word] = {}\n",
    "\n",
    "        for elem in quote_word_list:\n",
    "\n",
    "            if elem[1] > 0:\n",
    "\n",
    "                rev_postings_list_dict[word][elem[0]] = elem[1]\n",
    "                \n",
    "    print \"for loop took:\", time() - start_time_listcomprehension1, \"seconds.\"\n",
    "    \n",
    "    print \"the inner list comprehension took\", inner_listcomprehension_time, \"seconds in total.\"\n",
    "                \n",
    "    end_time = time()\n",
    "    \n",
    "    print end_time - start_time\n",
    "          \n",
    "    return rev_postings_list_dict"
   ]
  },
  {
   "cell_type": "code",
   "execution_count": 26,
   "metadata": {
    "collapsed": false
   },
   "outputs": [
    {
     "name": "stdout",
     "output_type": "stream",
     "text": [
      "[words.extend(words_in_quote(quote)) for quote in quote_list] took 0.0295550823212 seconds.\n",
      "for loop took: 38.349339962 seconds.\n",
      "the inner list comprehension took 38.1204013824 seconds in total.\n",
      "38.3494300842\n",
      "38.3503508568\n"
     ]
    }
   ],
   "source": [
    "#warning: trying printing reverse_postings_list_dict foreshadows disaster!\n",
    "start_time = time()\n",
    "reverse_postings_list_dict = rev_postings_list(quote_list)\n",
    "end_time = time()\n",
    "print end_time - start_time"
   ]
  },
  {
   "cell_type": "code",
   "execution_count": 13,
   "metadata": {
    "collapsed": false
   },
   "outputs": [],
   "source": [
    "#define a function to create a reverse posting list given a list of full quotes\n",
    "def rev_postings_list_2(quotes):\n",
    "    \n",
    "    start_time = time()\n",
    "    \n",
    "    if type(quotes) != list:\n",
    "        \n",
    "        print \"This function only takes list arguments.\"\n",
    "        \n",
    "        return {}\n",
    "    \n",
    "    rev_postings_list_dict = {}\n",
    "    \n",
    "    forward_dict = postings_list(quotes)\n",
    "    \n",
    "    for quote, word_count in forward_dict.items():\n",
    "        \n",
    "        for word, count in word_count.items():\n",
    "            \n",
    "            if word not in rev_postings_list_dict:\n",
    "                \n",
    "                rev_postings_list_dict[word] = {}\n",
    "                \n",
    "                rev_postings_list_dict[word][quote] = count\n",
    "                \n",
    "            else:\n",
    "                \n",
    "                rev_postings_list_dict[word][quote] = count\n",
    "                \n",
    "    end_time = time()\n",
    "    \n",
    "    print end_time - start_time\n",
    "          \n",
    "    return rev_postings_list_dict"
   ]
  },
  {
   "cell_type": "code",
   "execution_count": 14,
   "metadata": {
    "collapsed": false
   },
   "outputs": [
    {
     "name": "stdout",
     "output_type": "stream",
     "text": [
      "0.0328900814056\n",
      "0.0467250347137\n",
      "0.0484478473663\n"
     ]
    }
   ],
   "source": [
    "#warning: trying printing reverse_postings_list_dict foreshadows disaster!\n",
    "start_time = time()\n",
    "reverse_postings_list_dict = rev_postings_list_2(quote_list)\n",
    "end_time = time()\n",
    "print end_time - start_time"
   ]
  },
  {
   "cell_type": "code",
   "execution_count": 15,
   "metadata": {
    "collapsed": false
   },
   "outputs": [],
   "source": [
    "#this function take a tuple of (quote, word) and returns the TF_IDF index of word in quote\n",
    "def tf_idf((quote, word)):\n",
    "    \n",
    "    word = str(word).lower()\n",
    "    \n",
    "    if quote not in postings_list_dict:\n",
    "        \n",
    "        print \"The quote is not found.\"\n",
    "        \n",
    "        return 0\n",
    "    \n",
    "    if word not in reverse_postings_list_dict:\n",
    "                \n",
    "        print \"The word is not found.\"\n",
    "        \n",
    "        return 0\n",
    "    \n",
    "    max_ocur_in_quote = max([value for (key, value) in postings_list_dict[quote].items() ])\n",
    "        \n",
    "    TF = float(count_ocur(quote, word)) / max_ocur_in_quote\n",
    "        \n",
    "    N = len(quote_list)\n",
    "        \n",
    "    n = len([(key, value) for (key, value) in reverse_postings_list_dict[word].items() if value > 0])\n",
    "        \n",
    "    IDF = math.log(float(N/n))\n",
    "        \n",
    "    TF_IDF = TF * IDF\n",
    "        \n",
    "    return TF_IDF"
   ]
  },
  {
   "cell_type": "code",
   "execution_count": 16,
   "metadata": {
    "collapsed": false
   },
   "outputs": [
    {
     "data": {
      "text/plain": [
       "1.0986122886681098"
      ]
     },
     "execution_count": 16,
     "metadata": {},
     "output_type": "execute_result"
    }
   ],
   "source": [
    "tf_idf((\"We are all worms, but I do believe I am a glow-worm. - Winston Churchill\", \"we\"))"
   ]
  },
  {
   "cell_type": "code",
   "execution_count": 17,
   "metadata": {
    "collapsed": false
   },
   "outputs": [
    {
     "name": "stdout",
     "output_type": "stream",
     "text": [
      "3.3933584753\n",
      "0.000403165817261\n"
     ]
    }
   ],
   "source": [
    "#print TF_IDF index of \"entertainer\" in the Marlon Brando quote to verify the result\n",
    "start_time = time()\n",
    "print tf_idf((quote_list[16], \"entertainer\"))\n",
    "end_time = time()\n",
    "print end_time - start_time"
   ]
  },
  {
   "cell_type": "code",
   "execution_count": 18,
   "metadata": {
    "collapsed": true
   },
   "outputs": [],
   "source": [
    "#define a function to search a single word in all quotes\n",
    "def sg_word_search(default_word=\"\"):\n",
    "    \n",
    "    if len(default_word) == 0:\n",
    "        \n",
    "        word = \"\"\n",
    "\n",
    "        while len(word) == 0:\n",
    "\n",
    "            word = str(raw_input(\"Type in a word to search, or \\\"!!!\\\" to quit: \")).lower().strip()\n",
    "\n",
    "            if word == \"!!!\":\n",
    "\n",
    "                print \"See you next time.\"\n",
    "\n",
    "                return {}\n",
    "            \n",
    "    else:\n",
    "        \n",
    "        word = default_word\n",
    "        \n",
    "    search_dict = {}\n",
    "    \n",
    "    if word not in reverse_postings_list_dict:\n",
    "        \n",
    "        print word, \"is not found.\"\n",
    "        \n",
    "        return {}\n",
    "        \n",
    "    retrieved_quotes = [key for (key, value) in reverse_postings_list_dict[word].items() if value > 0]\n",
    "    \n",
    "    for quote in retrieved_quotes:\n",
    "        \n",
    "        search_dict[quote] = tf_idf((quote, word))\n",
    "        \n",
    "        #print word, \" in \", quote, word in quote\n",
    "    \n",
    "    return search_dict"
   ]
  },
  {
   "cell_type": "code",
   "execution_count": 19,
   "metadata": {
    "collapsed": true
   },
   "outputs": [],
   "source": [
    "#this function takes a list of words and return all the quotes containing any of the words\n",
    "#and shows the sum of the TF_IDF index of every word in every quote \n",
    "def mul_word_search():\n",
    "    \n",
    "    words = []\n",
    "    \n",
    "    while True:\n",
    "        \n",
    "        if len(words) == 0:\n",
    "            \n",
    "            text = str(raw_input(\"Type one word and Enter\\n\\\"!!!\\\" >>> quit\\n:\")).lower().strip()\n",
    "        \n",
    "        else:\n",
    "            \n",
    "            text = str(raw_input(\"Type one word and Enter\\n\\\"???\\\" >>> start searching\\n\\\"!!!\\\" >>> quit\\n:\")).lower().strip()\n",
    "        \n",
    "        if text == \"!!!\":\n",
    "            \n",
    "            print \"See you next time.\"\n",
    "            \n",
    "            return {}           \n",
    "        \n",
    "        if text == \"???\" and len(words) > 0:\n",
    "            \n",
    "            break\n",
    "        \n",
    "        else:\n",
    "            \n",
    "            words.extend(text)\n",
    "            \n",
    "            continue\n",
    "            \n",
    "    while \"\" in words:\n",
    "        \n",
    "        words.remove(\"\")\n",
    "        \n",
    "    words = [str(s).lower() for s in words]\n",
    "    \n",
    "    search_dict2 = {}\n",
    "    \n",
    "    retrieved_quotes2_unmerged = map(sg_word_search, words)\n",
    "    \n",
    "    retrieved_quotes2_merged = []\n",
    "    \n",
    "    for i in range(0, len(retrieved_quotes2_unmerged)):\n",
    "        \n",
    "        retrieved_quotes2_merged += retrieved_quotes2_unmerged[i]\n",
    "    \n",
    "    retrieved_quotes2_unique = Counter(retrieved_quotes2_merged).keys()\n",
    "        \n",
    "    for quote in retrieved_quotes2_unique:\n",
    "        \n",
    "        new_params = [(quote, word) for word in words]\n",
    "        \n",
    "        search_dict2[quote] = sum(map(tf_idf, new_params))\n",
    "        \n",
    "    return search_dict2"
   ]
  },
  {
   "cell_type": "code",
   "execution_count": 20,
   "metadata": {
    "collapsed": false
   },
   "outputs": [
    {
     "name": "stdout",
     "output_type": "stream",
     "text": [
      "Type in a word to search, or \"!!!\" to quit: !!!\n",
      "See you next time.\n",
      "3.01573109627\n"
     ]
    }
   ],
   "source": [
    "#print out a sample result of calling sg_word_search on keyword \"and\"\n",
    "#check the length of the returned list to verify the result\n",
    "start_time = time()\n",
    "len(sg_word_search())\n",
    "end_time = time()\n",
    "print end_time - start_time"
   ]
  },
  {
   "cell_type": "code",
   "execution_count": 21,
   "metadata": {
    "collapsed": false
   },
   "outputs": [
    {
     "name": "stdout",
     "output_type": "stream",
     "text": [
      "Type one word and Enter\n",
      "\"!!!\" >>> quit\n",
      ":!!!\n",
      "See you next time.\n",
      "{}\n",
      "1.39723300934\n"
     ]
    }
   ],
   "source": [
    "#print out the result of mul_word_search\n",
    "start_time = time()\n",
    "print mul_word_search()\n",
    "end_time = time()\n",
    "print end_time - start_time"
   ]
  },
  {
   "cell_type": "code",
   "execution_count": 22,
   "metadata": {
    "collapsed": false
   },
   "outputs": [
    {
     "name": "stdout",
     "output_type": "stream",
     "text": [
      "Total running time 45.8380110264 seconds\n"
     ]
    }
   ],
   "source": [
    "#stop timing and print out total running time\n",
    "end_time0 = time()\n",
    "\n",
    "print \"Total running time\", end_time0 - start_time0, \"seconds\""
   ]
  }
 ],
 "metadata": {
  "kernelspec": {
   "display_name": "Python 2",
   "language": "python",
   "name": "python2"
  },
  "language_info": {
   "codemirror_mode": {
    "name": "ipython",
    "version": 2
   },
   "file_extension": ".py",
   "mimetype": "text/x-python",
   "name": "python",
   "nbconvert_exporter": "python",
   "pygments_lexer": "ipython2",
   "version": "2.7.6"
  }
 },
 "nbformat": 4,
 "nbformat_minor": 0
}
